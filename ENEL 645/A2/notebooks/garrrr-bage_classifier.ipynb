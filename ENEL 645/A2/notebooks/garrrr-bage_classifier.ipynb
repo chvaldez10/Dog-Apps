{
 "cells": [
  {
   "cell_type": "markdown",
   "metadata": {},
   "source": [
    "## Garbage Classifier 🗑️ 🚮 🚯"
   ]
  },
  {
   "cell_type": "markdown",
   "metadata": {},
   "source": [
    "### ⚙️ Setup"
   ]
  },
  {
   "cell_type": "code",
   "execution_count": 46,
   "metadata": {},
   "outputs": [],
   "source": [
    "# Import libraries\n",
    "import os\n",
    "from dotenv import load_dotenv\n",
    "from torchvision import transforms"
   ]
  },
  {
   "cell_type": "code",
   "execution_count": 47,
   "metadata": {},
   "outputs": [],
   "source": [
    "# Reload for caching\n",
    "from importlib import reload\n",
    "import src.dataset as dataset\n",
    "reload(dataset)\n",
    "import src.dataset_loader as dataset_loader\n",
    "reload(dataset_loader)\n",
    "\n",
    "from src.dataset import BaseDataset\n",
    "from src.dataset_loader import list_data_and_prepare_labels, split_data"
   ]
  },
  {
   "cell_type": "code",
   "execution_count": 48,
   "metadata": {},
   "outputs": [
    {
     "data": {
      "text/plain": [
       "True"
      ]
     },
     "execution_count": 48,
     "metadata": {},
     "output_type": "execute_result"
    }
   ],
   "source": [
    "# get file directory\n",
    "curr_dir = os.getcwd()\n",
    "\n",
    "# load dataset_path\n",
    "dotenv_path = os.path.join(curr_dir, \".env\")\n",
    "load_dotenv(dotenv_path)"
   ]
  },
  {
   "cell_type": "code",
   "execution_count": 49,
   "metadata": {},
   "outputs": [],
   "source": [
    "# Constants\n",
    "DEFAULT_EPOCHS = 12\n",
    "TEST_SPLIT = 0.2\n",
    "VAL_SPLIT = 0.2\n",
    "BATCH_SIZE = 64"
   ]
  },
  {
   "cell_type": "code",
   "execution_count": 50,
   "metadata": {},
   "outputs": [
    {
     "data": {
      "text/plain": [
       "'D:/chris/Documents/UofC/MEng Soft/winter/ENEL 645/ENEL 645/ENEL 645/A2/small_dataset'"
      ]
     },
     "execution_count": 50,
     "metadata": {},
     "output_type": "execute_result"
    }
   ],
   "source": [
    "# Variables\n",
    "dataset_path = os.getenv(\"DATASET_LOCAL_PATH\")\n",
    "normalized_path = dataset_path\n",
    "normalized_path"
   ]
  },
  {
   "cell_type": "markdown",
   "metadata": {},
   "source": [
    "### ↻ Data Loader"
   ]
  },
  {
   "cell_type": "code",
   "execution_count": 51,
   "metadata": {},
   "outputs": [],
   "source": [
    "# get dataset\n",
    "images_path = normalized_path + \"/**/*.png\"\n",
    "images, labels_int, classes = list_data_and_prepare_labels(images_path)"
   ]
  },
  {
   "cell_type": "code",
   "execution_count": 52,
   "metadata": {},
   "outputs": [],
   "source": [
    "# split dataset\n",
    "all_dataset = split_data(images, labels_int, VAL_SPLIT, TEST_SPLIT)\n",
    "train_set = all_dataset[\"Train\"]\n",
    "val_set = all_dataset[\"Validation\"]\n",
    "test_set = all_dataset[\"Validation\"]"
   ]
  },
  {
   "cell_type": "code",
   "execution_count": 53,
   "metadata": {},
   "outputs": [],
   "source": [
    "# apply transforms\n",
    "torch_vision_transform = transforms.Compose([\n",
    "    transforms.Resize((256, 256)), \n",
    "    transforms.RandomHorizontalFlip(),\n",
    "    transforms.RandomVerticalFlip(),\n",
    "    transforms.ToTensor(),\n",
    "    transforms.Normalize(\n",
    "        mean=[0.4120, 0.3768, 0.3407],\n",
    "        std=[0.2944, 0.2759, 0.2598],\n",
    "    )\n",
    "])\n",
    "\n",
    "torch_vision_transform_test = transforms.Compose([\n",
    "    transforms.Resize((256, 256)), \n",
    "    transforms.ToTensor(),\n",
    "    transforms.Normalize(\n",
    "        mean=[0.4120, 0.3768, 0.3407],\n",
    "        std=[0.2944, 0.2759, 0.2598],\n",
    "    )\n",
    "])"
   ]
  },
  {
   "cell_type": "code",
   "execution_count": 54,
   "metadata": {},
   "outputs": [],
   "source": [
    "# Get the data loader for the train set\n",
    "train_loader = BaseDataset(train_set, transform= torch_vision_transform)\n",
    "\n",
    "val_loader = BaseDataset(val_set, transform= torch_vision_transform)\n",
    "\n",
    "test_loader = BaseDataset(test_set, transform= torch_vision_transform_test)"
   ]
  },
  {
   "cell_type": "markdown",
   "metadata": {},
   "source": [
    "### Deep Learning"
   ]
  },
  {
   "cell_type": "code",
   "execution_count": null,
   "metadata": {},
   "outputs": [],
   "source": []
  },
  {
   "cell_type": "code",
   "execution_count": null,
   "metadata": {},
   "outputs": [],
   "source": []
  }
 ],
 "metadata": {
  "kernelspec": {
   "display_name": "calgary_di",
   "language": "python",
   "name": "python3"
  },
  "language_info": {
   "codemirror_mode": {
    "name": "ipython",
    "version": 3
   },
   "file_extension": ".py",
   "mimetype": "text/x-python",
   "name": "python",
   "nbconvert_exporter": "python",
   "pygments_lexer": "ipython3",
   "version": "3.11.7"
  }
 },
 "nbformat": 4,
 "nbformat_minor": 2
}
