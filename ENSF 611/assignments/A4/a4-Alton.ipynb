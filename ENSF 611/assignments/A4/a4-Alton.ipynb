{
 "cells": [
  {
   "cell_type": "markdown",
   "id": "92778525",
   "metadata": {},
   "source": [
    "# Assignment 4: Pipelines and Hyperparameter Tuning (32 total marks)\n",
    "### Due: November 22 at 11:59pm\n",
    "\n",
    "### Name:  ALTON WONG 30201904"
   ]
  },
  {
   "cell_type": "markdown",
   "id": "ce31b39a",
   "metadata": {},
   "source": [
    "### In this assignment, you will be putting together everything you have learned so far. You will need to find your own dataset, do all the appropriate preprocessing, test different supervised learning models and evaluate the results. More details for each step can be found below.\n",
    "\n",
    "### You will also be asked to describe the process by which you came up with the code. More details can be found below. Please cite any websites or AI tools that you used to help you with this assignment."
   ]
  },
  {
   "cell_type": "markdown",
   "id": "cf275ca7",
   "metadata": {},
   "source": [
    "## Import Libraries"
   ]
  },
  {
   "cell_type": "code",
   "execution_count": 13,
   "id": "2b67a661",
   "metadata": {},
   "outputs": [],
   "source": [
    "import numpy as np\n",
    "import pandas as pd\n",
    "import matplotlib.pyplot as plt\n",
    "import seaborn as sns\n",
    "\n",
    "import mglearn \n",
    "\n",
    "import calendar\n",
    "from datetime import datetime"
   ]
  },
  {
   "cell_type": "markdown",
   "id": "8219f163",
   "metadata": {},
   "source": [
    "## Step 1: Data Input (4 marks)\n",
    "\n",
    "Import the dataset you will be using. You can download the dataset onto your computer and read it in using pandas, or download it directly from the website. Answer the questions below about the dataset you selected. \n",
    "\n",
    "To find a dataset, you can use the resources listed in the notes. The dataset can be numerical, categorical, text-based or mixed. If you want help finding a particular dataset related to your interests, please email the instructor.\n",
    "\n",
    "**You cannot use a dataset that was used for a previous assignment or in class**"
   ]
  },
  {
   "cell_type": "code",
   "execution_count": 14,
   "id": "2af8bd32",
   "metadata": {},
   "outputs": [
    {
     "data": {
      "text/html": [
       "<div>\n",
       "<style scoped>\n",
       "    .dataframe tbody tr th:only-of-type {\n",
       "        vertical-align: middle;\n",
       "    }\n",
       "\n",
       "    .dataframe tbody tr th {\n",
       "        vertical-align: top;\n",
       "    }\n",
       "\n",
       "    .dataframe thead th {\n",
       "        text-align: right;\n",
       "    }\n",
       "</style>\n",
       "<table border=\"1\" class=\"dataframe\">\n",
       "  <thead>\n",
       "    <tr style=\"text-align: right;\">\n",
       "      <th></th>\n",
       "      <th>id</th>\n",
       "      <th>vendor_id</th>\n",
       "      <th>pickup_datetime</th>\n",
       "      <th>dropoff_datetime</th>\n",
       "      <th>passenger_count</th>\n",
       "      <th>pickup_longitude</th>\n",
       "      <th>pickup_latitude</th>\n",
       "      <th>dropoff_longitude</th>\n",
       "      <th>dropoff_latitude</th>\n",
       "      <th>store_and_fwd_flag</th>\n",
       "      <th>trip_duration</th>\n",
       "    </tr>\n",
       "  </thead>\n",
       "  <tbody>\n",
       "    <tr>\n",
       "      <th>571578</th>\n",
       "      <td>id2141905</td>\n",
       "      <td>2</td>\n",
       "      <td>2016-03-31 16:04:41</td>\n",
       "      <td>2016-03-31 16:06:34</td>\n",
       "      <td>1</td>\n",
       "      <td>-73.971916</td>\n",
       "      <td>40.757042</td>\n",
       "      <td>-73.974663</td>\n",
       "      <td>40.753624</td>\n",
       "      <td>N</td>\n",
       "      <td>113</td>\n",
       "    </tr>\n",
       "    <tr>\n",
       "      <th>1280332</th>\n",
       "      <td>id0996953</td>\n",
       "      <td>2</td>\n",
       "      <td>2016-04-21 21:54:52</td>\n",
       "      <td>2016-04-21 22:28:49</td>\n",
       "      <td>2</td>\n",
       "      <td>-73.961891</td>\n",
       "      <td>40.771061</td>\n",
       "      <td>-73.906311</td>\n",
       "      <td>40.908562</td>\n",
       "      <td>N</td>\n",
       "      <td>2037</td>\n",
       "    </tr>\n",
       "    <tr>\n",
       "      <th>177838</th>\n",
       "      <td>id1572284</td>\n",
       "      <td>1</td>\n",
       "      <td>2016-03-30 11:26:24</td>\n",
       "      <td>2016-03-30 11:56:35</td>\n",
       "      <td>3</td>\n",
       "      <td>-74.010338</td>\n",
       "      <td>40.711674</td>\n",
       "      <td>-73.957047</td>\n",
       "      <td>40.777634</td>\n",
       "      <td>N</td>\n",
       "      <td>1811</td>\n",
       "    </tr>\n",
       "    <tr>\n",
       "      <th>1433776</th>\n",
       "      <td>id0103694</td>\n",
       "      <td>1</td>\n",
       "      <td>2016-03-06 20:07:45</td>\n",
       "      <td>2016-03-06 20:24:02</td>\n",
       "      <td>1</td>\n",
       "      <td>-74.005898</td>\n",
       "      <td>40.740093</td>\n",
       "      <td>-73.992287</td>\n",
       "      <td>40.758511</td>\n",
       "      <td>N</td>\n",
       "      <td>977</td>\n",
       "    </tr>\n",
       "    <tr>\n",
       "      <th>757662</th>\n",
       "      <td>id2548956</td>\n",
       "      <td>1</td>\n",
       "      <td>2016-04-06 13:45:10</td>\n",
       "      <td>2016-04-06 13:50:52</td>\n",
       "      <td>1</td>\n",
       "      <td>-74.011063</td>\n",
       "      <td>40.715599</td>\n",
       "      <td>-74.005035</td>\n",
       "      <td>40.720966</td>\n",
       "      <td>N</td>\n",
       "      <td>342</td>\n",
       "    </tr>\n",
       "  </tbody>\n",
       "</table>\n",
       "</div>"
      ],
      "text/plain": [
       "                id  vendor_id      pickup_datetime     dropoff_datetime  \\\n",
       "571578   id2141905          2  2016-03-31 16:04:41  2016-03-31 16:06:34   \n",
       "1280332  id0996953          2  2016-04-21 21:54:52  2016-04-21 22:28:49   \n",
       "177838   id1572284          1  2016-03-30 11:26:24  2016-03-30 11:56:35   \n",
       "1433776  id0103694          1  2016-03-06 20:07:45  2016-03-06 20:24:02   \n",
       "757662   id2548956          1  2016-04-06 13:45:10  2016-04-06 13:50:52   \n",
       "\n",
       "         passenger_count  pickup_longitude  pickup_latitude  \\\n",
       "571578                 1        -73.971916        40.757042   \n",
       "1280332                2        -73.961891        40.771061   \n",
       "177838                 3        -74.010338        40.711674   \n",
       "1433776                1        -74.005898        40.740093   \n",
       "757662                 1        -74.011063        40.715599   \n",
       "\n",
       "         dropoff_longitude  dropoff_latitude store_and_fwd_flag  trip_duration  \n",
       "571578          -73.974663         40.753624                  N            113  \n",
       "1280332         -73.906311         40.908562                  N           2037  \n",
       "177838          -73.957047         40.777634                  N           1811  \n",
       "1433776         -73.992287         40.758511                  N            977  \n",
       "757662          -74.005035         40.720966                  N            342  "
      ]
     },
     "execution_count": 14,
     "metadata": {},
     "output_type": "execute_result"
    }
   ],
   "source": [
    "# Import dataset (1 mark)\n",
    "taxi_df = pd.read_csv(\"train.csv\")\n",
    "taxi_df = taxi_df.sample(frac=0.001, random_state=0) #Reduce size of dataset to run GridSearchCV\n",
    "taxi_df.head()"
   ]
  },
  {
   "cell_type": "markdown",
   "id": "20316765",
   "metadata": {},
   "source": [
    "### Questions (3 marks)\n",
    "\n",
    "1. (1 mark) What is the source of your dataset? \n",
    "1. (1 mark) Why did you pick this particular dataset?\n",
    "1. (1 mark) Was there anything challenging about finding a dataset that you wanted to use?\n",
    "\n",
    "*ANSWER HERE*\n",
    "\n",
    "This data set was sourced from Kaggle. (https://www.kaggle.com/competitions/nyc-taxi-trip-duration/overview)\n",
    "\n",
    "I picked this dataset because I am currently using it for a project in ENSF 612.\n",
    "\n",
    "There were no challenges in finding a dataset to use because I was already kind of familiar with this dataset. "
   ]
  },
  {
   "cell_type": "markdown",
   "id": "42fea4cc",
   "metadata": {},
   "source": [
    "## Step 2: Data Processing (5 marks)\n",
    "\n",
    "The next step is to process your data. Implement the following steps as needed."
   ]
  },
  {
   "cell_type": "code",
   "execution_count": 15,
   "id": "afc244d4",
   "metadata": {},
   "outputs": [
    {
     "name": "stdout",
     "output_type": "stream",
     "text": [
      "There are: 0 null values\n"
     ]
    },
    {
     "data": {
      "text/html": [
       "<div>\n",
       "<style scoped>\n",
       "    .dataframe tbody tr th:only-of-type {\n",
       "        vertical-align: middle;\n",
       "    }\n",
       "\n",
       "    .dataframe tbody tr th {\n",
       "        vertical-align: top;\n",
       "    }\n",
       "\n",
       "    .dataframe thead th {\n",
       "        text-align: right;\n",
       "    }\n",
       "</style>\n",
       "<table border=\"1\" class=\"dataframe\">\n",
       "  <thead>\n",
       "    <tr style=\"text-align: right;\">\n",
       "      <th></th>\n",
       "      <th>pickup_longitude</th>\n",
       "      <th>pickup_latitude</th>\n",
       "      <th>dropoff_longitude</th>\n",
       "      <th>dropoff_latitude</th>\n",
       "      <th>trip_duration</th>\n",
       "      <th>day_of_week</th>\n",
       "      <th>distance_km</th>\n",
       "    </tr>\n",
       "  </thead>\n",
       "  <tbody>\n",
       "    <tr>\n",
       "      <th>571578</th>\n",
       "      <td>-73.971916</td>\n",
       "      <td>40.757042</td>\n",
       "      <td>-73.974663</td>\n",
       "      <td>40.753624</td>\n",
       "      <td>113</td>\n",
       "      <td>3</td>\n",
       "      <td>0.444935</td>\n",
       "    </tr>\n",
       "    <tr>\n",
       "      <th>1280332</th>\n",
       "      <td>-73.961891</td>\n",
       "      <td>40.771061</td>\n",
       "      <td>-73.906311</td>\n",
       "      <td>40.908562</td>\n",
       "      <td>2037</td>\n",
       "      <td>3</td>\n",
       "      <td>15.988325</td>\n",
       "    </tr>\n",
       "    <tr>\n",
       "      <th>177838</th>\n",
       "      <td>-74.010338</td>\n",
       "      <td>40.711674</td>\n",
       "      <td>-73.957047</td>\n",
       "      <td>40.777634</td>\n",
       "      <td>1811</td>\n",
       "      <td>2</td>\n",
       "      <td>8.599361</td>\n",
       "    </tr>\n",
       "    <tr>\n",
       "      <th>1433776</th>\n",
       "      <td>-74.005898</td>\n",
       "      <td>40.740093</td>\n",
       "      <td>-73.992287</td>\n",
       "      <td>40.758511</td>\n",
       "      <td>977</td>\n",
       "      <td>6</td>\n",
       "      <td>2.347030</td>\n",
       "    </tr>\n",
       "    <tr>\n",
       "      <th>757662</th>\n",
       "      <td>-74.011063</td>\n",
       "      <td>40.715599</td>\n",
       "      <td>-74.005035</td>\n",
       "      <td>40.720966</td>\n",
       "      <td>342</td>\n",
       "      <td>2</td>\n",
       "      <td>0.783716</td>\n",
       "    </tr>\n",
       "  </tbody>\n",
       "</table>\n",
       "</div>"
      ],
      "text/plain": [
       "         pickup_longitude  pickup_latitude  dropoff_longitude  \\\n",
       "571578         -73.971916        40.757042         -73.974663   \n",
       "1280332        -73.961891        40.771061         -73.906311   \n",
       "177838         -74.010338        40.711674         -73.957047   \n",
       "1433776        -74.005898        40.740093         -73.992287   \n",
       "757662         -74.011063        40.715599         -74.005035   \n",
       "\n",
       "         dropoff_latitude  trip_duration  day_of_week  distance_km  \n",
       "571578          40.753624            113            3     0.444935  \n",
       "1280332         40.908562           2037            3    15.988325  \n",
       "177838          40.777634           1811            2     8.599361  \n",
       "1433776         40.758511            977            6     2.347030  \n",
       "757662          40.720966            342            2     0.783716  "
      ]
     },
     "execution_count": 15,
     "metadata": {},
     "output_type": "execute_result"
    }
   ],
   "source": [
    "# Clean data (if needed)\n",
    "print(f\"There are: {taxi_df.isnull().sum().sum()} null values\")\n",
    "\n",
    "\n",
    "#creating column for day of the week\n",
    "taxi_df['pickup_datetime'] = pd.to_datetime(taxi_df['pickup_datetime'])\n",
    "taxi_df['day_of_week'] = taxi_df['pickup_datetime'].dt.dayofweek\n",
    "\n",
    "#creating column for distance travelled based off Haversine formula\n",
    "def haversine_distance(lat1, lon1, lat2, lon2):\n",
    "    #Radius of the Earth in km\n",
    "    R = 6371.0\n",
    "\n",
    "    lat1_rad = np.radians(lat1)\n",
    "    lon1_rad = np.radians(lon1)\n",
    "    lat2_rad = np.radians(lat2)\n",
    "    lon2_rad = np.radians(lon2)\n",
    "\n",
    "    #Difference in coordinates\n",
    "    dlat = lat2_rad - lat1_rad\n",
    "    dlon = lon2_rad - lon1_rad\n",
    "\n",
    "    # Haversine formula\n",
    "    a = np.sin(dlat / 2)**2 + np.cos(lat1_rad) * np.cos(lat2_rad) * np.sin(dlon / 2)**2\n",
    "    c = 2 * np.arctan2(np.sqrt(a), np.sqrt(1 - a))\n",
    "    \n",
    "    # Distance in kilometers\n",
    "    distance = R * c\n",
    "\n",
    "    return distance\n",
    "\n",
    "taxi_df['distance_km'] = taxi_df.apply(lambda row: haversine_distance(row['dropoff_latitude'], row['dropoff_longitude'],\n",
    "                                                          row['pickup_latitude'], row['pickup_longitude']), axis = 1)\n",
    "\n",
    "\n",
    "#dropping unimportant features\n",
    "taxi_df.drop([\"vendor_id\", \"passenger_count\", \"id\", \"store_and_fwd_flag\",\"pickup_datetime\",\"dropoff_datetime\"], axis = 1, inplace=True)\n",
    "\n",
    "taxi_df.head()"
   ]
  },
  {
   "cell_type": "code",
   "execution_count": 16,
   "id": "70a8c127",
   "metadata": {},
   "outputs": [
    {
     "name": "stdout",
     "output_type": "stream",
     "text": [
      "(1459, 6)\n"
     ]
    }
   ],
   "source": [
    "# Implement preprocessing steps. Remember to use ColumnTransformer if more than one preprocessing method is needed\n",
    "X = taxi_df.drop([\"distance_km\"], axis = 1)\n",
    "y = taxi_df['distance_km']\n",
    "print(X.shape)\n"
   ]
  },
  {
   "cell_type": "markdown",
   "id": "b92c46b7",
   "metadata": {},
   "source": [
    "### Questions (2 marks)\n",
    "\n",
    "1. (1 mark) Were there any missing/null values in your dataset? If yes, how did you replace them and why? If no, describe how you would've replaced them and why.\n",
    "2. (1 mark) What type of data do you have? What preprocessing methods would you have to apply based on your data types?\n",
    "\n",
    "*ANSWER HERE*\n",
    "\n",
    "No there are no missing null values in the dataset. However if there were any null values I would simply drop them as this is a very very large dataset, so missing a few rows of information would not be detrimental.\n",
    "\n",
    "It is all numerical data. Below I apply standard scaling into my pipeline."
   ]
  },
  {
   "cell_type": "markdown",
   "id": "2a245d00",
   "metadata": {},
   "source": [
    "## Step 3: Implement Machine Learning Model (11 marks)\n",
    "\n",
    "In this section, you will implement three different supervised learning models (one linear and two non-linear) of your choice. You will use a pipeline to help you decide which model and hyperparameters work best. It is up to you to select what models to use and what hyperparameters to test. You can use the class examples for guidance. You must print out the best model parameters and results after the grid search."
   ]
  },
  {
   "cell_type": "code",
   "execution_count": 17,
   "id": "5558a776",
   "metadata": {},
   "outputs": [
    {
     "name": "stdout",
     "output_type": "stream",
     "text": [
      "Best grid estimator: Pipeline(steps=[('preprocessing', StandardScaler()),\n",
      "                ('regressor',\n",
      "                 RandomForestRegressor(max_depth=9, random_state=43))])\n",
      "Best grid parameters: {'regressor': RandomForestRegressor(max_depth=9, random_state=43), 'regressor__max_depth': 9, 'regressor__n_estimators': 100}\n",
      "Cross-Validation accuracy 0.91\n"
     ]
    }
   ],
   "source": [
    "# Implement pipeline and grid search here. Can add more code blocks if necessary\n",
    "from sklearn.model_selection import train_test_split, GridSearchCV\n",
    "from sklearn.pipeline import Pipeline\n",
    "from sklearn.linear_model import LinearRegression\n",
    "from sklearn.svm import SVR\n",
    "from sklearn.ensemble import RandomForestRegressor\n",
    "from sklearn.preprocessing import StandardScaler\n",
    "\n",
    "\n",
    "X_train, X_test, y_train, y_test = train_test_split(X, y , random_state = 0)\n",
    "\n",
    "pipe = Pipeline([\n",
    "    ('preprocessing', StandardScaler()),\n",
    "    ('regressor', LinearRegression()) \n",
    "])\n",
    "\n",
    "\n",
    "param_grid = [\n",
    "    {\n",
    "        'regressor': [LinearRegression()]\n",
    "    },\n",
    "    {\n",
    "        'regressor': [RandomForestRegressor(random_state=43)],\n",
    "        'regressor__max_depth': [3, 5, 7, 9],\n",
    "        'regressor__n_estimators': [10, 50, 100]  \n",
    "    },\n",
    "    {\n",
    "        'regressor': [SVR(kernel='linear')],\n",
    "        'regressor__C': [0.01, 0.1, 1.0, 10.0]\n",
    "    }\n",
    "]\n",
    "grid = GridSearchCV(pipe, param_grid, cv=5)\n",
    "grid.fit(X_train, y_train)\n",
    "print(f'Best grid estimator: {grid.best_estimator_ }')\n",
    "print(f'Best grid parameters: {grid.best_params_}')\n",
    "print(f'Cross-Validation accuracy {grid.best_score_:.2f}')\n"
   ]
  },
  {
   "cell_type": "markdown",
   "id": "3dbd7075",
   "metadata": {},
   "source": [
    "### Questions (5 marks)\n",
    "\n",
    "1. (1 mark) Do you need regression or classification models for your dataset?\n",
    "1. (2 marks) Which models did you select for testing and why?\n",
    "1. (2 marks) Which model worked the best? Does this make sense based on the theory discussed in the course and the context of your dataset?\n",
    "\n",
    "*ANSWER HERE*\n",
    "\n",
    "1. I need to use regression for this dataset, as it is trying to predict travel times.\n",
    "\n",
    "2. Linear regression is a good quick and simple baseline model to try. Random Forest Regressor can capture any non-linear relationships between features and the target variable. Lastly, SVR can also capture non-linear relationships. The non-linear regression models are beneficial as they hae different parameters that can be tuned and tested by GridSearchCV.\n",
    "\n",
    "3. Random Forest Regressor worked best. This makes sense as RFG can take advantage of the non-linear relationship such as day of the week the traffic is in. and it has different parameters that can be tuned to make the model more complex if required."
   ]
  },
  {
   "cell_type": "markdown",
   "id": "3f994e31",
   "metadata": {},
   "source": [
    "## Step 4: Validate Model (6 marks)\n",
    "\n",
    "Use the testing set to calculate the testing accuracy for the best model determined in Step 3."
   ]
  },
  {
   "cell_type": "code",
   "execution_count": 18,
   "id": "69e64c08",
   "metadata": {},
   "outputs": [
    {
     "name": "stdout",
     "output_type": "stream",
     "text": [
      "Test accuracy 0.89\n"
     ]
    }
   ],
   "source": [
    "# Calculate testing accuracy (1 mark)\n",
    "print(f'Test accuracy {grid.score(X_test, y_test):.2f}')"
   ]
  },
  {
   "cell_type": "markdown",
   "id": "1e4529ba",
   "metadata": {},
   "source": [
    "\n",
    "### Questions (5 marks)\n",
    "\n",
    "1. (1 mark) Which accuracy metric did you choose? \n",
    "1. (1 mark) How do these results compare to those in part 3? Did this model generalize well?\n",
    "1. (3 marks) Based on your results and the context of your dataset, did the best model perform \"well enough\" to be used out in the real-world? Why or why not? Do you have any suggestions for how you could improve this analysis?\n",
    "\n",
    "*ANSWER HERE*\n",
    "\n",
    "1. I chose R2 score as the accurracy metric.\n",
    "\n",
    "1. The test accuracy is slightly lower than the cross-validation accuracy, butoverall the model did generalize well.\n",
    "\n",
    "1. The best model does perform \"well enough\" to be used in the real world. Especially since the dataset is focused on something like estimating taxi travel times inside NYC, it is not like predicting if someone has a heart disease or not. To improve analysis, we could probably do some more feature engineering or further hyperparameter tuning."
   ]
  },
  {
   "cell_type": "markdown",
   "id": "37b238f4",
   "metadata": {},
   "source": [
    "## Process Description (4 marks)\n",
    "Please describe the process you used to create your code. Cite any websites or generative AI tools used. You can use the following questions as guidance:\n",
    "1. Where did you source your code?\n",
    "1. In what order did you complete the steps?\n",
    "1. If you used generative AI, what prompts did you use? Did you need to modify the code at all? Why or why not?\n",
    "1. Did you have any challenges? If yes, what were they? If not, what helped you to be successful?"
   ]
  },
  {
   "cell_type": "markdown",
   "id": "93097bfe",
   "metadata": {},
   "source": [
    "*DESCRIBE YOUR PROCESS HERE*"
   ]
  },
  {
   "cell_type": "markdown",
   "id": "cd97b6ac",
   "metadata": {},
   "source": [
    "## Reflection (2 marks)\n",
    "Include a sentence or two about:\n",
    "- what you liked or disliked,\n",
    "- found interesting, confusing, challenging, motivating\n",
    "while working on this assignment.\n",
    "\n",
    "\n",
    "*ADD YOUR THOUGHTS HERE*"
   ]
  },
  {
   "cell_type": "code",
   "execution_count": null,
   "id": "241c3b12",
   "metadata": {},
   "outputs": [],
   "source": []
  }
 ],
 "metadata": {
  "kernelspec": {
   "display_name": "Python 3 (ipykernel)",
   "language": "python",
   "name": "python3"
  },
  "language_info": {
   "codemirror_mode": {
    "name": "ipython",
    "version": 3
   },
   "file_extension": ".py",
   "mimetype": "text/x-python",
   "name": "python",
   "nbconvert_exporter": "python",
   "pygments_lexer": "ipython3",
   "version": "3.11.5"
  }
 },
 "nbformat": 4,
 "nbformat_minor": 5
}
