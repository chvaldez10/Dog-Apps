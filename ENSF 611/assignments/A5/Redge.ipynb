{
  "cells": [
    {
      "cell_type": "markdown",
      "id": "87fee377",
      "metadata": {
        "id": "87fee377"
      },
      "source": [
        "# Assignment 5: PCA and Clustering (40 marks)\n",
        "### Due: December 6 at 11:59pm\n",
        "(Dropbox will remain open until December 8 at 11:59pm)\n",
        "\n",
        "### Name:"
      ]
    },
    {
      "cell_type": "markdown",
      "id": "ba7f05d0",
      "metadata": {
        "id": "ba7f05d0"
      },
      "source": [
        "The purpose of this assignment is to practice using PCA and clustering techniques on a given dataset."
      ]
    },
    {
      "cell_type": "code",
      "execution_count": 1,
      "id": "be4299ae",
      "metadata": {
        "id": "be4299ae"
      },
      "outputs": [],
      "source": [
        "import numpy as np\n",
        "import pandas as pd\n",
        "import matplotlib.pyplot as plt\n",
        "import seaborn as sns\n",
        "\n",
        "import re\n",
        "from sklearn.model_selection import train_test_split\n",
        "\n",
        "from sklearn.preprocessing import MinMaxScaler, StandardScaler\n",
        "\n",
        "from sklearn.linear_model import LogisticRegression\n",
        "\n",
        "from sklearn.model_selection import GridSearchCV\n",
        "\n",
        "from sklearn.decomposition import PCA\n",
        "\n",
        "from yellowbrick.cluster.elbow import kelbow_visualizer\n",
        "from sklearn.cluster import KMeans\n",
        "from sklearn.metrics import silhouette_score, calinski_harabasz_score, davies_bouldin_score"
      ]
    },
    {
      "cell_type": "markdown",
      "id": "3c84e8e3",
      "metadata": {
        "id": "3c84e8e3"
      },
      "source": [
        "## Part 1: Principle Component Analysis (PCA) (18 marks)"
      ]
    },
    {
      "cell_type": "markdown",
      "id": "fe7cfa4f",
      "metadata": {
        "id": "fe7cfa4f"
      },
      "source": [
        "### Step 1. Load data (2 marks)\n",
        "\n",
        "You have been asked by an agricultural company to help them predict the type of wheat based on kernel characteristics. You have been given all the information you need in the seeds_dataset.txt file on D2L. The original dataset can be found [here](https://archive.ics.uci.edu/dataset/236/seeds)\n",
        "\n",
        "The first step is to read in the file using pandas and inspect the first few columns. Note that the data is in a text file, so the separator is different compared to a csv file."
      ]
    },
    {
      "cell_type": "code",
      "execution_count": 32,
      "id": "xuGEaGU9BNkZ",
      "metadata": {
        "id": "xuGEaGU9BNkZ"
      },
      "outputs": [],
      "source": [
        "# column names\n",
        "\n",
        "column_names = \"\"\"\n",
        "area A,\n",
        "perimeter P,\n",
        "compactness C = 4*pi*A/P^2,\n",
        "length of kernel,\n",
        "width of kernel,\n",
        "asymmetry coefficient,\n",
        "length of kernel groove,\n",
        "Target\n",
        "\"\"\""
      ]
    },
    {
      "cell_type": "code",
      "execution_count": 33,
      "id": "DW80mnYlBNkZ",
      "metadata": {
        "colab": {
          "base_uri": "https://localhost:8080/",
          "height": 156
        },
        "id": "DW80mnYlBNkZ",
        "outputId": "a2b61cc7-bcc1-4bda-ad51-4003a8a61bf3"
      },
      "outputs": [
        {
          "data": {
            "text/plain": [
              "['area A',\n",
              " 'perimeter P',\n",
              " 'compactness C = 4*pi*A/P^2',\n",
              " 'length of kernel',\n",
              " 'width of kernel',\n",
              " 'asymmetry coefficient',\n",
              " 'length of kernel groove',\n",
              " 'Target']"
            ]
          },
          "metadata": {},
          "output_type": "display_data"
        }
      ],
      "source": [
        "cleaned_str = re.sub(r'^\\d+\\.\\s*', '', column_names)  # Use column_names instead of str\n",
        "cleaned_str = cleaned_str.strip()\n",
        "# Strip leading/trailing spaces and split by commas to create a list of column names\n",
        "column_names_list = [name.strip() for name in cleaned_str.split(',')]\n",
        "display(column_names_list)"
      ]
    },
    {
      "cell_type": "code",
      "execution_count": 34,
      "id": "474481f1",
      "metadata": {
        "colab": {
          "base_uri": "https://localhost:8080/",
          "height": 424
        },
        "id": "474481f1",
        "outputId": "f849a623-c715-4e1e-f179-b14075bf26bc"
      },
      "outputs": [
        {
          "data": {
            "text/html": [
              "\n",
              "  <div id=\"df-55acda84-33e9-4e40-8fc8-6a611e088fe0\" class=\"colab-df-container\">\n",
              "    <div>\n",
              "<style scoped>\n",
              "    .dataframe tbody tr th:only-of-type {\n",
              "        vertical-align: middle;\n",
              "    }\n",
              "\n",
              "    .dataframe tbody tr th {\n",
              "        vertical-align: top;\n",
              "    }\n",
              "\n",
              "    .dataframe thead th {\n",
              "        text-align: right;\n",
              "    }\n",
              "</style>\n",
              "<table border=\"1\" class=\"dataframe\">\n",
              "  <thead>\n",
              "    <tr style=\"text-align: right;\">\n",
              "      <th></th>\n",
              "      <th>area A</th>\n",
              "      <th>perimeter P</th>\n",
              "      <th>compactness C = 4*pi*A/P^2</th>\n",
              "      <th>length of kernel</th>\n",
              "      <th>width of kernel</th>\n",
              "    </tr>\n",
              "  </thead>\n",
              "  <tbody>\n",
              "    <tr>\n",
              "      <th>0</th>\n",
              "      <td>15.26</td>\n",
              "      <td>14.84</td>\n",
              "      <td>0.8710</td>\n",
              "      <td>5.763</td>\n",
              "      <td>3.312</td>\n",
              "    </tr>\n",
              "    <tr>\n",
              "      <th>1</th>\n",
              "      <td>14.88</td>\n",
              "      <td>14.57</td>\n",
              "      <td>0.8811</td>\n",
              "      <td>5.554</td>\n",
              "      <td>3.333</td>\n",
              "    </tr>\n",
              "    <tr>\n",
              "      <th>2</th>\n",
              "      <td>14.29</td>\n",
              "      <td>14.09</td>\n",
              "      <td>0.9050</td>\n",
              "      <td>5.291</td>\n",
              "      <td>3.337</td>\n",
              "    </tr>\n",
              "    <tr>\n",
              "      <th>3</th>\n",
              "      <td>13.84</td>\n",
              "      <td>13.94</td>\n",
              "      <td>0.8955</td>\n",
              "      <td>5.324</td>\n",
              "      <td>3.379</td>\n",
              "    </tr>\n",
              "    <tr>\n",
              "      <th>4</th>\n",
              "      <td>16.14</td>\n",
              "      <td>14.99</td>\n",
              "      <td>0.9034</td>\n",
              "      <td>5.658</td>\n",
              "      <td>3.562</td>\n",
              "    </tr>\n",
              "    <tr>\n",
              "      <th>...</th>\n",
              "      <td>...</td>\n",
              "      <td>...</td>\n",
              "      <td>...</td>\n",
              "      <td>...</td>\n",
              "      <td>...</td>\n",
              "    </tr>\n",
              "    <tr>\n",
              "      <th>205</th>\n",
              "      <td>12.19</td>\n",
              "      <td>13.20</td>\n",
              "      <td>0.8783</td>\n",
              "      <td>5.137</td>\n",
              "      <td>2.981</td>\n",
              "    </tr>\n",
              "    <tr>\n",
              "      <th>206</th>\n",
              "      <td>11.23</td>\n",
              "      <td>12.88</td>\n",
              "      <td>0.8511</td>\n",
              "      <td>5.140</td>\n",
              "      <td>2.795</td>\n",
              "    </tr>\n",
              "    <tr>\n",
              "      <th>207</th>\n",
              "      <td>13.20</td>\n",
              "      <td>13.66</td>\n",
              "      <td>0.8883</td>\n",
              "      <td>5.236</td>\n",
              "      <td>3.232</td>\n",
              "    </tr>\n",
              "    <tr>\n",
              "      <th>208</th>\n",
              "      <td>11.84</td>\n",
              "      <td>13.21</td>\n",
              "      <td>0.8521</td>\n",
              "      <td>5.175</td>\n",
              "      <td>2.836</td>\n",
              "    </tr>\n",
              "    <tr>\n",
              "      <th>209</th>\n",
              "      <td>12.30</td>\n",
              "      <td>13.34</td>\n",
              "      <td>0.8684</td>\n",
              "      <td>5.243</td>\n",
              "      <td>2.974</td>\n",
              "    </tr>\n",
              "  </tbody>\n",
              "</table>\n",
              "<p>210 rows × 5 columns</p>\n",
              "</div>\n",
              "    <div class=\"colab-df-buttons\">\n",
              "\n",
              "  <div class=\"colab-df-container\">\n",
              "    <button class=\"colab-df-convert\" onclick=\"convertToInteractive('df-55acda84-33e9-4e40-8fc8-6a611e088fe0')\"\n",
              "            title=\"Convert this dataframe to an interactive table.\"\n",
              "            style=\"display:none;\">\n",
              "\n",
              "  <svg xmlns=\"http://www.w3.org/2000/svg\" height=\"24px\" viewBox=\"0 -960 960 960\">\n",
              "    <path d=\"M120-120v-720h720v720H120Zm60-500h600v-160H180v160Zm220 220h160v-160H400v160Zm0 220h160v-160H400v160ZM180-400h160v-160H180v160Zm440 0h160v-160H620v160ZM180-180h160v-160H180v160Zm440 0h160v-160H620v160Z\"/>\n",
              "  </svg>\n",
              "    </button>\n",
              "\n",
              "  <style>\n",
              "    .colab-df-container {\n",
              "      display:flex;\n",
              "      gap: 12px;\n",
              "    }\n",
              "\n",
              "    .colab-df-convert {\n",
              "      background-color: #E8F0FE;\n",
              "      border: none;\n",
              "      border-radius: 50%;\n",
              "      cursor: pointer;\n",
              "      display: none;\n",
              "      fill: #1967D2;\n",
              "      height: 32px;\n",
              "      padding: 0 0 0 0;\n",
              "      width: 32px;\n",
              "    }\n",
              "\n",
              "    .colab-df-convert:hover {\n",
              "      background-color: #E2EBFA;\n",
              "      box-shadow: 0px 1px 2px rgba(60, 64, 67, 0.3), 0px 1px 3px 1px rgba(60, 64, 67, 0.15);\n",
              "      fill: #174EA6;\n",
              "    }\n",
              "\n",
              "    .colab-df-buttons div {\n",
              "      margin-bottom: 4px;\n",
              "    }\n",
              "\n",
              "    [theme=dark] .colab-df-convert {\n",
              "      background-color: #3B4455;\n",
              "      fill: #D2E3FC;\n",
              "    }\n",
              "\n",
              "    [theme=dark] .colab-df-convert:hover {\n",
              "      background-color: #434B5C;\n",
              "      box-shadow: 0px 1px 3px 1px rgba(0, 0, 0, 0.15);\n",
              "      filter: drop-shadow(0px 1px 2px rgba(0, 0, 0, 0.3));\n",
              "      fill: #FFFFFF;\n",
              "    }\n",
              "  </style>\n",
              "\n",
              "    <script>\n",
              "      const buttonEl =\n",
              "        document.querySelector('#df-55acda84-33e9-4e40-8fc8-6a611e088fe0 button.colab-df-convert');\n",
              "      buttonEl.style.display =\n",
              "        google.colab.kernel.accessAllowed ? 'block' : 'none';\n",
              "\n",
              "      async function convertToInteractive(key) {\n",
              "        const element = document.querySelector('#df-55acda84-33e9-4e40-8fc8-6a611e088fe0');\n",
              "        const dataTable =\n",
              "          await google.colab.kernel.invokeFunction('convertToInteractive',\n",
              "                                                    [key], {});\n",
              "        if (!dataTable) return;\n",
              "\n",
              "        const docLinkHtml = 'Like what you see? Visit the ' +\n",
              "          '<a target=\"_blank\" href=https://colab.research.google.com/notebooks/data_table.ipynb>data table notebook</a>'\n",
              "          + ' to learn more about interactive tables.';\n",
              "        element.innerHTML = '';\n",
              "        dataTable['output_type'] = 'display_data';\n",
              "        await google.colab.output.renderOutput(dataTable, element);\n",
              "        const docLink = document.createElement('div');\n",
              "        docLink.innerHTML = docLinkHtml;\n",
              "        element.appendChild(docLink);\n",
              "      }\n",
              "    </script>\n",
              "  </div>\n",
              "\n",
              "\n",
              "<div id=\"df-e79bb0fd-9499-4f28-b194-0cbecf169441\">\n",
              "  <button class=\"colab-df-quickchart\" onclick=\"quickchart('df-e79bb0fd-9499-4f28-b194-0cbecf169441')\"\n",
              "            title=\"Suggest charts\"\n",
              "            style=\"display:none;\">\n",
              "\n",
              "<svg xmlns=\"http://www.w3.org/2000/svg\" height=\"24px\"viewBox=\"0 0 24 24\"\n",
              "     width=\"24px\">\n",
              "    <g>\n",
              "        <path d=\"M19 3H5c-1.1 0-2 .9-2 2v14c0 1.1.9 2 2 2h14c1.1 0 2-.9 2-2V5c0-1.1-.9-2-2-2zM9 17H7v-7h2v7zm4 0h-2V7h2v10zm4 0h-2v-4h2v4z\"/>\n",
              "    </g>\n",
              "</svg>\n",
              "  </button>\n",
              "\n",
              "<style>\n",
              "  .colab-df-quickchart {\n",
              "      --bg-color: #E8F0FE;\n",
              "      --fill-color: #1967D2;\n",
              "      --hover-bg-color: #E2EBFA;\n",
              "      --hover-fill-color: #174EA6;\n",
              "      --disabled-fill-color: #AAA;\n",
              "      --disabled-bg-color: #DDD;\n",
              "  }\n",
              "\n",
              "  [theme=dark] .colab-df-quickchart {\n",
              "      --bg-color: #3B4455;\n",
              "      --fill-color: #D2E3FC;\n",
              "      --hover-bg-color: #434B5C;\n",
              "      --hover-fill-color: #FFFFFF;\n",
              "      --disabled-bg-color: #3B4455;\n",
              "      --disabled-fill-color: #666;\n",
              "  }\n",
              "\n",
              "  .colab-df-quickchart {\n",
              "    background-color: var(--bg-color);\n",
              "    border: none;\n",
              "    border-radius: 50%;\n",
              "    cursor: pointer;\n",
              "    display: none;\n",
              "    fill: var(--fill-color);\n",
              "    height: 32px;\n",
              "    padding: 0;\n",
              "    width: 32px;\n",
              "  }\n",
              "\n",
              "  .colab-df-quickchart:hover {\n",
              "    background-color: var(--hover-bg-color);\n",
              "    box-shadow: 0 1px 2px rgba(60, 64, 67, 0.3), 0 1px 3px 1px rgba(60, 64, 67, 0.15);\n",
              "    fill: var(--button-hover-fill-color);\n",
              "  }\n",
              "\n",
              "  .colab-df-quickchart-complete:disabled,\n",
              "  .colab-df-quickchart-complete:disabled:hover {\n",
              "    background-color: var(--disabled-bg-color);\n",
              "    fill: var(--disabled-fill-color);\n",
              "    box-shadow: none;\n",
              "  }\n",
              "\n",
              "  .colab-df-spinner {\n",
              "    border: 2px solid var(--fill-color);\n",
              "    border-color: transparent;\n",
              "    border-bottom-color: var(--fill-color);\n",
              "    animation:\n",
              "      spin 1s steps(1) infinite;\n",
              "  }\n",
              "\n",
              "  @keyframes spin {\n",
              "    0% {\n",
              "      border-color: transparent;\n",
              "      border-bottom-color: var(--fill-color);\n",
              "      border-left-color: var(--fill-color);\n",
              "    }\n",
              "    20% {\n",
              "      border-color: transparent;\n",
              "      border-left-color: var(--fill-color);\n",
              "      border-top-color: var(--fill-color);\n",
              "    }\n",
              "    30% {\n",
              "      border-color: transparent;\n",
              "      border-left-color: var(--fill-color);\n",
              "      border-top-color: var(--fill-color);\n",
              "      border-right-color: var(--fill-color);\n",
              "    }\n",
              "    40% {\n",
              "      border-color: transparent;\n",
              "      border-right-color: var(--fill-color);\n",
              "      border-top-color: var(--fill-color);\n",
              "    }\n",
              "    60% {\n",
              "      border-color: transparent;\n",
              "      border-right-color: var(--fill-color);\n",
              "    }\n",
              "    80% {\n",
              "      border-color: transparent;\n",
              "      border-right-color: var(--fill-color);\n",
              "      border-bottom-color: var(--fill-color);\n",
              "    }\n",
              "    90% {\n",
              "      border-color: transparent;\n",
              "      border-bottom-color: var(--fill-color);\n",
              "    }\n",
              "  }\n",
              "</style>\n",
              "\n",
              "  <script>\n",
              "    async function quickchart(key) {\n",
              "      const quickchartButtonEl =\n",
              "        document.querySelector('#' + key + ' button');\n",
              "      quickchartButtonEl.disabled = true;  // To prevent multiple clicks.\n",
              "      quickchartButtonEl.classList.add('colab-df-spinner');\n",
              "      try {\n",
              "        const charts = await google.colab.kernel.invokeFunction(\n",
              "            'suggestCharts', [key], {});\n",
              "      } catch (error) {\n",
              "        console.error('Error during call to suggestCharts:', error);\n",
              "      }\n",
              "      quickchartButtonEl.classList.remove('colab-df-spinner');\n",
              "      quickchartButtonEl.classList.add('colab-df-quickchart-complete');\n",
              "    }\n",
              "    (() => {\n",
              "      let quickchartButtonEl =\n",
              "        document.querySelector('#df-e79bb0fd-9499-4f28-b194-0cbecf169441 button');\n",
              "      quickchartButtonEl.style.display =\n",
              "        google.colab.kernel.accessAllowed ? 'block' : 'none';\n",
              "    })();\n",
              "  </script>\n",
              "</div>\n",
              "    </div>\n",
              "  </div>\n"
            ],
            "text/plain": [
              "     area A  perimeter P  compactness C = 4*pi*A/P^2  length of kernel  \\\n",
              "0     15.26        14.84                      0.8710             5.763   \n",
              "1     14.88        14.57                      0.8811             5.554   \n",
              "2     14.29        14.09                      0.9050             5.291   \n",
              "3     13.84        13.94                      0.8955             5.324   \n",
              "4     16.14        14.99                      0.9034             5.658   \n",
              "..      ...          ...                         ...               ...   \n",
              "205   12.19        13.20                      0.8783             5.137   \n",
              "206   11.23        12.88                      0.8511             5.140   \n",
              "207   13.20        13.66                      0.8883             5.236   \n",
              "208   11.84        13.21                      0.8521             5.175   \n",
              "209   12.30        13.34                      0.8684             5.243   \n",
              "\n",
              "     width of kernel  \n",
              "0              3.312  \n",
              "1              3.333  \n",
              "2              3.337  \n",
              "3              3.379  \n",
              "4              3.562  \n",
              "..               ...  \n",
              "205            2.981  \n",
              "206            2.795  \n",
              "207            3.232  \n",
              "208            2.836  \n",
              "209            2.974  \n",
              "\n",
              "[210 rows x 5 columns]"
            ]
          },
          "metadata": {},
          "output_type": "display_data"
        }
      ],
      "source": [
        "# TODO: Import dataset and inspect the first five columns\n",
        "filename = \"seeds_dataset.txt\"\n",
        "\n",
        "data = pd.read_csv(filename,\n",
        "                   delimiter='\\t',\n",
        "                   names = column_names_list)\n",
        "\n",
        "display(data.iloc[:, :5])\n"
      ]
    },
    {
      "cell_type": "code",
      "execution_count": 35,
      "id": "7Cn3VtfjBNka",
      "metadata": {
        "colab": {
          "base_uri": "https://localhost:8080/",
          "height": 458
        },
        "id": "7Cn3VtfjBNka",
        "outputId": "349f71c0-7a73-4af1-d544-af338699772f"
      },
      "outputs": [
        {
          "data": {
            "text/html": [
              "\n",
              "  <div id=\"df-1d5c7a7f-0b0d-4d21-94a2-a8ce9d3c65a3\" class=\"colab-df-container\">\n",
              "    <div>\n",
              "<style scoped>\n",
              "    .dataframe tbody tr th:only-of-type {\n",
              "        vertical-align: middle;\n",
              "    }\n",
              "\n",
              "    .dataframe tbody tr th {\n",
              "        vertical-align: top;\n",
              "    }\n",
              "\n",
              "    .dataframe thead th {\n",
              "        text-align: right;\n",
              "    }\n",
              "</style>\n",
              "<table border=\"1\" class=\"dataframe\">\n",
              "  <thead>\n",
              "    <tr style=\"text-align: right;\">\n",
              "      <th></th>\n",
              "      <th>area A</th>\n",
              "      <th>perimeter P</th>\n",
              "      <th>compactness C = 4*pi*A/P^2</th>\n",
              "      <th>length of kernel</th>\n",
              "      <th>width of kernel</th>\n",
              "      <th>asymmetry coefficient</th>\n",
              "      <th>length of kernel groove</th>\n",
              "      <th>Target</th>\n",
              "    </tr>\n",
              "  </thead>\n",
              "  <tbody>\n",
              "    <tr>\n",
              "      <th>0</th>\n",
              "      <td>15.26</td>\n",
              "      <td>14.84</td>\n",
              "      <td>0.8710</td>\n",
              "      <td>5.763</td>\n",
              "      <td>3.312</td>\n",
              "      <td>2.221</td>\n",
              "      <td>5.220</td>\n",
              "      <td>1</td>\n",
              "    </tr>\n",
              "    <tr>\n",
              "      <th>1</th>\n",
              "      <td>14.88</td>\n",
              "      <td>14.57</td>\n",
              "      <td>0.8811</td>\n",
              "      <td>5.554</td>\n",
              "      <td>3.333</td>\n",
              "      <td>1.018</td>\n",
              "      <td>4.956</td>\n",
              "      <td>1</td>\n",
              "    </tr>\n",
              "    <tr>\n",
              "      <th>2</th>\n",
              "      <td>14.29</td>\n",
              "      <td>14.09</td>\n",
              "      <td>0.9050</td>\n",
              "      <td>5.291</td>\n",
              "      <td>3.337</td>\n",
              "      <td>2.699</td>\n",
              "      <td>4.825</td>\n",
              "      <td>1</td>\n",
              "    </tr>\n",
              "    <tr>\n",
              "      <th>3</th>\n",
              "      <td>13.84</td>\n",
              "      <td>13.94</td>\n",
              "      <td>0.8955</td>\n",
              "      <td>5.324</td>\n",
              "      <td>3.379</td>\n",
              "      <td>2.259</td>\n",
              "      <td>4.805</td>\n",
              "      <td>1</td>\n",
              "    </tr>\n",
              "    <tr>\n",
              "      <th>4</th>\n",
              "      <td>16.14</td>\n",
              "      <td>14.99</td>\n",
              "      <td>0.9034</td>\n",
              "      <td>5.658</td>\n",
              "      <td>3.562</td>\n",
              "      <td>1.355</td>\n",
              "      <td>5.175</td>\n",
              "      <td>1</td>\n",
              "    </tr>\n",
              "    <tr>\n",
              "      <th>...</th>\n",
              "      <td>...</td>\n",
              "      <td>...</td>\n",
              "      <td>...</td>\n",
              "      <td>...</td>\n",
              "      <td>...</td>\n",
              "      <td>...</td>\n",
              "      <td>...</td>\n",
              "      <td>...</td>\n",
              "    </tr>\n",
              "    <tr>\n",
              "      <th>205</th>\n",
              "      <td>12.19</td>\n",
              "      <td>13.20</td>\n",
              "      <td>0.8783</td>\n",
              "      <td>5.137</td>\n",
              "      <td>2.981</td>\n",
              "      <td>3.631</td>\n",
              "      <td>4.870</td>\n",
              "      <td>3</td>\n",
              "    </tr>\n",
              "    <tr>\n",
              "      <th>206</th>\n",
              "      <td>11.23</td>\n",
              "      <td>12.88</td>\n",
              "      <td>0.8511</td>\n",
              "      <td>5.140</td>\n",
              "      <td>2.795</td>\n",
              "      <td>4.325</td>\n",
              "      <td>5.003</td>\n",
              "      <td>3</td>\n",
              "    </tr>\n",
              "    <tr>\n",
              "      <th>207</th>\n",
              "      <td>13.20</td>\n",
              "      <td>13.66</td>\n",
              "      <td>0.8883</td>\n",
              "      <td>5.236</td>\n",
              "      <td>3.232</td>\n",
              "      <td>8.315</td>\n",
              "      <td>5.056</td>\n",
              "      <td>3</td>\n",
              "    </tr>\n",
              "    <tr>\n",
              "      <th>208</th>\n",
              "      <td>11.84</td>\n",
              "      <td>13.21</td>\n",
              "      <td>0.8521</td>\n",
              "      <td>5.175</td>\n",
              "      <td>2.836</td>\n",
              "      <td>3.598</td>\n",
              "      <td>5.044</td>\n",
              "      <td>3</td>\n",
              "    </tr>\n",
              "    <tr>\n",
              "      <th>209</th>\n",
              "      <td>12.30</td>\n",
              "      <td>13.34</td>\n",
              "      <td>0.8684</td>\n",
              "      <td>5.243</td>\n",
              "      <td>2.974</td>\n",
              "      <td>5.637</td>\n",
              "      <td>5.063</td>\n",
              "      <td>3</td>\n",
              "    </tr>\n",
              "  </tbody>\n",
              "</table>\n",
              "<p>210 rows × 8 columns</p>\n",
              "</div>\n",
              "    <div class=\"colab-df-buttons\">\n",
              "\n",
              "  <div class=\"colab-df-container\">\n",
              "    <button class=\"colab-df-convert\" onclick=\"convertToInteractive('df-1d5c7a7f-0b0d-4d21-94a2-a8ce9d3c65a3')\"\n",
              "            title=\"Convert this dataframe to an interactive table.\"\n",
              "            style=\"display:none;\">\n",
              "\n",
              "  <svg xmlns=\"http://www.w3.org/2000/svg\" height=\"24px\" viewBox=\"0 -960 960 960\">\n",
              "    <path d=\"M120-120v-720h720v720H120Zm60-500h600v-160H180v160Zm220 220h160v-160H400v160Zm0 220h160v-160H400v160ZM180-400h160v-160H180v160Zm440 0h160v-160H620v160ZM180-180h160v-160H180v160Zm440 0h160v-160H620v160Z\"/>\n",
              "  </svg>\n",
              "    </button>\n",
              "\n",
              "  <style>\n",
              "    .colab-df-container {\n",
              "      display:flex;\n",
              "      gap: 12px;\n",
              "    }\n",
              "\n",
              "    .colab-df-convert {\n",
              "      background-color: #E8F0FE;\n",
              "      border: none;\n",
              "      border-radius: 50%;\n",
              "      cursor: pointer;\n",
              "      display: none;\n",
              "      fill: #1967D2;\n",
              "      height: 32px;\n",
              "      padding: 0 0 0 0;\n",
              "      width: 32px;\n",
              "    }\n",
              "\n",
              "    .colab-df-convert:hover {\n",
              "      background-color: #E2EBFA;\n",
              "      box-shadow: 0px 1px 2px rgba(60, 64, 67, 0.3), 0px 1px 3px 1px rgba(60, 64, 67, 0.15);\n",
              "      fill: #174EA6;\n",
              "    }\n",
              "\n",
              "    .colab-df-buttons div {\n",
              "      margin-bottom: 4px;\n",
              "    }\n",
              "\n",
              "    [theme=dark] .colab-df-convert {\n",
              "      background-color: #3B4455;\n",
              "      fill: #D2E3FC;\n",
              "    }\n",
              "\n",
              "    [theme=dark] .colab-df-convert:hover {\n",
              "      background-color: #434B5C;\n",
              "      box-shadow: 0px 1px 3px 1px rgba(0, 0, 0, 0.15);\n",
              "      filter: drop-shadow(0px 1px 2px rgba(0, 0, 0, 0.3));\n",
              "      fill: #FFFFFF;\n",
              "    }\n",
              "  </style>\n",
              "\n",
              "    <script>\n",
              "      const buttonEl =\n",
              "        document.querySelector('#df-1d5c7a7f-0b0d-4d21-94a2-a8ce9d3c65a3 button.colab-df-convert');\n",
              "      buttonEl.style.display =\n",
              "        google.colab.kernel.accessAllowed ? 'block' : 'none';\n",
              "\n",
              "      async function convertToInteractive(key) {\n",
              "        const element = document.querySelector('#df-1d5c7a7f-0b0d-4d21-94a2-a8ce9d3c65a3');\n",
              "        const dataTable =\n",
              "          await google.colab.kernel.invokeFunction('convertToInteractive',\n",
              "                                                    [key], {});\n",
              "        if (!dataTable) return;\n",
              "\n",
              "        const docLinkHtml = 'Like what you see? Visit the ' +\n",
              "          '<a target=\"_blank\" href=https://colab.research.google.com/notebooks/data_table.ipynb>data table notebook</a>'\n",
              "          + ' to learn more about interactive tables.';\n",
              "        element.innerHTML = '';\n",
              "        dataTable['output_type'] = 'display_data';\n",
              "        await google.colab.output.renderOutput(dataTable, element);\n",
              "        const docLink = document.createElement('div');\n",
              "        docLink.innerHTML = docLinkHtml;\n",
              "        element.appendChild(docLink);\n",
              "      }\n",
              "    </script>\n",
              "  </div>\n",
              "\n",
              "\n",
              "<div id=\"df-3f1fbaae-2106-4652-b429-b600c009c227\">\n",
              "  <button class=\"colab-df-quickchart\" onclick=\"quickchart('df-3f1fbaae-2106-4652-b429-b600c009c227')\"\n",
              "            title=\"Suggest charts\"\n",
              "            style=\"display:none;\">\n",
              "\n",
              "<svg xmlns=\"http://www.w3.org/2000/svg\" height=\"24px\"viewBox=\"0 0 24 24\"\n",
              "     width=\"24px\">\n",
              "    <g>\n",
              "        <path d=\"M19 3H5c-1.1 0-2 .9-2 2v14c0 1.1.9 2 2 2h14c1.1 0 2-.9 2-2V5c0-1.1-.9-2-2-2zM9 17H7v-7h2v7zm4 0h-2V7h2v10zm4 0h-2v-4h2v4z\"/>\n",
              "    </g>\n",
              "</svg>\n",
              "  </button>\n",
              "\n",
              "<style>\n",
              "  .colab-df-quickchart {\n",
              "      --bg-color: #E8F0FE;\n",
              "      --fill-color: #1967D2;\n",
              "      --hover-bg-color: #E2EBFA;\n",
              "      --hover-fill-color: #174EA6;\n",
              "      --disabled-fill-color: #AAA;\n",
              "      --disabled-bg-color: #DDD;\n",
              "  }\n",
              "\n",
              "  [theme=dark] .colab-df-quickchart {\n",
              "      --bg-color: #3B4455;\n",
              "      --fill-color: #D2E3FC;\n",
              "      --hover-bg-color: #434B5C;\n",
              "      --hover-fill-color: #FFFFFF;\n",
              "      --disabled-bg-color: #3B4455;\n",
              "      --disabled-fill-color: #666;\n",
              "  }\n",
              "\n",
              "  .colab-df-quickchart {\n",
              "    background-color: var(--bg-color);\n",
              "    border: none;\n",
              "    border-radius: 50%;\n",
              "    cursor: pointer;\n",
              "    display: none;\n",
              "    fill: var(--fill-color);\n",
              "    height: 32px;\n",
              "    padding: 0;\n",
              "    width: 32px;\n",
              "  }\n",
              "\n",
              "  .colab-df-quickchart:hover {\n",
              "    background-color: var(--hover-bg-color);\n",
              "    box-shadow: 0 1px 2px rgba(60, 64, 67, 0.3), 0 1px 3px 1px rgba(60, 64, 67, 0.15);\n",
              "    fill: var(--button-hover-fill-color);\n",
              "  }\n",
              "\n",
              "  .colab-df-quickchart-complete:disabled,\n",
              "  .colab-df-quickchart-complete:disabled:hover {\n",
              "    background-color: var(--disabled-bg-color);\n",
              "    fill: var(--disabled-fill-color);\n",
              "    box-shadow: none;\n",
              "  }\n",
              "\n",
              "  .colab-df-spinner {\n",
              "    border: 2px solid var(--fill-color);\n",
              "    border-color: transparent;\n",
              "    border-bottom-color: var(--fill-color);\n",
              "    animation:\n",
              "      spin 1s steps(1) infinite;\n",
              "  }\n",
              "\n",
              "  @keyframes spin {\n",
              "    0% {\n",
              "      border-color: transparent;\n",
              "      border-bottom-color: var(--fill-color);\n",
              "      border-left-color: var(--fill-color);\n",
              "    }\n",
              "    20% {\n",
              "      border-color: transparent;\n",
              "      border-left-color: var(--fill-color);\n",
              "      border-top-color: var(--fill-color);\n",
              "    }\n",
              "    30% {\n",
              "      border-color: transparent;\n",
              "      border-left-color: var(--fill-color);\n",
              "      border-top-color: var(--fill-color);\n",
              "      border-right-color: var(--fill-color);\n",
              "    }\n",
              "    40% {\n",
              "      border-color: transparent;\n",
              "      border-right-color: var(--fill-color);\n",
              "      border-top-color: var(--fill-color);\n",
              "    }\n",
              "    60% {\n",
              "      border-color: transparent;\n",
              "      border-right-color: var(--fill-color);\n",
              "    }\n",
              "    80% {\n",
              "      border-color: transparent;\n",
              "      border-right-color: var(--fill-color);\n",
              "      border-bottom-color: var(--fill-color);\n",
              "    }\n",
              "    90% {\n",
              "      border-color: transparent;\n",
              "      border-bottom-color: var(--fill-color);\n",
              "    }\n",
              "  }\n",
              "</style>\n",
              "\n",
              "  <script>\n",
              "    async function quickchart(key) {\n",
              "      const quickchartButtonEl =\n",
              "        document.querySelector('#' + key + ' button');\n",
              "      quickchartButtonEl.disabled = true;  // To prevent multiple clicks.\n",
              "      quickchartButtonEl.classList.add('colab-df-spinner');\n",
              "      try {\n",
              "        const charts = await google.colab.kernel.invokeFunction(\n",
              "            'suggestCharts', [key], {});\n",
              "      } catch (error) {\n",
              "        console.error('Error during call to suggestCharts:', error);\n",
              "      }\n",
              "      quickchartButtonEl.classList.remove('colab-df-spinner');\n",
              "      quickchartButtonEl.classList.add('colab-df-quickchart-complete');\n",
              "    }\n",
              "    (() => {\n",
              "      let quickchartButtonEl =\n",
              "        document.querySelector('#df-3f1fbaae-2106-4652-b429-b600c009c227 button');\n",
              "      quickchartButtonEl.style.display =\n",
              "        google.colab.kernel.accessAllowed ? 'block' : 'none';\n",
              "    })();\n",
              "  </script>\n",
              "</div>\n",
              "    </div>\n",
              "  </div>\n"
            ],
            "text/plain": [
              "     area A  perimeter P  compactness C = 4*pi*A/P^2  length of kernel  \\\n",
              "0     15.26        14.84                      0.8710             5.763   \n",
              "1     14.88        14.57                      0.8811             5.554   \n",
              "2     14.29        14.09                      0.9050             5.291   \n",
              "3     13.84        13.94                      0.8955             5.324   \n",
              "4     16.14        14.99                      0.9034             5.658   \n",
              "..      ...          ...                         ...               ...   \n",
              "205   12.19        13.20                      0.8783             5.137   \n",
              "206   11.23        12.88                      0.8511             5.140   \n",
              "207   13.20        13.66                      0.8883             5.236   \n",
              "208   11.84        13.21                      0.8521             5.175   \n",
              "209   12.30        13.34                      0.8684             5.243   \n",
              "\n",
              "     width of kernel  asymmetry coefficient  length of kernel groove  Target  \n",
              "0              3.312                  2.221                    5.220       1  \n",
              "1              3.333                  1.018                    4.956       1  \n",
              "2              3.337                  2.699                    4.825       1  \n",
              "3              3.379                  2.259                    4.805       1  \n",
              "4              3.562                  1.355                    5.175       1  \n",
              "..               ...                    ...                      ...     ...  \n",
              "205            2.981                  3.631                    4.870       3  \n",
              "206            2.795                  4.325                    5.003       3  \n",
              "207            3.232                  8.315                    5.056       3  \n",
              "208            2.836                  3.598                    5.044       3  \n",
              "209            2.974                  5.637                    5.063       3  \n",
              "\n",
              "[210 rows x 8 columns]"
            ]
          },
          "metadata": {},
          "output_type": "display_data"
        }
      ],
      "source": [
        "display(data)"
      ]
    },
    {
      "cell_type": "markdown",
      "id": "c0453ae3",
      "metadata": {
        "id": "c0453ae3"
      },
      "source": [
        "Next, you will need to separate the data into your feature matrix and target vector."
      ]
    },
    {
      "cell_type": "code",
      "execution_count": 36,
      "id": "15a5c76c",
      "metadata": {
        "id": "15a5c76c"
      },
      "outputs": [],
      "source": [
        "# TODO: Separate the data into feature matrix and target vector. Print the shape of X and y\n",
        "X = data.iloc[:, :-1]\n",
        "y = data.iloc[:, -1]"
      ]
    },
    {
      "cell_type": "markdown",
      "id": "e5024bec",
      "metadata": {
        "id": "e5024bec"
      },
      "source": [
        "### Step 2: Preprocessing (2 marks)"
      ]
    },
    {
      "cell_type": "markdown",
      "id": "f908b657",
      "metadata": {
        "id": "f908b657"
      },
      "source": [
        "To preprocess the data, we will need to scale the data. Which scaler would you select and why? *(1 mark)*\n",
        "\n",
        "### Answer:\n",
        "Scaling is required because PCA is sensitive to the variances / scales of the features of the data.  It is to ensure that the PCA results are not dominated by features with larger scales or variances."
      ]
    },
    {
      "cell_type": "markdown",
      "id": "c29892b5",
      "metadata": {
        "id": "c29892b5"
      },
      "source": [
        "Before we implement the scaler, we need to split the data into training and testing sets first."
      ]
    },
    {
      "cell_type": "code",
      "execution_count": 37,
      "id": "f22529a6",
      "metadata": {
        "colab": {
          "base_uri": "https://localhost:8080/",
          "height": 52
        },
        "id": "f22529a6",
        "outputId": "f0c0e8f7-38c2-42e0-8c8e-18473754ce6e"
      },
      "outputs": [
        {
          "data": {
            "text/plain": [
              "(210, 7)"
            ]
          },
          "metadata": {},
          "output_type": "display_data"
        },
        {
          "data": {
            "text/plain": [
              "(210,)"
            ]
          },
          "metadata": {},
          "output_type": "display_data"
        }
      ],
      "source": [
        "# TODO: Print the shape of the training feature matrix and target vector\n",
        "display(X.shape)\n",
        "display(y.shape)"
      ]
    },
    {
      "cell_type": "code",
      "execution_count": 38,
      "id": "04f3a4bf",
      "metadata": {
        "id": "04f3a4bf"
      },
      "outputs": [],
      "source": [
        "# TODO: Split the data into training and testing sets\n",
        "X_train, X_test, y_train, y_test = train_test_split(X, y, stratify = y, random_state=0)"
      ]
    },
    {
      "cell_type": "markdown",
      "id": "282cbc43",
      "metadata": {
        "id": "282cbc43"
      },
      "source": [
        "Now that we have our training data, we can implement our selected scaler."
      ]
    },
    {
      "cell_type": "code",
      "execution_count": 39,
      "id": "ed75b036",
      "metadata": {
        "colab": {
          "base_uri": "https://localhost:8080/"
        },
        "id": "ed75b036",
        "outputId": "a7324adc-3460-4992-bf83-70c4045b894c"
      },
      "outputs": [
        {
          "name": "stdout",
          "output_type": "stream",
          "text": [
            "     area A  perimeter P  compactness C = 4*pi*A/P^2  length of kernel  \\\n",
            "0  0.332389     0.349174                    0.753176          0.293356   \n",
            "1  0.799811     0.834711                    0.701452          0.854167   \n",
            "2  0.000000     0.000000                    0.514519          0.000000   \n",
            "3  0.337110     0.411157                    0.456443          0.427365   \n",
            "4  0.058546     0.148760                    0.078040          0.213964   \n",
            "\n",
            "   width of kernel  asymmetry coefficient  length of kernel groove  \n",
            "0         0.478974               0.251583                 0.236829  \n",
            "1         0.776194               0.192812                 0.809453  \n",
            "2         0.111903               0.547387                 0.135401  \n",
            "3         0.355666               0.299952                 0.323486  \n",
            "4         0.040627               0.702636                 0.372230  \n"
          ]
        }
      ],
      "source": [
        "# TODO: Scale the data\n",
        "# Instantiate the MinMaxScaler\n",
        "scaler = MinMaxScaler()\n",
        "\n",
        "# Fit and transform the data using the scaler\n",
        "scaled_X_train = scaler.fit_transform(X_train)\n",
        "scaled_X_test = scaler.fit_transform(X_test)\n",
        "\n",
        "# Convert the scaled data back to a DataFrame (if needed)\n",
        "scaled_X_train = pd.DataFrame(scaled_X_train, columns=X_train.columns)\n",
        "scaled_X_test = pd.DataFrame(scaled_X_test, columns=X_test.columns)\n",
        "\n",
        "# Display the scaled DataFrame\n",
        "print(scaled_X_train.head())"
      ]
    },
    {
      "cell_type": "code",
      "execution_count": 40,
      "id": "SkVWvPRrBNkc",
      "metadata": {
        "colab": {
          "base_uri": "https://localhost:8080/",
          "height": 52
        },
        "id": "SkVWvPRrBNkc",
        "outputId": "6e346fc4-024f-47d9-be2e-1709b3d8184b"
      },
      "outputs": [
        {
          "data": {
            "text/plain": [
              "(157, 7)"
            ]
          },
          "metadata": {},
          "output_type": "display_data"
        },
        {
          "data": {
            "text/plain": [
              "(157,)"
            ]
          },
          "metadata": {},
          "output_type": "display_data"
        }
      ],
      "source": [
        "display(X_train.shape)\n",
        "display(y_train.shape)"
      ]
    },
    {
      "cell_type": "markdown",
      "id": "8cfa23f3",
      "metadata": {
        "id": "8cfa23f3"
      },
      "source": [
        "### Step 3: Model Selection (1 mark)"
      ]
    },
    {
      "cell_type": "markdown",
      "id": "773d0687",
      "metadata": {
        "id": "773d0687"
      },
      "source": [
        "The next step is to instantiate our selected model. In this case, we will be using `LogisticRegression()`"
      ]
    },
    {
      "cell_type": "code",
      "execution_count": 41,
      "id": "b79801bc",
      "metadata": {
        "colab": {
          "base_uri": "https://localhost:8080/",
          "height": 75
        },
        "id": "b79801bc",
        "outputId": "6ceef7e8-d603-495a-af3e-7516f54b2b25"
      },
      "outputs": [
        {
          "data": {
            "text/html": [
              "<style>#sk-container-id-3 {color: black;background-color: white;}#sk-container-id-3 pre{padding: 0;}#sk-container-id-3 div.sk-toggleable {background-color: white;}#sk-container-id-3 label.sk-toggleable__label {cursor: pointer;display: block;width: 100%;margin-bottom: 0;padding: 0.3em;box-sizing: border-box;text-align: center;}#sk-container-id-3 label.sk-toggleable__label-arrow:before {content: \"▸\";float: left;margin-right: 0.25em;color: #696969;}#sk-container-id-3 label.sk-toggleable__label-arrow:hover:before {color: black;}#sk-container-id-3 div.sk-estimator:hover label.sk-toggleable__label-arrow:before {color: black;}#sk-container-id-3 div.sk-toggleable__content {max-height: 0;max-width: 0;overflow: hidden;text-align: left;background-color: #f0f8ff;}#sk-container-id-3 div.sk-toggleable__content pre {margin: 0.2em;color: black;border-radius: 0.25em;background-color: #f0f8ff;}#sk-container-id-3 input.sk-toggleable__control:checked~div.sk-toggleable__content {max-height: 200px;max-width: 100%;overflow: auto;}#sk-container-id-3 input.sk-toggleable__control:checked~label.sk-toggleable__label-arrow:before {content: \"▾\";}#sk-container-id-3 div.sk-estimator input.sk-toggleable__control:checked~label.sk-toggleable__label {background-color: #d4ebff;}#sk-container-id-3 div.sk-label input.sk-toggleable__control:checked~label.sk-toggleable__label {background-color: #d4ebff;}#sk-container-id-3 input.sk-hidden--visually {border: 0;clip: rect(1px 1px 1px 1px);clip: rect(1px, 1px, 1px, 1px);height: 1px;margin: -1px;overflow: hidden;padding: 0;position: absolute;width: 1px;}#sk-container-id-3 div.sk-estimator {font-family: monospace;background-color: #f0f8ff;border: 1px dotted black;border-radius: 0.25em;box-sizing: border-box;margin-bottom: 0.5em;}#sk-container-id-3 div.sk-estimator:hover {background-color: #d4ebff;}#sk-container-id-3 div.sk-parallel-item::after {content: \"\";width: 100%;border-bottom: 1px solid gray;flex-grow: 1;}#sk-container-id-3 div.sk-label:hover label.sk-toggleable__label {background-color: #d4ebff;}#sk-container-id-3 div.sk-serial::before {content: \"\";position: absolute;border-left: 1px solid gray;box-sizing: border-box;top: 0;bottom: 0;left: 50%;z-index: 0;}#sk-container-id-3 div.sk-serial {display: flex;flex-direction: column;align-items: center;background-color: white;padding-right: 0.2em;padding-left: 0.2em;position: relative;}#sk-container-id-3 div.sk-item {position: relative;z-index: 1;}#sk-container-id-3 div.sk-parallel {display: flex;align-items: stretch;justify-content: center;background-color: white;position: relative;}#sk-container-id-3 div.sk-item::before, #sk-container-id-3 div.sk-parallel-item::before {content: \"\";position: absolute;border-left: 1px solid gray;box-sizing: border-box;top: 0;bottom: 0;left: 50%;z-index: -1;}#sk-container-id-3 div.sk-parallel-item {display: flex;flex-direction: column;z-index: 1;position: relative;background-color: white;}#sk-container-id-3 div.sk-parallel-item:first-child::after {align-self: flex-end;width: 50%;}#sk-container-id-3 div.sk-parallel-item:last-child::after {align-self: flex-start;width: 50%;}#sk-container-id-3 div.sk-parallel-item:only-child::after {width: 0;}#sk-container-id-3 div.sk-dashed-wrapped {border: 1px dashed gray;margin: 0 0.4em 0.5em 0.4em;box-sizing: border-box;padding-bottom: 0.4em;background-color: white;}#sk-container-id-3 div.sk-label label {font-family: monospace;font-weight: bold;display: inline-block;line-height: 1.2em;}#sk-container-id-3 div.sk-label-container {text-align: center;}#sk-container-id-3 div.sk-container {/* jupyter's `normalize.less` sets `[hidden] { display: none; }` but bootstrap.min.css set `[hidden] { display: none !important; }` so we also need the `!important` here to be able to override the default hidden behavior on the sphinx rendered scikit-learn.org. See: https://github.com/scikit-learn/scikit-learn/issues/21755 */display: inline-block !important;position: relative;}#sk-container-id-3 div.sk-text-repr-fallback {display: none;}</style><div id=\"sk-container-id-3\" class=\"sk-top-container\"><div class=\"sk-text-repr-fallback\"><pre>LogisticRegression(max_iter=1000)</pre><b>In a Jupyter environment, please rerun this cell to show the HTML representation or trust the notebook. <br />On GitHub, the HTML representation is unable to render, please try loading this page with nbviewer.org.</b></div><div class=\"sk-container\" hidden><div class=\"sk-item\"><div class=\"sk-estimator sk-toggleable\"><input class=\"sk-toggleable__control sk-hidden--visually\" id=\"sk-estimator-id-3\" type=\"checkbox\" checked><label for=\"sk-estimator-id-3\" class=\"sk-toggleable__label sk-toggleable__label-arrow\">LogisticRegression</label><div class=\"sk-toggleable__content\"><pre>LogisticRegression(max_iter=1000)</pre></div></div></div></div></div>"
            ],
            "text/plain": [
              "LogisticRegression(max_iter=1000)"
            ]
          },
          "execution_count": 41,
          "metadata": {},
          "output_type": "execute_result"
        }
      ],
      "source": [
        "# TODO: Instantiate model\n",
        "model = LogisticRegression(max_iter=1000)\n",
        "model.fit(X_train, y_train)"
      ]
    },
    {
      "cell_type": "markdown",
      "id": "2177add4",
      "metadata": {
        "id": "2177add4"
      },
      "source": [
        "### Step 4: Validation (2 marks)"
      ]
    },
    {
      "cell_type": "markdown",
      "id": "4092329e",
      "metadata": {
        "id": "4092329e"
      },
      "source": [
        "To validate the results, we need to use cross-validation. To make sure we are using the best hyperparmeters, we can use a grid search. The parameter grid has been provided below."
      ]
    },
    {
      "cell_type": "code",
      "execution_count": 42,
      "id": "d3e5cfe7",
      "metadata": {
        "id": "d3e5cfe7"
      },
      "outputs": [],
      "source": [
        "param_grid = {'C': [0.01, 0.1, 1.0, 10.0],\n",
        "             'fit_intercept': [True, False]}"
      ]
    },
    {
      "cell_type": "code",
      "execution_count": 43,
      "id": "e0317e3f",
      "metadata": {
        "colab": {
          "base_uri": "https://localhost:8080/"
        },
        "id": "e0317e3f",
        "outputId": "c2aeb60b-1ca6-438c-b934-dd956ecdfd47"
      },
      "outputs": [
        {
          "name": "stdout",
          "output_type": "stream",
          "text": [
            "Best grid estimator: LogisticRegression(C=10.0, max_iter=1000)\n",
            "Best grid parameters: {'C': 10.0, 'fit_intercept': True}\n",
            "Cross-Validation accuracy 0.9429435\n",
            "This is the test score 0.9245283\n"
          ]
        }
      ],
      "source": [
        "#TODO: Implement the grid search and print the best parameters, cross-validation score and test score\n",
        "\n",
        "grid = GridSearchCV(model, param_grid, cv=5)\n",
        "grid.fit(scaled_X_train, y_train)\n",
        "print(f'Best grid estimator: {grid.best_estimator_ }')\n",
        "print(f'Best grid parameters: {grid.best_params_}')\n",
        "print(f'Cross-Validation accuracy {grid.best_score_:.7f}')\n",
        "test_score = grid.score(scaled_X_test, y_test)\n",
        "print(f'This is the test score {test_score:.7f}')\n"
      ]
    },
    {
      "cell_type": "markdown",
      "id": "97cee662",
      "metadata": {
        "id": "97cee662"
      },
      "source": [
        "### Step 5: Visualize using PCA (3 marks)"
      ]
    },
    {
      "cell_type": "markdown",
      "id": "4eed3fd7",
      "metadata": {
        "id": "4eed3fd7"
      },
      "source": [
        "Now you can visualize the results from Step 4 using PCA. Use the best parameters from the previous step to predict the label for the testing data. For the plot, each data point must be colored based on the class label."
      ]
    },
    {
      "cell_type": "code",
      "execution_count": 44,
      "id": "1dc2310c",
      "metadata": {
        "colab": {
          "base_uri": "https://localhost:8080/",
          "height": 69
        },
        "id": "1dc2310c",
        "outputId": "ac6b71a7-2b94-4a41-9408-3efbd823cdef"
      },
      "outputs": [
        {
          "data": {
            "text/plain": [
              "array([2, 3, 2, 1, 2, 3, 1, 3, 2, 2, 3, 2, 3, 2, 2, 1, 2, 1, 1, 2, 1, 3,\n",
              "       1, 2, 3, 2, 2, 3, 2, 1, 1, 2, 3, 1, 3, 3, 3, 2, 1, 2, 1, 1, 3, 3,\n",
              "       3, 3, 1, 1, 3, 1, 3, 3, 2])"
            ]
          },
          "metadata": {},
          "output_type": "display_data"
        }
      ],
      "source": [
        "# TODO: Predict y labels using best estimator\n",
        "y_pred_np = grid.best_estimator_.predict(scaled_X_test)\n",
        "# y_pred = pd.DataFrame(y_pred_np, columns=[\"Target\"])\n",
        "# display(y_pred.head(10))\n",
        "display(y_pred_np)"
      ]
    },
    {
      "cell_type": "code",
      "execution_count": 45,
      "id": "gLy0u2h7BNkd",
      "metadata": {
        "colab": {
          "base_uri": "https://localhost:8080/"
        },
        "id": "gLy0u2h7BNkd",
        "outputId": "6ef97fcf-7ec7-446d-e2b4-8cca43a61d57"
      },
      "outputs": [
        {
          "data": {
            "text/plain": [
              "(53, 2)"
            ]
          },
          "execution_count": 45,
          "metadata": {},
          "output_type": "execute_result"
        }
      ],
      "source": [
        "# TODO: Reduce dimensions of test data for plotting\n",
        "pca = PCA(n_components=2)\n",
        "pca_X_test = pca.fit_transform(scaled_X_test)\n",
        "\n",
        "pca_X_test.shape"
      ]
    },
    {
      "cell_type": "code",
      "execution_count": 46,
      "id": "HA_QtXS7BNkd",
      "metadata": {
        "colab": {
          "base_uri": "https://localhost:8080/",
          "height": 937
        },
        "id": "HA_QtXS7BNkd",
        "outputId": "c4bd7f51-f24f-499f-e853-55d6c0086b23"
      },
      "outputs": [
        {
          "data": {
            "text/plain": [
              "array([[ 0.4603279 , -0.14688701],\n",
              "       [-0.57197419, -0.10866547],\n",
              "       [ 0.21005094, -0.03420771],\n",
              "       [ 0.39987348,  0.20246224],\n",
              "       [ 0.96387654,  0.1187251 ],\n",
              "       [-0.78055747,  0.35411712],\n",
              "       [-0.04757626,  0.09200283],\n",
              "       [-0.53850077, -0.15939811],\n",
              "       [ 0.24092985, -0.1982011 ],\n",
              "       [ 0.98180824,  0.01109443],\n",
              "       [-0.56110646,  0.40609016],\n",
              "       [ 1.00419362, -0.15076166],\n",
              "       [-0.891942  , -0.28585859],\n",
              "       [ 1.03504819, -0.36278099],\n",
              "       [ 1.1759688 , -0.12815718],\n",
              "       [-0.21086803, -0.14456377],\n",
              "       [ 0.48707221, -0.22519026],\n",
              "       [ 0.00698469,  0.44830723],\n",
              "       [ 0.14372508,  0.37375006],\n",
              "       [ 0.7854955 ,  0.05656324],\n",
              "       [ 0.30662949,  0.05828162],\n",
              "       [-0.35943144, -0.24391564],\n",
              "       [ 0.02723769,  0.12859877],\n",
              "       [ 0.88380798, -0.01017973],\n",
              "       [-0.8674721 , -0.430683  ],\n",
              "       [ 0.82603861,  0.04437564],\n",
              "       [ 0.93610015, -0.01477695],\n",
              "       [-0.43646325,  0.02392723],\n",
              "       [ 0.95806965, -0.11029494],\n",
              "       [-0.36198197,  0.03661291],\n",
              "       [-0.33041996,  0.04450553],\n",
              "       [ 0.81534004, -0.03685928],\n",
              "       [-0.81872572, -0.00510745],\n",
              "       [-0.43851378,  0.47178297],\n",
              "       [-0.42209492, -0.34089457],\n",
              "       [-0.49430859, -0.03084671],\n",
              "       [-0.81383422,  0.02740615],\n",
              "       [ 0.61081231, -0.13334797],\n",
              "       [-0.05942719,  0.29126833],\n",
              "       [ 0.79078602,  0.0992328 ],\n",
              "       [-0.1521142 ,  0.206122  ],\n",
              "       [-0.27257257,  0.19631167],\n",
              "       [-0.55454647, -0.12926049],\n",
              "       [-0.76309233,  0.45207693],\n",
              "       [-0.74857558, -0.28649497],\n",
              "       [-0.79498543, -0.27785176],\n",
              "       [ 0.14735149,  0.28433221],\n",
              "       [-0.13886592,  0.17459226],\n",
              "       [-0.705448  , -0.09666853],\n",
              "       [ 0.0116772 ,  0.2709223 ],\n",
              "       [-0.85405698, -0.31086881],\n",
              "       [-0.85185622, -0.20696753],\n",
              "       [ 0.63210632, -0.26377153]])"
            ]
          },
          "metadata": {},
          "output_type": "display_data"
        }
      ],
      "source": [
        "display(pca_X_test)"
      ]
    },
    {
      "cell_type": "code",
      "execution_count": 47,
      "id": "E6kU3XUMBNkd",
      "metadata": {
        "colab": {
          "base_uri": "https://localhost:8080/",
          "height": 716
        },
        "id": "E6kU3XUMBNkd",
        "outputId": "6022d953-1489-47c7-a64f-468ddbcf80c8"
      },
      "outputs": [
        {
          "data": {
            "image/png": "[encoded data removed]",
            "text/plain": [
              "<Figure size 1000x800 with 2 Axes>"
            ]
          },
          "metadata": {},
          "output_type": "display_data"
        }
      ],
      "source": [
        "# TODO: Plot test points colored by predicted label\n",
        "# Define markers for each class (optional)\n",
        "markers = ['o', 's', '^', 'D', 'P']  # Add more markers if needed\n",
        "\n",
        "# Create a scatter plot\n",
        "plt.figure(figsize=(10, 8))\n",
        "for i, label in enumerate(sorted(set(y_pred_np))):\n",
        "    indices = (y_pred_np == label)\n",
        "    plt.scatter(pca_X_test[indices, 0], pca_X_test[indices, 1], label=f'Label {label}', marker=markers[i % len(markers)], alpha=0.7)\n",
        "\n",
        "plt.xlabel('Principal Component 1')\n",
        "plt.ylabel('Principal Component 2')\n",
        "plt.title('Test Points Colored by Predicted Label')\n",
        "plt.legend()\n",
        "plt.colorbar(label='Predicted Label')\n",
        "plt.grid(True)\n",
        "plt.show()"
      ]
    },
    {
      "cell_type": "code",
      "execution_count": 47,
      "id": "5317451f",
      "metadata": {
        "id": "5317451f"
      },
      "outputs": [],
      "source": []
    },
    {
      "cell_type": "markdown",
      "id": "296ea401",
      "metadata": {
        "id": "296ea401"
      },
      "source": [
        "#### Questions (4 marks)\n",
        "\n",
        "1. Did the logistic regression model work well for this dataset? Why would you make this conclusion? *(2 marks)*\n",
        "1. Did PCA work well for this model? How does this relate to the results from the model used? *(2 marks)*\n",
        "\n",
        "#### Answers\n",
        "\n",
        "1. Certainly, this model demonstrated strong performance with high scores in both training and testing datasets, showcasing balanced bias and variance.\n",
        "1. The results are promising as the predicted labels exhibit clear grouping, suggesting potential linearity in the dataset, supported by the effective performance of both PCA and logistic regression techniques known for their linear characteristics."
      ]
    },
    {
      "cell_type": "markdown",
      "id": "c88a3cf1",
      "metadata": {
        "id": "c88a3cf1"
      },
      "source": [
        "### Process Description (4 marks)\n",
        "Please describe the process you used to create your code. Cite any websites or generative AI tools used. You can use the following questions as guidance:\n",
        "1. Where did you source your code?\n",
        "1. In what order did you complete the steps?\n",
        "1. If you used generative AI, what prompts did you use? Did you need to modify the code at all? Why or why not?\n",
        "1. Did you have any challenges? If yes, what were they? If not, what helped you to be successful?"
      ]
    },
    {
      "cell_type": "markdown",
      "id": "d8336341",
      "metadata": {
        "id": "d8336341"
      },
      "source": [
        "1. From peers, from notes, googling, gen AI.\n",
        "1. Did them sequentially, as they appeared on the notebook.\n",
        "1. Asked gen AI to explain the concepts like PCA, KMeans, and the various scores calculated. Asked for code to do plots and sample code for implementing the models.\n",
        "1. Some of the directions were a little vague. Searching through the examples provided some help but overall it was alot of looking up concepts and samples online."
      ]
    },
    {
      "cell_type": "markdown",
      "id": "3bf578b1",
      "metadata": {
        "id": "3bf578b1"
      },
      "source": [
        "## Part 2. Implement clustering (20 marks)"
      ]
    },
    {
      "cell_type": "markdown",
      "id": "937cb37b",
      "metadata": {
        "id": "937cb37b"
      },
      "source": [
        "The agricultural company approaches you again because they lost all the labels for their data. Use the Kmeans clustering method to assign labels to the seeds dataset used in Part 1."
      ]
    },
    {
      "cell_type": "markdown",
      "id": "980c62e1",
      "metadata": {
        "id": "980c62e1"
      },
      "source": [
        "### Step 1: Cluster using original data (6 marks)\n",
        "\n",
        "This part of the assignment asks you to implement Kmeans clustering using the orginal feature matrix (after scaling has been performed)."
      ]
    },
    {
      "cell_type": "code",
      "execution_count": 48,
      "id": "e2c441df",
      "metadata": {
        "id": "e2c441df"
      },
      "outputs": [],
      "source": [
        "# TODO: Scale feature matrix\n",
        "data = pd.read_csv(filename,\n",
        "                   delimiter='\\t',\n",
        "                   names = column_names_list)\n",
        "\n",
        "X = data.iloc[:, :-1]\n",
        "y = data.iloc[:, -1]\n",
        "\n",
        "scaler = StandardScaler()\n",
        "X_scaled = scaler.fit_transform(X)"
      ]
    },
    {
      "cell_type": "markdown",
      "id": "6efb7a1b",
      "metadata": {
        "id": "6efb7a1b"
      },
      "source": [
        "The first step is to use the elbow method to determine the optimal number of clusters. In this case, you can use the distortion metric."
      ]
    },
    {
      "cell_type": "code",
      "execution_count": 49,
      "id": "5f85da0b",
      "metadata": {
        "colab": {
          "base_uri": "https://localhost:8080/",
          "height": 559
        },
        "id": "5f85da0b",
        "outputId": "a6304ec6-c085-45ce-c072-9605ff96d0de"
      },
      "outputs": [
        {
          "data": {
            "image/png": "[encoded data removed]",
            "text/plain": [
              "<Figure size 800x550 with 1 Axes>"
            ]
          },
          "metadata": {},
          "output_type": "display_data"
        },
        {
          "data": {
            "text/plain": [
              "<Axes: title={'center': 'Distortion Score Elbow for KMeans Clustering'}, xlabel='k', ylabel='distortion score'>"
            ]
          },
          "execution_count": 49,
          "metadata": {},
          "output_type": "execute_result"
        }
      ],
      "source": [
        "# TODO: Use the elbow method to determine the optimal number of clusters\n",
        "\n",
        "from sklearn.cluster import KMeans\n",
        "ke = kelbow_visualizer(KMeans(random_state=0,\n",
        "                              n_init=10),\n",
        "                              X,\n",
        "                              k=(2,10),\n",
        "                              metric='distortion',timings=False)\n",
        "# Fit the visualizer to the scaled data\n",
        "ke.fit(X_scaled)\n",
        "# Display the visualization\n",
        "ke.show()"
      ]
    },
    {
      "cell_type": "markdown",
      "id": "be361544",
      "metadata": {
        "id": "be361544"
      },
      "source": [
        "Next, implement Kmeans and calculate the following validation metrics:\n",
        "- Silhouette score\n",
        "- Calinski-Harabasz score\n",
        "- Davies-Bouldin score"
      ]
    },
    {
      "cell_type": "code",
      "execution_count": 50,
      "id": "RAzPMKIjBNkl",
      "metadata": {
        "colab": {
          "base_uri": "https://localhost:8080/",
          "height": 559
        },
        "id": "RAzPMKIjBNkl",
        "outputId": "70c8e230-2c53-4c37-8353-1820bd34e37f"
      },
      "outputs": [
        {
          "data": {
            "image/png": "[encoded data removed]",
            "text/plain": [
              "<Figure size 800x550 with 1 Axes>"
            ]
          },
          "metadata": {},
          "output_type": "display_data"
        },
        {
          "data": {
            "text/plain": [
              "<Axes: title={'center': 'Silhouette Score Elbow for KMeans Clustering'}, xlabel='k', ylabel='silhouette score'>"
            ]
          },
          "execution_count": 50,
          "metadata": {},
          "output_type": "execute_result"
        }
      ],
      "source": [
        "# Silhouette score\n",
        "ke_silhouette = kelbow_visualizer(KMeans(random_state=0,\n",
        "                                         n_init=10),\n",
        "                                         X,\n",
        "                                         k=(2, 10),\n",
        "                                         metric='silhouette',\n",
        "                                         timings=False)\n",
        "\n",
        "ke_silhouette.fit(X_scaled)\n",
        "ke_silhouette.show()"
      ]
    },
    {
      "cell_type": "code",
      "execution_count": 51,
      "id": "szBIEPo-BNkl",
      "metadata": {
        "colab": {
          "base_uri": "https://localhost:8080/",
          "height": 559
        },
        "id": "szBIEPo-BNkl",
        "outputId": "110e17d7-985f-4c57-a357-8f811cee50c7"
      },
      "outputs": [
        {
          "data": {
            "image/png": "[encoded data removed]",
            "text/plain": [
              "<Figure size 800x550 with 1 Axes>"
            ]
          },
          "metadata": {},
          "output_type": "display_data"
        },
        {
          "data": {
            "text/plain": [
              "<Axes: title={'center': 'Calinski Harabasz Score Elbow for KMeans Clustering'}, xlabel='k', ylabel='calinski harabasz score'>"
            ]
          },
          "execution_count": 51,
          "metadata": {},
          "output_type": "execute_result"
        }
      ],
      "source": [
        "# Calinski-Harabasz Score\n",
        "\n",
        "# Instantiate the KElbowVisualizer for Calinski-Harabasz score\n",
        "ke_calinski = kelbow_visualizer(KMeans(random_state=0,\n",
        "                                       n_init=10),\n",
        "                                       X,\n",
        "                                       k=(2, 10),\n",
        "                                       metric='calinski_harabasz',\n",
        "                                       timings=False)\n",
        "\n",
        "ke_calinski.fit(X_scaled)\n",
        "ke_calinski.show()"
      ]
    },
    {
      "cell_type": "code",
      "execution_count": 52,
      "id": "pJDI3JgWBNkl",
      "metadata": {
        "colab": {
          "base_uri": "https://localhost:8080/",
          "height": 562
        },
        "id": "pJDI3JgWBNkl",
        "outputId": "2edc3d96-1cf2-4351-e0cb-4c286a206088"
      },
      "outputs": [
        {
          "data": {
            "image/png": "[encoded data removed]",
            "text/plain": [
              "<Figure size 800x600 with 1 Axes>"
            ]
          },
          "metadata": {},
          "output_type": "display_data"
        }
      ],
      "source": [
        "# Davies-Bouldin score\n",
        "# Instantiate the KElbowVisualizer for Davies-Bouldin score\n",
        "# ke_davies_bouldin = kelbow_visualizer(KMeans(random_state=0,\n",
        "#                                              n_init=10),\n",
        "#                                              X,\n",
        "#                                              k=(2, 10),\n",
        "#                                              metric='davies_bouldin',\n",
        "#                                              timings=False)\n",
        "#\n",
        "# ke_davies_bouldin.fit(X_scaled)\n",
        "# ke_davies_bouldin.show()\n",
        "\n",
        "# Initialize an empty list to store Davies-Bouldin scores for different cluster counts\n",
        "db_scores = []\n",
        "\n",
        "# Define a range of clusters to evaluate\n",
        "cluster_range = range(2, 11)  # Specify the range of cluster counts\n",
        "\n",
        "# Compute Davies-Bouldin scores for different numbers of clusters\n",
        "for k in cluster_range:\n",
        "    kmeans = KMeans(n_clusters=k, random_state=0, n_init=10)\n",
        "    kmeans.fit(X_scaled)\n",
        "    cluster_labels = kmeans.predict(X_scaled)\n",
        "    db_score = davies_bouldin_score(X_scaled, cluster_labels)\n",
        "    db_scores.append(db_score)\n",
        "\n",
        "# Visualize Davies-Bouldin scores for different numbers of clusters\n",
        "plt.figure(figsize=(8, 6))\n",
        "plt.plot(cluster_range, db_scores, marker='o', linestyle='-', color='b')\n",
        "plt.xlabel('Number of Clusters')\n",
        "plt.ylabel('Davies-Bouldin Score')\n",
        "plt.title('Davies-Bouldin Score vs. Number of Clusters')\n",
        "plt.grid(True)\n",
        "plt.show()"
      ]
    },
    {
      "cell_type": "code",
      "execution_count": 53,
      "id": "da40bf77",
      "metadata": {
        "colab": {
          "base_uri": "https://localhost:8080/",
          "height": 129
        },
        "id": "da40bf77",
        "outputId": "64491971-81fc-41e4-9131-529bc821b998"
      },
      "outputs": [
        {
          "name": "stderr",
          "output_type": "stream",
          "text": [
            "/usr/local/lib/python3.10/dist-packages/sklearn/cluster/_kmeans.py:870: FutureWarning: The default value of `n_init` will change from 10 to 'auto' in 1.4. Set the value of `n_init` explicitly to suppress the warning\n",
            "  warnings.warn(\n"
          ]
        },
        {
          "data": {
            "text/html": [
              "<style>#sk-container-id-4 {color: black;background-color: white;}#sk-container-id-4 pre{padding: 0;}#sk-container-id-4 div.sk-toggleable {background-color: white;}#sk-container-id-4 label.sk-toggleable__label {cursor: pointer;display: block;width: 100%;margin-bottom: 0;padding: 0.3em;box-sizing: border-box;text-align: center;}#sk-container-id-4 label.sk-toggleable__label-arrow:before {content: \"▸\";float: left;margin-right: 0.25em;color: #696969;}#sk-container-id-4 label.sk-toggleable__label-arrow:hover:before {color: black;}#sk-container-id-4 div.sk-estimator:hover label.sk-toggleable__label-arrow:before {color: black;}#sk-container-id-4 div.sk-toggleable__content {max-height: 0;max-width: 0;overflow: hidden;text-align: left;background-color: #f0f8ff;}#sk-container-id-4 div.sk-toggleable__content pre {margin: 0.2em;color: black;border-radius: 0.25em;background-color: #f0f8ff;}#sk-container-id-4 input.sk-toggleable__control:checked~div.sk-toggleable__content {max-height: 200px;max-width: 100%;overflow: auto;}#sk-container-id-4 input.sk-toggleable__control:checked~label.sk-toggleable__label-arrow:before {content: \"▾\";}#sk-container-id-4 div.sk-estimator input.sk-toggleable__control:checked~label.sk-toggleable__label {background-color: #d4ebff;}#sk-container-id-4 div.sk-label input.sk-toggleable__control:checked~label.sk-toggleable__label {background-color: #d4ebff;}#sk-container-id-4 input.sk-hidden--visually {border: 0;clip: rect(1px 1px 1px 1px);clip: rect(1px, 1px, 1px, 1px);height: 1px;margin: -1px;overflow: hidden;padding: 0;position: absolute;width: 1px;}#sk-container-id-4 div.sk-estimator {font-family: monospace;background-color: #f0f8ff;border: 1px dotted black;border-radius: 0.25em;box-sizing: border-box;margin-bottom: 0.5em;}#sk-container-id-4 div.sk-estimator:hover {background-color: #d4ebff;}#sk-container-id-4 div.sk-parallel-item::after {content: \"\";width: 100%;border-bottom: 1px solid gray;flex-grow: 1;}#sk-container-id-4 div.sk-label:hover label.sk-toggleable__label {background-color: #d4ebff;}#sk-container-id-4 div.sk-serial::before {content: \"\";position: absolute;border-left: 1px solid gray;box-sizing: border-box;top: 0;bottom: 0;left: 50%;z-index: 0;}#sk-container-id-4 div.sk-serial {display: flex;flex-direction: column;align-items: center;background-color: white;padding-right: 0.2em;padding-left: 0.2em;position: relative;}#sk-container-id-4 div.sk-item {position: relative;z-index: 1;}#sk-container-id-4 div.sk-parallel {display: flex;align-items: stretch;justify-content: center;background-color: white;position: relative;}#sk-container-id-4 div.sk-item::before, #sk-container-id-4 div.sk-parallel-item::before {content: \"\";position: absolute;border-left: 1px solid gray;box-sizing: border-box;top: 0;bottom: 0;left: 50%;z-index: -1;}#sk-container-id-4 div.sk-parallel-item {display: flex;flex-direction: column;z-index: 1;position: relative;background-color: white;}#sk-container-id-4 div.sk-parallel-item:first-child::after {align-self: flex-end;width: 50%;}#sk-container-id-4 div.sk-parallel-item:last-child::after {align-self: flex-start;width: 50%;}#sk-container-id-4 div.sk-parallel-item:only-child::after {width: 0;}#sk-container-id-4 div.sk-dashed-wrapped {border: 1px dashed gray;margin: 0 0.4em 0.5em 0.4em;box-sizing: border-box;padding-bottom: 0.4em;background-color: white;}#sk-container-id-4 div.sk-label label {font-family: monospace;font-weight: bold;display: inline-block;line-height: 1.2em;}#sk-container-id-4 div.sk-label-container {text-align: center;}#sk-container-id-4 div.sk-container {/* jupyter's `normalize.less` sets `[hidden] { display: none; }` but bootstrap.min.css set `[hidden] { display: none !important; }` so we also need the `!important` here to be able to override the default hidden behavior on the sphinx rendered scikit-learn.org. See: https://github.com/scikit-learn/scikit-learn/issues/21755 */display: inline-block !important;position: relative;}#sk-container-id-4 div.sk-text-repr-fallback {display: none;}</style><div id=\"sk-container-id-4\" class=\"sk-top-container\"><div class=\"sk-text-repr-fallback\"><pre>KMeans(n_clusters=3, random_state=0)</pre><b>In a Jupyter environment, please rerun this cell to show the HTML representation or trust the notebook. <br />On GitHub, the HTML representation is unable to render, please try loading this page with nbviewer.org.</b></div><div class=\"sk-container\" hidden><div class=\"sk-item\"><div class=\"sk-estimator sk-toggleable\"><input class=\"sk-toggleable__control sk-hidden--visually\" id=\"sk-estimator-id-4\" type=\"checkbox\" checked><label for=\"sk-estimator-id-4\" class=\"sk-toggleable__label sk-toggleable__label-arrow\">KMeans</label><div class=\"sk-toggleable__content\"><pre>KMeans(n_clusters=3, random_state=0)</pre></div></div></div></div></div>"
            ],
            "text/plain": [
              "KMeans(n_clusters=3, random_state=0)"
            ]
          },
          "execution_count": 53,
          "metadata": {},
          "output_type": "execute_result"
        }
      ],
      "source": [
        "# TODO: Implement K-means with the number of clusters determined in the previous step\n",
        "\n",
        "kmeans = KMeans(n_clusters=3, random_state=0)\n",
        "kmeans.fit(X_scaled)"
      ]
    },
    {
      "cell_type": "code",
      "execution_count": 54,
      "id": "085dc51c",
      "metadata": {
        "colab": {
          "base_uri": "https://localhost:8080/"
        },
        "id": "085dc51c",
        "outputId": "d5cc463d-f991-4ca3-fc52-884de719897e"
      },
      "outputs": [
        {
          "name": "stdout",
          "output_type": "stream",
          "text": [
            "Silhouette Score: 0.40072705527512986\n",
            "Calinski-Harabasz Score: 249.7841749161647\n",
            "Davies-Bouldin Score: 0.9278712249013426\n"
          ]
        }
      ],
      "source": [
        "# TODO: Calculate the three different validation metrics\n",
        "\n",
        "labels = kmeans.labels_\n",
        "\n",
        "# Silhouette score\n",
        "silhouette_avg = silhouette_score(X_scaled, labels)\n",
        "print(f\"Silhouette Score: {silhouette_avg}\")\n",
        "\n",
        "# Calinski-Harabasz score\n",
        "calinski_harabasz = calinski_harabasz_score(X_scaled, labels)\n",
        "print(f\"Calinski-Harabasz Score: {calinski_harabasz}\")\n",
        "\n",
        "# Davies-Bouldin score\n",
        "davies_bouldin = davies_bouldin_score(X_scaled, labels)\n",
        "print(f\"Davies-Bouldin Score: {davies_bouldin}\")"
      ]
    },
    {
      "cell_type": "markdown",
      "id": "40e40c04",
      "metadata": {
        "id": "40e40c04"
      },
      "source": [
        "Plot the clustering results using PCA. Remember to color each data point based on the cluster label."
      ]
    },
    {
      "cell_type": "code",
      "execution_count": 55,
      "id": "47012908",
      "metadata": {
        "colab": {
          "base_uri": "https://localhost:8080/",
          "height": 562
        },
        "id": "47012908",
        "outputId": "9712c84c-9219-4b33-c4d0-f33ddf8b8c8a"
      },
      "outputs": [
        {
          "data": {
            "image/png": "[encoded data removed]",
            "text/plain": [
              "<Figure size 800x600 with 1 Axes>"
            ]
          },
          "metadata": {},
          "output_type": "display_data"
        }
      ],
      "source": [
        "# TODO: Plot clustering results\n",
        "\n",
        "# pca = PCA(n_components=3)\n",
        "# X_pca = pca.fit_transform(X_scaled)\n",
        "\n",
        "# # Visualize clusters using a 3D scatter plot\n",
        "# fig = plt.figure(figsize=(10, 8))\n",
        "# ax = fig.add_subplot(111, projection='3d')\n",
        "\n",
        "# # Plot data points with different colors for each cluster\n",
        "# for label in set(labels):\n",
        "#     indices = labels == label\n",
        "#     ax.scatter(X_pca[indices, 0], X_pca[indices, 1], X_pca[indices, 2], label=f'Cluster {label}')\n",
        "\n",
        "# ax.set_xlabel('Principal Component 1')\n",
        "# ax.set_ylabel('Principal Component 2')\n",
        "# ax.set_zlabel('Principal Component 3')\n",
        "# ax.set_title('Clustering in 3D PCA Space')\n",
        "# ax.legend()\n",
        "# plt.show()\n",
        "\n",
        "pca = PCA(n_components=2)\n",
        "X_pca = pca.fit_transform(X_scaled)\n",
        "\n",
        "# Visualize clusters using a 2D scatter plot\n",
        "plt.figure(figsize=(8, 6))\n",
        "\n",
        "# Plot data points with different colors for each cluster\n",
        "for label in set(labels):\n",
        "    indices = labels == label\n",
        "    plt.scatter(X_pca[indices, 0], X_pca[indices, 1], label=f'Cluster {label}')\n",
        "\n",
        "plt.xlabel('Principal Component 1')\n",
        "plt.ylabel('Principal Component 2')\n",
        "plt.title('Clustering in 2D PCA Space')\n",
        "plt.legend()\n",
        "plt.show()"
      ]
    },
    {
      "cell_type": "markdown",
      "id": "48df428e",
      "metadata": {
        "id": "48df428e"
      },
      "source": [
        "### Step 2: Cluster using PCA-transformed data (4 marks)\n",
        "\n",
        "Implement Kmeans clustering using PCA-transformed data. The first step is to use the explained variance ratio to find the number of components required to explain at least 95% of the variance."
      ]
    },
    {
      "cell_type": "code",
      "execution_count": 56,
      "id": "de0a5d80",
      "metadata": {
        "colab": {
          "base_uri": "https://localhost:8080/",
          "height": 579
        },
        "id": "de0a5d80",
        "outputId": "7f6ffc17-0623-4a54-fc22-a694dbaf7c19"
      },
      "outputs": [
        {
          "name": "stdout",
          "output_type": "stream",
          "text": [
            "Number of components explaining 95% variance: 3\n"
          ]
        },
        {
          "data": {
            "image/png": "[encoded data removed]",
            "text/plain": [
              "<Figure size 800x600 with 1 Axes>"
            ]
          },
          "metadata": {},
          "output_type": "display_data"
        }
      ],
      "source": [
        "# TODO: Find the number of principal components using explained variance ratio\n",
        "\n",
        "# Initialize PCA and fit to the scaled data\n",
        "pca = PCA().fit(X_scaled)\n",
        "\n",
        "# Calculate the cumulative explained variance ratio\n",
        "cumulative_variance_ratio = np.cumsum(pca.explained_variance_ratio_)\n",
        "\n",
        "# Find the number of components explaining desired variance (e.g., 95%)\n",
        "n_components_desired_variance = np.argmax(cumulative_variance_ratio >= 0.95) + 1  # +1 for zero-based indexing\n",
        "\n",
        "print(f\"Number of components explaining 95% variance: {n_components_desired_variance}\")\n",
        "\n",
        "# Plot the explained variance ratio to visualize the variance explained by each component\n",
        "import matplotlib.pyplot as plt\n",
        "\n",
        "plt.figure(figsize=(8, 6))\n",
        "plt.plot(cumulative_variance_ratio, marker='o', linestyle='-', color='b')\n",
        "plt.xlabel('Number of Components')\n",
        "plt.ylabel('Cumulative Explained Variance Ratio')\n",
        "plt.title('Explained Variance Ratio vs. Number of Components')\n",
        "plt.axhline(y=0.95, color='r', linestyle='--', label='95% Variance Explained')\n",
        "plt.legend()\n",
        "plt.grid(True)\n",
        "plt.show()"
      ]
    },
    {
      "cell_type": "markdown",
      "id": "8af06a41",
      "metadata": {
        "id": "8af06a41"
      },
      "source": [
        "Next, transform the data using PCA, implement Kmeans and calculate the three validation metrics used in the previous step."
      ]
    },
    {
      "cell_type": "code",
      "execution_count": 57,
      "id": "3ed38b89",
      "metadata": {
        "colab": {
          "base_uri": "https://localhost:8080/",
          "height": 34
        },
        "id": "3ed38b89",
        "outputId": "43d506f9-1362-4fe4-dc33-a3d8f93035d0"
      },
      "outputs": [
        {
          "data": {
            "text/plain": [
              "array([0.71874303, 0.17108184])"
            ]
          },
          "metadata": {},
          "output_type": "display_data"
        }
      ],
      "source": [
        "# TODO: Use PCA to transform the data\n",
        "pca = PCA(n_components=2)\n",
        "X_pca = pca.fit_transform(X_scaled)\n",
        "explained_variance_ratio = pca.explained_variance_ratio_\n",
        "display(explained_variance_ratio)"
      ]
    },
    {
      "cell_type": "code",
      "execution_count": 58,
      "id": "cc8b981e",
      "metadata": {
        "colab": {
          "base_uri": "https://localhost:8080/"
        },
        "id": "cc8b981e",
        "outputId": "7090f8a9-0295-42cd-c446-f8a31e1716c3"
      },
      "outputs": [
        {
          "name": "stderr",
          "output_type": "stream",
          "text": [
            "/usr/local/lib/python3.10/dist-packages/sklearn/cluster/_kmeans.py:870: FutureWarning: The default value of `n_init` will change from 10 to 'auto' in 1.4. Set the value of `n_init` explicitly to suppress the warning\n",
            "  warnings.warn(\n"
          ]
        }
      ],
      "source": [
        "# TODO: Implement K-means with the transformed data\n",
        "\n",
        "kmeans = KMeans(n_clusters=3, random_state=0)\n",
        "\n",
        "# fit KMeans to the transformed data\n",
        "kmeans.fit(X_pca)\n",
        "\n",
        "# obtain cluster labels for the data points\n",
        "cluster_labels = kmeans.labels_\n",
        "\n",
        "# access cluster centers (centroids)\n",
        "cluster_centers = kmeans.cluster_centers_\n",
        "\n",
        "# access the inertia (sum of squared distances of samples to their closest cluster center)\n",
        "inertia = kmeans.inertia_"
      ]
    },
    {
      "cell_type": "code",
      "execution_count": 59,
      "id": "f5a3bf4b",
      "metadata": {
        "colab": {
          "base_uri": "https://localhost:8080/"
        },
        "id": "f5a3bf4b",
        "outputId": "2438cf7a-a6f1-4a7e-dce2-b0d3506932f7"
      },
      "outputs": [
        {
          "name": "stdout",
          "output_type": "stream",
          "text": [
            "Silhouette Score: 0.4928434916240086\n",
            "Calinski-Harabasz Index: 397.00858946651357\n",
            "Davies-Bouldin Index: 0.7083801812756491\n"
          ]
        }
      ],
      "source": [
        "# TODO: Calculate the three different validation metrics\n",
        "\n",
        "silhouette = silhouette_score(X_pca, cluster_labels)\n",
        "calinski_harabasz = calinski_harabasz_score(X_pca, cluster_labels)\n",
        "davies_bouldin = davies_bouldin_score(X_pca, cluster_labels)\n",
        "\n",
        "print(f\"Silhouette Score: {silhouette}\")\n",
        "print(f\"Calinski-Harabasz Index: {calinski_harabasz}\")\n",
        "print(f\"Davies-Bouldin Index: {davies_bouldin}\")"
      ]
    },
    {
      "cell_type": "markdown",
      "id": "50eb5219",
      "metadata": {
        "id": "50eb5219"
      },
      "source": [
        "### Step 3: Display results (2 marks)\n",
        "\n",
        "Print the results for Steps 2 and 3 in a table. Include column and row labels"
      ]
    },
    {
      "cell_type": "code",
      "execution_count": 60,
      "id": "6c945947",
      "metadata": {
        "colab": {
          "base_uri": "https://localhost:8080/"
        },
        "id": "6c945947",
        "outputId": "39e95f98-acdb-4d7d-e1a6-56faa50172b6"
      },
      "outputs": [
        {
          "name": "stdout",
          "output_type": "stream",
          "text": [
            "                    Metric       Value\n",
            "0         Silhouette Score    0.492843\n",
            "1  Calinski-Harabasz Index  397.008589\n",
            "2     Davies-Bouldin Index    0.708380\n"
          ]
        }
      ],
      "source": [
        "# TODO: Display results\n",
        "metrics_data = {\n",
        "    'Metric': ['Silhouette Score', 'Calinski-Harabasz Index', 'Davies-Bouldin Index'],\n",
        "    'Value': [silhouette, calinski_harabasz, davies_bouldin]\n",
        "}\n",
        "\n",
        "metrics_df = pd.DataFrame(metrics_data)\n",
        "print(metrics_df)"
      ]
    },
    {
      "cell_type": "markdown",
      "id": "e1086de9",
      "metadata": {
        "id": "e1086de9"
      },
      "source": [
        "#### Questions (4 marks)\n",
        "\n",
        "1. Did the optimal number of clusters make sense based on the context? *(1 mark)*\n",
        "1. Compare the PCA plot from Part 2 step 1 to the PCA plot from Part 1. Did we get similar results? *(1 mark)*\n",
        "1. How many components did you use for the PCA analysis? Did using PCA improve your results? Why or why not? *(2 marks)*\n",
        "\n",
        "\n",
        "#### Answers\n",
        "\n",
        "1. Given the original dataset's three class labels, it's logical that the ideal cluster count was 3.\n",
        "1. Indeed, the plots showcase comparable distributions across the three classes.\n",
        "1. Two components were utilized to account for at least 95% of the variance. Affirmatively, employing PCA enhanced my outcomes. Typically, reducing the feature count enhances clustering accuracy due to the curse of dimensionality."
      ]
    },
    {
      "cell_type": "markdown",
      "id": "521489ee",
      "metadata": {
        "id": "521489ee"
      },
      "source": [
        "### Process Description (4 marks)\n",
        "Please describe the process you used to create your code. Cite any websites or generative AI tools used. You can use the following questions as guidance:\n",
        "1. Where did you source your code?\n",
        "1. In what order did you complete the steps?\n",
        "1. If you used generative AI, what prompts did you use? Did you need to modify the code at all? Why or why not?\n",
        "1. Did you have any challenges? If yes, what were they? If not, what helped you to be successful?"
      ]
    },
    {
      "cell_type": "markdown",
      "id": "e4ae4b12",
      "metadata": {
        "id": "e4ae4b12"
      },
      "source": [
        "### Answers:\n",
        "\n",
        "1. From peers, from notes, googling, gen AI.\n",
        "1. Did them sequentially, as they appeared on the notebook.\n",
        "1. Asked gen AI to explain the concepts like PCA, KMeans, and the various scores calculated. Asked for code to do plots and sample code for implementing the models.\n",
        "1. Some of the directions were a little vague. Searching through the examples provided some help but overall it was alot of looking up concepts and samples online."
      ]
    },
    {
      "cell_type": "markdown",
      "id": "05e42ec7",
      "metadata": {
        "id": "05e42ec7"
      },
      "source": [
        "## Part 3: Reflection (2 marks)\n",
        "Include a sentence or two about:\n",
        "- what you liked or disliked,\n",
        "- found interesting, confusing, challangeing, motivating\n",
        "while working on this assignment.\n",
        "\n",
        "\n",
        "#### Answers:\n",
        "\n",
        "1. I liked the visualization part of the assignment. I liked seeing examples of how the concepts relate to the models.\n",
        "1. I disliked some of the guesswork related to implementing the models via code as I found it a little difficult to determine what I need to do."
      ]
    },
    {
      "cell_type": "code",
      "execution_count": 60,
      "id": "a9755613",
      "metadata": {
        "id": "a9755613"
      },
      "outputs": [],
      "source": []
    }
  ],
  "metadata": {
    "colab": {
      "provenance": []
    },
    "kernelspec": {
      "display_name": "Python 3 (ipykernel)",
      "language": "python",
      "name": "python3"
    },
    "language_info": {
      "codemirror_mode": {
        "name": "ipython",
        "version": 3
      },
      "file_extension": ".py",
      "mimetype": "text/x-python",
      "name": "python",
      "nbconvert_exporter": "python",
      "pygments_lexer": "ipython3",
      "version": "3.11.4"
    }
  },
  "nbformat": 4,
  "nbformat_minor": 5
}
