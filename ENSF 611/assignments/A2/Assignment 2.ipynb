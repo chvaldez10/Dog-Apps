{
 "cells": [
  {
   "cell_type": "markdown",
   "id": "92778525",
   "metadata": {},
   "source": [
    "# Assignment 2: Linear Models and Validation Metrics\n",
    "Due Date: October 10, 2023\n",
    "<br>\n",
    "<br>\n",
    "Name: Christian Valdez"
   ]
  },
  {
   "cell_type": "markdown",
   "id": "f7c6de86",
   "metadata": {},
   "source": [
    "## Part 1: Classification (14.5 marks total)"
   ]
  },
  {
   "cell_type": "markdown",
   "id": "7e3c6fc8",
   "metadata": {},
   "source": [
    "### Step 0: Import Libraries"
   ]
  },
  {
   "cell_type": "code",
   "execution_count": 1,
   "id": "33f86925",
   "metadata": {},
   "outputs": [],
   "source": [
    "# common libraries\n",
    "import numpy as np\n",
    "import pandas as pd\n",
    "import matplotlib.pyplot as plt\n",
    "\n",
    "# for datasets\n",
    "import yellowbrick\n",
    "from yellowbrick.datasets import load_spam, load_concrete\n",
    "\n",
    "# sklearn\n",
    "from sklearn.model_selection import train_test_split"
   ]
  },
  {
   "cell_type": "markdown",
   "id": "5f9d33a8",
   "metadata": {},
   "source": [
    "### Step 1: Data Input (1 mark)\n",
    "\n",
    "The data used for this task can be downloaded using the yellowbrick library: \n",
    "https://www.scikit-yb.org/en/latest/api/datasets/spam.html"
   ]
  },
  {
   "cell_type": "code",
   "execution_count": 2,
   "id": "33583c67",
   "metadata": {},
   "outputs": [],
   "source": [
    "# import spam dataset\n",
    "X, y = yellowbrick.datasets.loaders.load_spam(\n",
    "    data_home=None, return_dataset=False)"
   ]
  },
  {
   "cell_type": "code",
   "execution_count": 3,
   "id": "f18bfd94",
   "metadata": {},
   "outputs": [
    {
     "name": "stdout",
     "output_type": "stream",
     "text": [
      "There are 4600 samples and 57 features.\n",
      "The size of the feature matrix is 262200.\n"
     ]
    }
   ],
   "source": [
    "# feature matrix\n",
    "rows, cols = X.shape\n",
    "data_size = X.size\n",
    "print(f\"There are {rows} samples and {cols} features.\\nThe size of the feature matrix is {data_size}.\")"
   ]
  },
  {
   "cell_type": "code",
   "execution_count": 4,
   "id": "8d23ca20",
   "metadata": {},
   "outputs": [
    {
     "name": "stdout",
     "output_type": "stream",
     "text": [
      "The feature matrix comes with the corresponding 4600 labels.\n",
      "1 indicating a not spam email (ham) and 0 for a spam email.\n"
     ]
    }
   ],
   "source": [
    "# feature labels\n",
    "rows, = y.shape\n",
    "print(f\"The feature matrix comes with the corresponding {rows} labels.\\n1 indicating a not spam email (ham) and 0 for a spam email.\")"
   ]
  },
  {
   "cell_type": "code",
   "execution_count": 5,
   "id": "dd440e39",
   "metadata": {},
   "outputs": [
    {
     "name": "stdout",
     "output_type": "stream",
     "text": [
      "Data type for features: \n",
      "word_freq_make: float64\n",
      "word_freq_address: float64\n",
      "word_freq_all: float64\n",
      "word_freq_3d: float64\n",
      "word_freq_our: float64\n",
      "word_freq_over: float64\n",
      "word_freq_remove: float64\n",
      "word_freq_internet: float64\n",
      "word_freq_order: float64\n",
      "word_freq_mail: float64\n",
      "word_freq_receive: float64\n",
      "word_freq_will: float64\n",
      "word_freq_people: float64\n",
      "word_freq_report: float64\n",
      "word_freq_addresses: float64\n",
      "word_freq_free: float64\n",
      "word_freq_business: float64\n",
      "word_freq_email: float64\n",
      "word_freq_you: float64\n",
      "word_freq_credit: float64\n",
      "word_freq_your: float64\n",
      "word_freq_font: float64\n",
      "word_freq_000: float64\n",
      "word_freq_money: float64\n",
      "word_freq_hp: float64\n",
      "word_freq_hpl: float64\n",
      "word_freq_george: float64\n",
      "word_freq_650: float64\n",
      "word_freq_lab: float64\n",
      "word_freq_labs: float64\n",
      "word_freq_telnet: float64\n",
      "word_freq_857: float64\n",
      "word_freq_data: float64\n",
      "word_freq_415: float64\n",
      "word_freq_85: float64\n",
      "word_freq_technology: float64\n",
      "word_freq_1999: float64\n",
      "word_freq_parts: float64\n",
      "word_freq_pm: float64\n",
      "word_freq_direct: float64\n",
      "word_freq_cs: float64\n",
      "word_freq_meeting: float64\n",
      "word_freq_original: float64\n",
      "word_freq_project: float64\n",
      "word_freq_re: float64\n",
      "word_freq_edu: float64\n",
      "word_freq_table: float64\n",
      "word_freq_conference: float64\n",
      "char_freq_;: float64\n",
      "char_freq_(: float64\n",
      "char_freq_[: float64\n",
      "char_freq_!: float64\n",
      "char_freq_$: float64\n",
      "char_freq_#: float64\n",
      "capital_run_length_average: float64\n",
      "capital_run_length_longest: int64\n",
      "capital_run_length_total: int64\n"
     ]
    }
   ],
   "source": [
    "# feature data type\n",
    "print(\"Data type for features: \", )\n",
    "for feature, dtype in X.dtypes.items():\n",
    "    print(f\"{feature}: {dtype}\")"
   ]
  },
  {
   "cell_type": "code",
   "execution_count": 6,
   "id": "5f4625b9",
   "metadata": {},
   "outputs": [
    {
     "data": {
      "image/png": "[encoded data removed]",
      "text/plain": [
       "<Figure size 800x550 with 1 Axes>"
      ]
     },
     "metadata": {},
     "output_type": "display_data"
    }
   ],
   "source": [
    "\"\"\"\n",
    "    Checking for sample distribution.\n",
    "\"\"\"\n",
    "\n",
    "# get unique labels\n",
    "unique, counts = np.unique(y, return_counts=True)\n",
    "\n",
    "# display distribution using bar plot\n",
    "plt.bar(unique, counts, color=['blue', 'red'])\n",
    "plt.xlabel('Label')\n",
    "plt.ylabel('Count')\n",
    "plt.title('Distribution of Labels in the Spam Dataset')\n",
    "plt.xticks(unique, ['Ham (0)', 'Spam (1)'])\n",
    "plt.grid(axis='y')\n",
    "\n",
    "plt.show()\n"
   ]
  },
  {
   "cell_type": "markdown",
   "id": "156db208",
   "metadata": {},
   "source": [
    "### Step 2: Data Processing (1.5 marks)"
   ]
  },
  {
   "cell_type": "code",
   "execution_count": 7,
   "id": "db37c02a",
   "metadata": {},
   "outputs": [
    {
     "name": "stdout",
     "output_type": "stream",
     "text": [
      "There are no missing values in X.\n",
      "There are no missing values in y.\n"
     ]
    }
   ],
   "source": [
    "# check for missing values\n",
    "missing_values_X = X.isnull().sum().sum()\n",
    "missing_values_y = y.isnull().sum()\n",
    "\n",
    "if missing_values_X != 0:\n",
    "    X.fillna(0, inplace=True)\n",
    "    print(f\"Filled missing values in X. Total filled: {missing_values_X}\")\n",
    "else:\n",
    "    print(\"There are no missing values in X.\")\n",
    "\n",
    "if missing_values_y != 0:\n",
    "    y.fillna(0, inplace=True)\n",
    "    print(f\"Filled missing values in y. Total filled: {missing_values_y}\")\n",
    "else:\n",
    "    print(\"There are no missing values in y.\")"
   ]
  },
  {
   "cell_type": "code",
   "execution_count": 8,
   "id": "f9bc4a23",
   "metadata": {},
   "outputs": [
    {
     "name": "stdout",
     "output_type": "stream",
     "text": [
      "Training set size: 230\n",
      "Test set size: 230\n"
     ]
    }
   ],
   "source": [
    "# split data with test size 5% of the data\n",
    "X_train, X_small, y_train, y_small = train_test_split(\n",
    "    X, y, test_size=0.05, random_state=42)\n",
    "\n",
    "print(f\"Training set size: {len(X_small)}\")\n",
    "print(f\"Test set size: {len(y_small)}\")"
   ]
  },
  {
   "cell_type": "markdown",
   "id": "70e6c46f",
   "metadata": {},
   "source": [
    "### Step 3: Implement Machine Learning Model\n",
    "\n",
    "1. Import `LogisticRegression` from sklearn\n",
    "2. Instantiate model `LogisticRegression(max_iter=2000)`.\n",
    "3. Implement the machine learning model with three different datasets: \n",
    "    - `X` and `y`\n",
    "    - Only first two columns of `X` and `y`\n",
    "    - `X_small` and `y_small`"
   ]
  },
  {
   "cell_type": "markdown",
   "id": "b89f3d84",
   "metadata": {},
   "source": [
    "### Step 4: Validate Model\n",
    "\n",
    "Calculate the training and validation accuracy for the three different tests implemented in Step 3"
   ]
  },
  {
   "cell_type": "markdown",
   "id": "352106a3",
   "metadata": {},
   "source": [
    "### Step 5: Visualize Results (4 marks)\n",
    "\n",
    "1. Create a pandas DataFrame `results` with columns: Data size, training accuracy, validation accuracy\n",
    "2. Add the data size, training and validation accuracy for each dataset to the `results` DataFrame\n",
    "3. Print `results`"
   ]
  },
  {
   "cell_type": "code",
   "execution_count": 9,
   "id": "be4b5c0a",
   "metadata": {},
   "outputs": [
    {
     "name": "stdout",
     "output_type": "stream",
     "text": [
      "Training with Full Dataset\n"
     ]
    },
    {
     "name": "stdout",
     "output_type": "stream",
     "text": [
      "Training with First Two Columns\n",
      "Training with 5% of the dataset\n"
     ]
    }
   ],
   "source": [
    "# TO DO: ADD YOUR CODE HERE FOR STEPS 3-5\n",
    "# Note: for any random state parameters, you can use random_state = 0\n",
    "# HINT: USING A LOOP TO STORE THE DATA IN YOUR RESULTS DATAFRAME WILL BE MORE EFFICIENT\n",
    "\n",
    "# import\n",
    "from sklearn.linear_model import LogisticRegression\n",
    "from sklearn.metrics import accuracy_score\n",
    "\n",
    "# get the first two columns\n",
    "x_first_two_columns = X.iloc[:, :2]\n",
    "x_first_two_columns.head()\n",
    "\n",
    "# results dataframe\n",
    "results = {\n",
    "    \"Data Size\": [],\n",
    "    \"Training Accuracy\": [],\n",
    "    \"Validation Accuracy\": []\n",
    "}\n",
    "\n",
    "# datasets\n",
    "X_datasets = [X, x_first_two_columns, X_small]\n",
    "X_labels = [y, y, y_small]\n",
    "X_dataset_names = [\"Full Dataset\", \"First Two Columns\", \"5% of the dataset\"]\n",
    "\n",
    "for dataset_num in range(3):\n",
    "    print(f\"Training with {X_dataset_names[dataset_num]}\")\n",
    "    x1, x2, y1, y2 = train_test_split(X_datasets[dataset_num], X_labels[dataset_num], test_size=0.2, random_state=0)\n",
    "\n",
    "    # instantiate the model\n",
    "    model = LogisticRegression(max_iter=2000)\n",
    "\n",
    "    # train the dataset\n",
    "    model.fit(x1, y1)\n",
    "\n",
    "    # training accuracy\n",
    "    training_score = model.score(x1, y1)\n",
    "\n",
    "    # validation accuracy\n",
    "    validation_score = model.score(x2, y2)\n",
    "\n",
    "    # appends to results table\n",
    "    results[\"Data Size\"].append(len(X_datasets[dataset_num]))\n",
    "    results[\"Training Accuracy\"].append(training_score)\n",
    "    results[\"Validation Accuracy\"].append(validation_score)\n",
    "\n",
    "results_df = pd.DataFrame(results)\n",
    "results_df.index = X_dataset_names"
   ]
  },
  {
   "cell_type": "code",
   "execution_count": 10,
   "id": "d0274ef6",
   "metadata": {},
   "outputs": [
    {
     "data": {
      "text/html": [
       "<div>\n",
       "<style scoped>\n",
       "    .dataframe tbody tr th:only-of-type {\n",
       "        vertical-align: middle;\n",
       "    }\n",
       "\n",
       "    .dataframe tbody tr th {\n",
       "        vertical-align: top;\n",
       "    }\n",
       "\n",
       "    .dataframe thead th {\n",
       "        text-align: right;\n",
       "    }\n",
       "</style>\n",
       "<table border=\"1\" class=\"dataframe\">\n",
       "  <thead>\n",
       "    <tr style=\"text-align: right;\">\n",
       "      <th></th>\n",
       "      <th>Data Size</th>\n",
       "      <th>Training Accuracy</th>\n",
       "      <th>Validation Accuracy</th>\n",
       "    </tr>\n",
       "  </thead>\n",
       "  <tbody>\n",
       "    <tr>\n",
       "      <th>Full Dataset</th>\n",
       "      <td>4600</td>\n",
       "      <td>0.927446</td>\n",
       "      <td>0.936957</td>\n",
       "    </tr>\n",
       "    <tr>\n",
       "      <th>First Two Columns</th>\n",
       "      <td>4600</td>\n",
       "      <td>0.614946</td>\n",
       "      <td>0.593478</td>\n",
       "    </tr>\n",
       "    <tr>\n",
       "      <th>5% of the dataset</th>\n",
       "      <td>230</td>\n",
       "      <td>0.940217</td>\n",
       "      <td>0.847826</td>\n",
       "    </tr>\n",
       "  </tbody>\n",
       "</table>\n",
       "</div>"
      ],
      "text/plain": [
       "                   Data Size  Training Accuracy  Validation Accuracy\n",
       "Full Dataset            4600           0.927446             0.936957\n",
       "First Two Columns       4600           0.614946             0.593478\n",
       "5% of the dataset        230           0.940217             0.847826"
      ]
     },
     "execution_count": 10,
     "metadata": {},
     "output_type": "execute_result"
    }
   ],
   "source": [
    "results_df.head()"
   ]
  },
  {
   "cell_type": "markdown",
   "id": "d4427d4f",
   "metadata": {},
   "source": [
    "### Questions (4 marks)\n",
    "1. How do the training and validation accuracy change depending on the amount of data used? Explain with values.\n",
    "2. In this case, what do a false positive and a false negative represent? Which one is worse?\n",
    "\n",
    "*YOUR ANSWERS HERE*"
   ]
  },
  {
   "cell_type": "markdown",
   "id": "7559517a",
   "metadata": {},
   "source": [
    "### Process Description (4 marks)\n",
    "Please describe the process you used to create your code. Cite any websites or generative AI tools used. You can use the following questions as guidance:\n",
    "1. Where did you source your code?\n",
    "1. In what order did you complete the steps?\n",
    "1. If you used generative AI, what prompts did you use? Did you need to modify the code at all? Why or why not?\n",
    "1. Did you have any challenges? If yes, what were they? If not, what helped you to be successful?"
   ]
  },
  {
   "cell_type": "markdown",
   "id": "59fe687f",
   "metadata": {},
   "source": [
    "*DESCRIBE YOUR PROCESS HERE*"
   ]
  },
  {
   "cell_type": "markdown",
   "id": "fb4c78a8",
   "metadata": {},
   "source": [
    "## Part 2: Regression (10.5 marks total)\n",
    "\n",
    "For this section, we will be evaluating concrete compressive strength of different concrete samples, based on age and ingredients. You will need to repeat the steps 1-4 from Part 1 for this analysis."
   ]
  },
  {
   "cell_type": "markdown",
   "id": "b2ba83c5",
   "metadata": {},
   "source": [
    "### Step 1: Data Input (1 mark)\n",
    "\n",
    "The data used for this task can be downloaded using the yellowbrick library: \n",
    "https://www.scikit-yb.org/en/latest/api/datasets/concrete.html"
   ]
  },
  {
   "cell_type": "code",
   "execution_count": 11,
   "id": "6ff2e34f",
   "metadata": {},
   "outputs": [],
   "source": [
    "# import  dataset\n",
    "X, y = yellowbrick.datasets.loaders.load_concrete(\n",
    "    data_home=None, return_dataset=False)\n"
   ]
  },
  {
   "cell_type": "code",
   "execution_count": 12,
   "id": "6a25a617",
   "metadata": {},
   "outputs": [
    {
     "name": "stdout",
     "output_type": "stream",
     "text": [
      "There are 1030 samples and 8 features.\n",
      "The size of the feature matrix is 8240.\n"
     ]
    }
   ],
   "source": [
    "# feature matrix\n",
    "rows, cols = X.shape\n",
    "data_size = X.size\n",
    "print(\n",
    "    f\"There are {rows} samples and {cols} features.\\nThe size of the feature matrix is {data_size}.\")\n"
   ]
  },
  {
   "cell_type": "markdown",
   "id": "c5294cfa",
   "metadata": {},
   "source": [
    "### Step 2: Data Processing (0.5 marks)"
   ]
  },
  {
   "cell_type": "code",
   "execution_count": 13,
   "id": "693c5fa3",
   "metadata": {},
   "outputs": [
    {
     "name": "stdout",
     "output_type": "stream",
     "text": [
      "There are no missing values in X.\n",
      "There are no missing values in y.\n"
     ]
    }
   ],
   "source": [
    "# check for missing values\n",
    "missing_values_X = X.isnull().sum().sum()\n",
    "missing_values_y = y.isnull().sum()\n",
    "\n",
    "if missing_values_X != 0:\n",
    "    X.fillna(0, inplace=True)\n",
    "    print(f\"Filled missing values in X. Total filled: {missing_values_X}\")\n",
    "else:\n",
    "    print(\"There are no missing values in X.\")\n",
    "\n",
    "if missing_values_y != 0:\n",
    "    y.fillna(0, inplace=True)\n",
    "    print(f\"Filled missing values in y. Total filled: {missing_values_y}\")\n",
    "else:\n",
    "    print(\"There are no missing values in y.\")\n"
   ]
  },
  {
   "cell_type": "markdown",
   "id": "1bc60489",
   "metadata": {},
   "source": [
    "### Step 3: Implement Machine Learning Model (1 mark)"
   ]
  },
  {
   "cell_type": "code",
   "execution_count": 14,
   "id": "60b3df29",
   "metadata": {},
   "outputs": [],
   "source": [
    "#import Linear Regression\n",
    "from sklearn.linear_model import LinearRegression\n",
    "from sklearn.metrics import mean_absolute_error, mean_squared_error"
   ]
  },
  {
   "cell_type": "markdown",
   "id": "87268c1d",
   "metadata": {},
   "source": [
    "Questions:\n",
    "1. Do we need to split the data?"
   ]
  },
  {
   "cell_type": "code",
   "execution_count": 15,
   "id": "eaaa65ec",
   "metadata": {},
   "outputs": [],
   "source": [
    "# split data\n",
    "X_train, X_test, y_train, y_test = train_test_split(X, y, random_state=42)"
   ]
  },
  {
   "cell_type": "code",
   "execution_count": 16,
   "id": "88f6f32e",
   "metadata": {},
   "outputs": [
    {
     "name": "stdout",
     "output_type": "stream",
     "text": [
      "Linear Regression:\n",
      "Mean Absolute Error: 7.987381206165306\n",
      "Root Mean Squared Error: 10.07952923349645\n"
     ]
    }
   ],
   "source": [
    "# Initialize and train a linear regression model\n",
    "linear_model = LinearRegression()\n",
    "linear_model.fit(X_train, y_train)\n",
    "\n",
    "# Make predictions\n",
    "linear_predictions = linear_model.predict(X_test)\n",
    "\n",
    "# Evaluate the model\n",
    "linear_mae = mean_absolute_error(y_test, linear_predictions)\n",
    "linear_rmse = np.sqrt(mean_squared_error(y_test, linear_predictions))\n",
    "\n",
    "print(\"Linear Regression:\")\n",
    "print(f\"Mean Absolute Error: {linear_mae}\")\n",
    "print(f\"Root Mean Squared Error: {linear_rmse}\")"
   ]
  },
  {
   "cell_type": "markdown",
   "id": "1de28482",
   "metadata": {},
   "source": [
    "### Step 4: Validate Model (1 mark)\n",
    "\n",
    "Calculate the training and validation accuracy using mean squared error and R2 score."
   ]
  },
  {
   "cell_type": "code",
   "execution_count": 17,
   "id": "970c038b",
   "metadata": {},
   "outputs": [],
   "source": [
    "# TO DO: ADD YOUR CODE HERE"
   ]
  },
  {
   "cell_type": "markdown",
   "id": "54aa7795",
   "metadata": {},
   "source": [
    "### Step 5: Visualize Results (1 mark)\n",
    "1. Create a pandas DataFrame `results` with columns: Training accuracy and Validation accuracy, and index: MSE and R2 score\n",
    "2. Add the accuracy results to the `results` DataFrame\n",
    "3. Print `results`"
   ]
  },
  {
   "cell_type": "code",
   "execution_count": 18,
   "id": "88d223f3",
   "metadata": {},
   "outputs": [],
   "source": [
    "# TO DO: ADD YOUR CODE HERE"
   ]
  },
  {
   "cell_type": "markdown",
   "id": "70a42bda",
   "metadata": {},
   "source": [
    "### Questions (2 marks)\n",
    "1. Did using a linear model produce good results for this dataset? Why or why not?"
   ]
  },
  {
   "cell_type": "markdown",
   "id": "2ca0ff2f",
   "metadata": {},
   "source": [
    "### Process Description (4 marks)\n",
    "Please describe the process you used to create your code. Cite any websites or generative AI tools used. You can use the following questions as guidance:\n",
    "1. Where did you source your code?\n",
    "1. In what order did you complete the steps?\n",
    "1. If you used generative AI, what prompts did you use? Did you need to modify the code at all? Why or why not?\n",
    "1. Did you have any challenges? If yes, what were they? If not, what helped you to be successful?"
   ]
  },
  {
   "cell_type": "markdown",
   "id": "dfdb0880",
   "metadata": {},
   "source": [
    "*DESCRIBE YOUR PROCESS HERE*"
   ]
  },
  {
   "cell_type": "markdown",
   "id": "e72ac3eb",
   "metadata": {},
   "source": [
    "## Part 3: Observations/Interpretation (3 marks)\n",
    "\n",
    "Describe any pattern you see in the results. Relate your findings to what we discussed during lectures. Include data to justify your findings.\n",
    "\n",
    "\n",
    "*ADD YOUR FINDINGS HERE*"
   ]
  },
  {
   "cell_type": "markdown",
   "id": "40b84eed",
   "metadata": {},
   "source": [
    "## Part 4: Reflection (2 marks)\n",
    "Include a sentence or two about:\n",
    "- what you liked or disliked,\n",
    "- found interesting, confusing, challangeing, motivating\n",
    "while working on this assignment.\n",
    "\n",
    "\n",
    "*ADD YOUR THOUGHTS HERE*"
   ]
  },
  {
   "cell_type": "markdown",
   "id": "db951b3a",
   "metadata": {},
   "source": [
    "## Part 5: Bonus Question (4 marks)\n",
    "\n",
    "Repeat Part 2 with Ridge and Lasso regression to see if you can improve the accuracy results. Which method and what value of alpha gave you the best R^2 score? Is this score \"good enough\"? Explain why or why not.\n",
    "\n",
    "**Remember**: Only test values of alpha from 0.001 to 100 along the logorithmic scale."
   ]
  },
  {
   "cell_type": "code",
   "execution_count": 19,
   "id": "47623d44",
   "metadata": {},
   "outputs": [],
   "source": [
    "# TO DO: ADD YOUR CODE HERE"
   ]
  },
  {
   "cell_type": "markdown",
   "id": "1b606236",
   "metadata": {},
   "source": [
    "*ANSWER HERE*"
   ]
  }
 ],
 "metadata": {
  "kernelspec": {
   "display_name": "Python 3 (ipykernel)",
   "language": "python",
   "name": "python3"
  },
  "language_info": {
   "codemirror_mode": {
    "name": "ipython",
    "version": 3
   },
   "file_extension": ".py",
   "mimetype": "text/x-python",
   "name": "python",
   "nbconvert_exporter": "python",
   "pygments_lexer": "ipython3",
   "version": "3.11.4"
  }
 },
 "nbformat": 4,
 "nbformat_minor": 5
}
