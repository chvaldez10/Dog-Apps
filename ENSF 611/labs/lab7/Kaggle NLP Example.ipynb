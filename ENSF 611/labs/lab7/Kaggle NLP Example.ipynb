{
 "cells": [
  {
   "cell_type": "markdown",
   "id": "e0acdb43-98d4-40b2-8ceb-f3d34670cdd2",
   "metadata": {},
   "source": [
    "# Kaggle NLP with Disaster Tweets\n",
    "\n",
    "Competition: https://www.kaggle.com/competitions/nlp-getting-started/overview\n",
    "\n",
    "Download the data with [Kaggle CLI](https://www.kaggle.com/docs/api)\n",
    "\n",
    "```bash\n",
    "kaggle competitions download -c nlp-getting-started\n",
    "```\n",
    "\n",
    "Or manually from the competition website."
   ]
  },
  {
   "cell_type": "markdown",
   "id": "fbb395f5-f71f-4294-bf0e-3bcc8ff78b7c",
   "metadata": {},
   "source": [
    "### Load the data"
   ]
  },
  {
   "cell_type": "code",
   "execution_count": null,
   "id": "1437d144-73d0-45cf-846c-9fd19ae5d29c",
   "metadata": {},
   "outputs": [],
   "source": [
    "import pandas as pd"
   ]
  },
  {
   "cell_type": "code",
   "execution_count": null,
   "id": "c997b541-07e2-42af-9b7c-02a88837aeb3",
   "metadata": {
    "scrolled": true
   },
   "outputs": [],
   "source": [
    "tweets = pd.read_csv('data/nlp-getting-started/train.csv')\n",
    "tweets.head()"
   ]
  },
  {
   "cell_type": "code",
   "execution_count": null,
   "id": "04420f81-7755-4147-9728-dcdda9a21201",
   "metadata": {},
   "outputs": [],
   "source": [
    "X = tweets['text']\n",
    "y = tweets['target']\n",
    "\n",
    "X.shape, y.shape"
   ]
  },
  {
   "cell_type": "code",
   "execution_count": null,
   "id": "c73d1ac3-fd6e-4af8-b9db-bc452b3b73ef",
   "metadata": {},
   "outputs": [],
   "source": [
    "y.value_counts()"
   ]
  },
  {
   "cell_type": "markdown",
   "id": "4355d93e-e26c-4939-b11c-43bb727af730",
   "metadata": {},
   "source": [
    "### CountVectorizer"
   ]
  },
  {
   "cell_type": "code",
   "execution_count": null,
   "id": "f6fea843-c3c3-4630-bb77-7773771cbc7b",
   "metadata": {},
   "outputs": [],
   "source": [
    "from sklearn.feature_extraction.text import CountVectorizer"
   ]
  },
  {
   "cell_type": "code",
   "execution_count": null,
   "id": "71f6b95e-9ed7-4aa6-b494-bd99d63c8b09",
   "metadata": {},
   "outputs": [],
   "source": [
    "vect = CountVectorizer(stop_words='english', strip_accents='unicode', min_df=5)"
   ]
  },
  {
   "cell_type": "code",
   "execution_count": null,
   "id": "d7a8d048-e25a-4d75-8feb-ce1a170e8026",
   "metadata": {},
   "outputs": [],
   "source": [
    "vect.fit(X)"
   ]
  },
  {
   "cell_type": "code",
   "execution_count": null,
   "id": "f9a7dd15-3f7a-4524-80fb-005afecf4d9b",
   "metadata": {},
   "outputs": [],
   "source": [
    "len(vect.vocabulary_)"
   ]
  },
  {
   "cell_type": "code",
   "execution_count": null,
   "id": "52aa4c0c-1a3e-4b47-a78e-37ede9232963",
   "metadata": {},
   "outputs": [],
   "source": [
    "X_vect = vect.transform(X)"
   ]
  },
  {
   "cell_type": "markdown",
   "id": "3c304583-47ec-4423-a32f-04778cacddb7",
   "metadata": {},
   "source": [
    "### Train the model"
   ]
  },
  {
   "cell_type": "code",
   "execution_count": null,
   "id": "4c0aa56d-a64d-43d9-a11f-dbd283632eaa",
   "metadata": {},
   "outputs": [],
   "source": [
    "from sklearn.model_selection import GridSearchCV\n",
    "from sklearn.linear_model import LogisticRegression\n",
    "from sklearn.model_selection import StratifiedKFold\n",
    "\n",
    "cv = StratifiedKFold(n_splits=5, shuffle=True, random_state=287)\n",
    "\n",
    "param_grid = {'C': [0.01, 0.1, 1.0, 10.0]}\n",
    "\n",
    "grid = GridSearchCV(LogisticRegression(max_iter=500), \n",
    "                    param_grid=param_grid, \n",
    "                    cv=cv, \n",
    "                    scoring='f1',\n",
    "                   return_train_score=True)"
   ]
  },
  {
   "cell_type": "code",
   "execution_count": null,
   "id": "39a00486-0b6b-4b10-9236-4feed4ca14bf",
   "metadata": {},
   "outputs": [],
   "source": [
    "grid.fit(X_vect,y)"
   ]
  },
  {
   "cell_type": "code",
   "execution_count": null,
   "id": "2f91c7f3-fde1-4b56-b60f-15b29670a183",
   "metadata": {},
   "outputs": [],
   "source": [
    "grid.best_score_"
   ]
  },
  {
   "cell_type": "code",
   "execution_count": null,
   "id": "66d1b598-f166-41fc-8a04-df8156630e5f",
   "metadata": {},
   "outputs": [],
   "source": [
    "grid.best_params_"
   ]
  },
  {
   "cell_type": "code",
   "execution_count": null,
   "id": "e62f5353-852c-4128-9bd0-b42a92ef5092",
   "metadata": {},
   "outputs": [],
   "source": [
    "grid.cv_results_['mean_train_score']"
   ]
  },
  {
   "cell_type": "code",
   "execution_count": null,
   "id": "eb2368b8-2992-44bc-94f4-70c5bd0a244e",
   "metadata": {},
   "outputs": [],
   "source": [
    "grid.cv_results_['mean_test_score']"
   ]
  },
  {
   "cell_type": "markdown",
   "id": "9084e75d-03a2-460e-a300-ea54da64067b",
   "metadata": {},
   "source": [
    "### Predict on the test set and prepare submission"
   ]
  },
  {
   "cell_type": "code",
   "execution_count": null,
   "id": "1802688d-1d22-4007-872d-9fd9749a15cd",
   "metadata": {},
   "outputs": [],
   "source": [
    "tweets_test = pd.read_csv('data/nlp-getting-started/test.csv')\n",
    "tweets_test.head()"
   ]
  },
  {
   "cell_type": "code",
   "execution_count": null,
   "id": "7d761bd4-8508-4f75-b4eb-e8a0c8ae5b20",
   "metadata": {},
   "outputs": [],
   "source": [
    "test_pred = grid.predict(vect.transform(tweets_test['text']))"
   ]
  },
  {
   "cell_type": "code",
   "execution_count": null,
   "id": "98ba35b5-c52f-4aa9-8be7-38f917e68d5e",
   "metadata": {},
   "outputs": [],
   "source": [
    "df_submission = pd.DataFrame()\n",
    "df_submission['id'] = tweets_test['id']\n",
    "df_submission['target'] = test_pred\n",
    "df_submission.head()"
   ]
  },
  {
   "cell_type": "code",
   "execution_count": null,
   "id": "8e2bbd36-ace4-4d7d-80b5-dba427148d57",
   "metadata": {},
   "outputs": [],
   "source": [
    "df_submission.to_csv('data/nlp-getting-started/2022-11-16-submission.csv',index=False)"
   ]
  },
  {
   "cell_type": "code",
   "execution_count": null,
   "id": "f405fd21-b919-4615-81d3-87f8859734df",
   "metadata": {},
   "outputs": [],
   "source": [
    "!head data/nlp-getting-started/2022-11-16-submission.csv"
   ]
  },
  {
   "cell_type": "markdown",
   "id": "dcc03e6a-d5b9-4dc7-a037-227fe715cf1c",
   "metadata": {},
   "source": [
    "### Submission to Kaggle \n",
    "\n",
    "With the Kaggle CLI\n",
    "\n",
    "```bash\n",
    "kaggle competitions submit -c nlp-getting-started -f data/nlp-getting-started/2022-11-16-submission.csv -m 'sklearn CountVectorizer and LogisticRegression, cv_val f1=0.75'\n",
    "```\n",
    "\n",
    "Or manually on the competition website.\n",
    "\n",
    "Submitted 2022-11-16\n",
    "\n",
    "training score (f1) 0.870  \n",
    "validation score (f1) 0.748  \n",
    "\n",
    "Public score 0.78945 \n",
    "\n",
    "Position 492"
   ]
  },
  {
   "cell_type": "code",
   "execution_count": null,
   "id": "84fd7171-94a3-40f7-84b4-adcee06df3a1",
   "metadata": {},
   "outputs": [],
   "source": []
  }
 ],
 "metadata": {
  "kernelspec": {
   "display_name": "Python 3 (ipykernel)",
   "language": "python",
   "name": "python3"
  },
  "language_info": {
   "codemirror_mode": {
    "name": "ipython",
    "version": 3
   },
   "file_extension": ".py",
   "mimetype": "text/x-python",
   "name": "python",
   "nbconvert_exporter": "python",
   "pygments_lexer": "ipython3",
   "version": "3.11.5"
  }
 },
 "nbformat": 4,
 "nbformat_minor": 5
}
