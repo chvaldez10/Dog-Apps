{
 "cells": [
  {
   "cell_type": "markdown",
   "metadata": {},
   "source": [
    "# Working with Time-Series Data\n",
    "\n",
    "Revisiting RAM price example from Chapter 2.\n"
   ]
  },
  {
   "cell_type": "code",
   "execution_count": null,
   "metadata": {},
   "outputs": [],
   "source": [
    "import numpy as np\n",
    "import pandas as pd\n",
    "import matplotlib.pyplot as plt\n",
    "import seaborn as sns"
   ]
  },
  {
   "cell_type": "code",
   "execution_count": null,
   "metadata": {},
   "outputs": [],
   "source": [
    "import mglearn"
   ]
  },
  {
   "cell_type": "markdown",
   "metadata": {},
   "source": [
    "## 1. Loading and preparing RAM prices dataset"
   ]
  },
  {
   "cell_type": "code",
   "execution_count": null,
   "metadata": {},
   "outputs": [],
   "source": [
    "import os\n",
    "ram_prices = pd.read_csv(os.path.join(mglearn.datasets.DATA_PATH, \"ram_price.csv\"))\n",
    "\n",
    "plt.semilogy(ram_prices.date, ram_prices.price)\n",
    "plt.xlabel(\"Year\")\n",
    "plt.ylabel(\"Price in $/Mbyte\")\n"
   ]
  },
  {
   "cell_type": "markdown",
   "metadata": {},
   "source": [
    "### 1.1 Constructing date-time index\n",
    "\n",
    "The native date is in decimal year format, e.g. 2001.4. In order to leverage our date-time techniques, we convert to Python datetime object."
   ]
  },
  {
   "cell_type": "code",
   "execution_count": null,
   "metadata": {},
   "outputs": [],
   "source": [
    "# Use the fractional part to build month and day\n",
    "# Use pd.to_datetime() and pd.DateTimeIndex()\n",
    "# For example, 100th day of the year\n",
    "pd.to_datetime(100, format='%j') # %j expects a day [1, 366]"
   ]
  },
  {
   "cell_type": "code",
   "execution_count": null,
   "metadata": {},
   "outputs": [],
   "source": [
    "pd.DatetimeIndex([pd.to_datetime(100, format='%j')])"
   ]
  },
  {
   "cell_type": "code",
   "execution_count": null,
   "metadata": {},
   "outputs": [],
   "source": [
    "# Use the fractional part to build month and day\n",
    "month_day = pd.DatetimeIndex(pd.to_datetime(365 * (ram_prices.date % 1) + 1, format='%j'))"
   ]
  },
  {
   "cell_type": "code",
   "execution_count": null,
   "metadata": {},
   "outputs": [],
   "source": [
    "# Use the integer part to build the year\n",
    "# Hint: use pd.to_datetime() and pd.DateTimeIndex()\n",
    "year = pd.DatetimeIndex(pd.to_datetime(ram_prices.date, format='%Y')).year"
   ]
  },
  {
   "cell_type": "code",
   "execution_count": null,
   "metadata": {},
   "outputs": [],
   "source": [
    "# combine year-month-day into datetime and assign to 'date' column\n",
    "# Hint: with year, month and day in columns of df, \n",
    "# pd.to_datetime(df) combines into a single column\n",
    "\n",
    "df = pd.DataFrame({'year':[2021],\n",
    "                  'month':[2],\n",
    "                  'day': [14]})\n",
    "df"
   ]
  },
  {
   "cell_type": "code",
   "execution_count": null,
   "metadata": {},
   "outputs": [],
   "source": [
    "pd.to_datetime(df)"
   ]
  },
  {
   "cell_type": "code",
   "execution_count": null,
   "metadata": {},
   "outputs": [],
   "source": [
    "# combine year-month-day into datetime and assign to 'date' column\n",
    "\n",
    "df = pd.DataFrame({'year': year.values,\n",
    "                   'month': month_day.month.values,\n",
    "                   'day': month_day.day.values})\n",
    "df['date'] = pd.to_datetime(df)\n",
    "\n",
    "# Create a column 'price' and use the log of ram_prices as the values\n",
    "df['price'] = np.log(ram_prices.price)\n",
    "\n",
    "# Use 'date' column as index (using .set_index()) \n",
    "df = df.set_index('date')\n",
    "\n",
    "# Remove 'year', 'month', 'day' columns\n",
    "df = df.drop(columns=['year', 'month', 'day'])\n",
    "df"
   ]
  },
  {
   "cell_type": "markdown",
   "metadata": {},
   "source": [
    "### 1.2 Resample to regular time steps\n",
    "\n",
    "To use the shift techniques, it is best to have regularly spaced time steps.\n",
    "\n",
    "We resample to three month steps. \n",
    "\n",
    "**Note:** In the beginning of the data, sampling is coarser and resampling creates `nan`. We fill these in with forward fill (copy numbers forward).\n",
    "\n",
    "See https://pandas.pydata.org/pandas-docs/stable/reference/api/pandas.DataFrame.resample.html\n",
    "\n",
    "for more information on resampling."
   ]
  },
  {
   "cell_type": "code",
   "execution_count": null,
   "metadata": {},
   "outputs": [],
   "source": [
    "df.resample(\"3M\").mean().head()"
   ]
  },
  {
   "cell_type": "code",
   "execution_count": null,
   "metadata": {},
   "outputs": [],
   "source": [
    "df.resample(\"3M\").mean().fillna(method='ffill').head()"
   ]
  },
  {
   "cell_type": "code",
   "execution_count": null,
   "metadata": {},
   "outputs": [],
   "source": [
    "ram = df.resample(\"3M\").mean().fillna(method='ffill')"
   ]
  },
  {
   "cell_type": "code",
   "execution_count": null,
   "metadata": {},
   "outputs": [],
   "source": [
    "ram.head()"
   ]
  },
  {
   "cell_type": "code",
   "execution_count": null,
   "metadata": {},
   "outputs": [],
   "source": [
    "ram.plot()"
   ]
  },
  {
   "cell_type": "markdown",
   "metadata": {},
   "source": [
    "## 2. Regression using date-time features"
   ]
  },
  {
   "cell_type": "markdown",
   "metadata": {},
   "source": [
    "### 2.1 Preparing date-time features"
   ]
  },
  {
   "cell_type": "code",
   "execution_count": null,
   "metadata": {},
   "outputs": [],
   "source": [
    "X_year_month = pd.DataFrame(np.hstack([ram.index.year.values.reshape(-1, 1),\n",
    "                                           ram.index.month.values.reshape(-1, 1)]),\n",
    "                           columns=['year', 'month'])\n",
    "\n",
    "y = ram.price"
   ]
  },
  {
   "cell_type": "code",
   "execution_count": null,
   "metadata": {
    "tags": []
   },
   "outputs": [],
   "source": [
    "X_year_month.head()"
   ]
  },
  {
   "cell_type": "code",
   "execution_count": null,
   "metadata": {},
   "outputs": [],
   "source": [
    "print(X_year_month.shape)"
   ]
  },
  {
   "cell_type": "code",
   "execution_count": null,
   "metadata": {},
   "outputs": [],
   "source": [
    "print(y.shape)"
   ]
  },
  {
   "cell_type": "markdown",
   "metadata": {},
   "source": [
    "### 2.2 Import utility functions\n",
    "Utility functions are now in a module so that all notebooks can use them"
   ]
  },
  {
   "cell_type": "code",
   "execution_count": null,
   "metadata": {},
   "outputs": [],
   "source": [
    "from timeseries_utils import create_xticks, eval_on_features"
   ]
  },
  {
   "cell_type": "code",
   "execution_count": null,
   "metadata": {},
   "outputs": [],
   "source": [
    "xticks = create_xticks(ram.index, freq='24M',fmt_str=\"%Y\" )"
   ]
  },
  {
   "cell_type": "markdown",
   "metadata": {},
   "source": [
    "Customizing the `eval_on_features` function with partial"
   ]
  },
  {
   "cell_type": "code",
   "execution_count": null,
   "metadata": {},
   "outputs": [],
   "source": [
    "from functools import partial\n",
    "eval_on_features_3 = partial(eval_on_features,\n",
    "                             n_val=60, \n",
    "                             y_str=\"log(RAM price)\",\n",
    "                             xticks=xticks)"
   ]
  },
  {
   "cell_type": "markdown",
   "metadata": {},
   "source": [
    "### 2.3 Preparing split object for cross-validation"
   ]
  },
  {
   "cell_type": "code",
   "execution_count": null,
   "metadata": {},
   "outputs": [],
   "source": [
    "from sklearn.model_selection import TimeSeriesSplit\n",
    "tscv = TimeSeriesSplit(n_splits=3)\n",
    "\n",
    "for train_index, test_index in tscv.split(X_year_month):\n",
    "    print(\"train size:\", train_index.shape, \"test size:\", test_index.shape)"
   ]
  },
  {
   "cell_type": "markdown",
   "metadata": {},
   "source": [
    "### 2.4 Random Forest Regressor"
   ]
  },
  {
   "cell_type": "code",
   "execution_count": null,
   "metadata": {},
   "outputs": [],
   "source": [
    "from sklearn.ensemble import RandomForestRegressor\n",
    "from sklearn.model_selection import cross_val_score\n",
    "\n",
    "rf_regressor = RandomForestRegressor(n_estimators=100, random_state=0)"
   ]
  },
  {
   "cell_type": "code",
   "execution_count": null,
   "metadata": {},
   "outputs": [],
   "source": [
    "eval_on_features_3(X_year_month, \n",
    "                 y, \n",
    "                 rf_regressor)\n",
    "plt.grid()"
   ]
  },
  {
   "cell_type": "code",
   "execution_count": null,
   "metadata": {},
   "outputs": [],
   "source": [
    "scores = cross_val_score(rf_regressor, X_year_month, y, cv=tscv)\n",
    "\n",
    "print(scores)\n",
    "print(f\"mean= {scores.mean():.3f}\")"
   ]
  },
  {
   "cell_type": "markdown",
   "metadata": {},
   "source": [
    "**Question:** Why is Random forest failing here?\n",
    "\n",
    "Only month would be a feature that provides previous values. It might be that year is more prominent and hence could not extrapolate.\n",
    "\n",
    "Check by looking at feature importances."
   ]
  },
  {
   "cell_type": "code",
   "execution_count": null,
   "metadata": {},
   "outputs": [],
   "source": [
    "n_features = X_year_month.shape[1]\n",
    "plt.barh(np.arange(n_features), rf_regressor.feature_importances_, align='center')\n",
    "plt.yticks(np.arange(n_features),X_year_month.columns)\n",
    "plt.xlabel(\"Feature importance\")\n",
    "plt.ylabel(\"Feature\")\n",
    "plt.ylim(-1, n_features);"
   ]
  },
  {
   "cell_type": "markdown",
   "metadata": {},
   "source": [
    "### 2.5 Linear regression with l2 regularization (ridge)"
   ]
  },
  {
   "cell_type": "code",
   "execution_count": null,
   "metadata": {},
   "outputs": [],
   "source": [
    "from sklearn.linear_model import Ridge\n",
    "\n",
    "ridge = Ridge()"
   ]
  },
  {
   "cell_type": "code",
   "execution_count": null,
   "metadata": {},
   "outputs": [],
   "source": [
    "eval_on_features_3(X_year_month, \n",
    "                 y, \n",
    "                 ridge)\n",
    "plt.grid()"
   ]
  },
  {
   "cell_type": "code",
   "execution_count": null,
   "metadata": {},
   "outputs": [],
   "source": [
    "scores = cross_val_score(ridge, X_year_month, y, cv=tscv)\n",
    "print(scores)\n",
    "print(f\"mean= {scores.mean():.3f}\")"
   ]
  },
  {
   "cell_type": "code",
   "execution_count": null,
   "metadata": {},
   "outputs": [],
   "source": [
    "plt.figure(figsize=(6, 2))\n",
    "plt.plot(ridge.coef_,'o')\n",
    "plt.ylim([-0.5, 0])\n",
    "plt.xticks(np.arange(len(ridge.coef_)), X_year_month.columns, rotation=90)\n",
    "plt.xlabel(\"Feature name\")\n",
    "plt.ylabel(\"Feature magnitude\")\n",
    "plt.grid();"
   ]
  },
  {
   "cell_type": "markdown",
   "metadata": {},
   "source": [
    "## 3. Multiple lag features\n",
    "\n",
    "We can use this shifting technique to engineer multiple feature columns, each with a different lag.\n",
    "\n",
    "One time step is 3 months. We include lags of 1-4 3 months chunks. This would mean that we need one year worth of data to do predictions."
   ]
  },
  {
   "cell_type": "markdown",
   "metadata": {},
   "source": [
    "### 3.1 Preparing lag features"
   ]
  },
  {
   "cell_type": "code",
   "execution_count": null,
   "metadata": {},
   "outputs": [],
   "source": [
    "y_df = pd.DataFrame(y.values)\n",
    "\n",
    "X_shift = pd.DataFrame(y.values, columns=['original'])\n",
    "\n",
    "for shift in range(1,5):\n",
    "    \n",
    "    col_name = f'lag_{shift}'\n",
    "    X_shift[col_name] = y_df.shift(shift)\n",
    "\n",
    "X_shift = X_shift.dropna()"
   ]
  },
  {
   "cell_type": "code",
   "execution_count": null,
   "metadata": {},
   "outputs": [],
   "source": [
    "X_shift"
   ]
  },
  {
   "cell_type": "markdown",
   "metadata": {},
   "source": [
    "### 3.2 Random Forest Regressor"
   ]
  },
  {
   "cell_type": "code",
   "execution_count": null,
   "metadata": {},
   "outputs": [],
   "source": [
    "eval_on_features_3(X_shift.drop(columns=['original']), \n",
    "                 X_shift['original'], \n",
    "                 rf_regressor)\n",
    "plt.grid()"
   ]
  },
  {
   "cell_type": "code",
   "execution_count": null,
   "metadata": {},
   "outputs": [],
   "source": [
    "scores = cross_val_score(rf_regressor, \n",
    "                         X_shift.drop(columns=['original']),\n",
    "                         X_shift['original'],\n",
    "                         cv=tscv)\n",
    "print(scores)\n",
    "print(f\"mean= {scores.mean():.3f}\")"
   ]
  },
  {
   "cell_type": "code",
   "execution_count": null,
   "metadata": {},
   "outputs": [],
   "source": [
    "n_features = X_shift.drop(columns=['original']).shape[1]\n",
    "plt.barh(np.arange(n_features), rf_regressor.feature_importances_, align='center')\n",
    "plt.yticks(np.arange(n_features),X_shift.drop(columns=['original']).columns)\n",
    "plt.xlabel(\"Feature importance\")\n",
    "plt.ylabel(\"Feature\")\n",
    "plt.ylim(-1, n_features);"
   ]
  },
  {
   "cell_type": "markdown",
   "metadata": {},
   "source": [
    "### 3.3 Linear regression with l2 regularization (ridge)"
   ]
  },
  {
   "cell_type": "code",
   "execution_count": null,
   "metadata": {},
   "outputs": [],
   "source": [
    "eval_on_features_3(X_shift.drop(columns=['original']), \n",
    "                 X_shift['original'], \n",
    "                 ridge)\n",
    "plt.grid()"
   ]
  },
  {
   "cell_type": "code",
   "execution_count": null,
   "metadata": {},
   "outputs": [],
   "source": [
    "scores = cross_val_score(ridge, \n",
    "                         X_shift.drop(columns=['original']),\n",
    "                         X_shift['original'],\n",
    "                         cv=tscv)\n",
    "print(scores)\n",
    "print(f\"mean= {scores.mean():.3f}\")"
   ]
  },
  {
   "cell_type": "code",
   "execution_count": null,
   "metadata": {},
   "outputs": [],
   "source": [
    "plt.figure(figsize=(6, 2))\n",
    "plt.plot(ridge.coef_,'o')\n",
    "plt.xticks(np.arange(len(ridge.coef_)), X_shift.drop(columns=['original']).columns, rotation=90)\n",
    "plt.xlabel(\"Feature name\")\n",
    "plt.ylabel(\"Feature magnitude\")\n",
    "plt.grid();"
   ]
  },
  {
   "cell_type": "markdown",
   "metadata": {},
   "source": [
    "## 4. Summary\n",
    "There is not much seasonality in this dataset. Random Forest is not able to predict, since it would need to extraplolate. As we know, Random Forest cannot predict values it has not seen during training.\n",
    "\n",
    "Ridge regression provides an OK model, however, it primarely uses the previous value (lag 1) to predict the next.\n"
   ]
  },
  {
   "cell_type": "code",
   "execution_count": null,
   "metadata": {},
   "outputs": [],
   "source": []
  }
 ],
 "metadata": {
  "kernelspec": {
   "display_name": "Python 3 (ipykernel)",
   "language": "python",
   "name": "python3"
  },
  "language_info": {
   "codemirror_mode": {
    "name": "ipython",
    "version": 3
   },
   "file_extension": ".py",
   "mimetype": "text/x-python",
   "name": "python",
   "nbconvert_exporter": "python",
   "pygments_lexer": "ipython3",
   "version": "3.11.5"
  }
 },
 "nbformat": 4,
 "nbformat_minor": 4
}
