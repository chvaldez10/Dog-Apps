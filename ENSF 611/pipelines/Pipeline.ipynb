{
 "cells": [
  {
   "cell_type": "markdown",
   "id": "6f7c089a",
   "metadata": {},
   "source": [
    "# Pipelines \n",
    "\n",
    "We can stack various pre-processing methods and the machine learning model in a pipeline\n",
    "\n",
    "For example, if all features were nominal (categorical without order), we could stack a `OneHotEncoder()` followed by a classifier, e.g. `LogisticRegression()`\n",
    "\n",
    "Conversion of the features happens under the hood"
   ]
  },
  {
   "cell_type": "code",
   "execution_count": null,
   "id": "14ea1a53",
   "metadata": {},
   "outputs": [],
   "source": [
    "import numpy as np\n",
    "from sklearn.preprocessing import OneHotEncoder\n",
    "from sklearn.preprocessing import OrdinalEncoder"
   ]
  },
  {
   "cell_type": "code",
   "execution_count": null,
   "id": "1ceeeef4",
   "metadata": {},
   "outputs": [],
   "source": [
    "X = np.array([\n",
    "    ['sunny', 'summer'],\n",
    "    ['rainy', 'summer'],\n",
    "    ['rainy', 'fall'],\n",
    "    ['cloudy', 'winter'],\n",
    "    ['very rainy', 'spring'],\n",
    "    ['sunny', 'winter'],\n",
    "    ['partially cloudy', 'spring']\n",
    "])\n",
    "\n",
    "y = np.array([\n",
    "    'T-shirt',\n",
    "    'T-shirt',\n",
    "    'Coat',\n",
    "    'Coat',\n",
    "    'Coat',\n",
    "    'Coat',\n",
    "    'T-shirt'\n",
    "])"
   ]
  },
  {
   "cell_type": "code",
   "execution_count": null,
   "id": "2618742e",
   "metadata": {},
   "outputs": [],
   "source": [
    "X.shape"
   ]
  },
  {
   "cell_type": "code",
   "execution_count": null,
   "id": "082b3ebb",
   "metadata": {},
   "outputs": [],
   "source": [
    "y.shape"
   ]
  },
  {
   "cell_type": "code",
   "execution_count": null,
   "id": "f0904517",
   "metadata": {},
   "outputs": [],
   "source": [
    "from sklearn.pipeline import make_pipeline\n",
    "from sklearn.linear_model import LogisticRegression\n",
    "\n",
    "model = make_pipeline(OneHotEncoder(),\n",
    "                      LogisticRegression())"
   ]
  },
  {
   "cell_type": "code",
   "execution_count": null,
   "id": "1ad72898",
   "metadata": {},
   "outputs": [],
   "source": [
    "model.fit(X, y)"
   ]
  },
  {
   "cell_type": "code",
   "execution_count": null,
   "id": "5de2d248",
   "metadata": {},
   "outputs": [],
   "source": [
    "model.score(X, y)"
   ]
  },
  {
   "cell_type": "code",
   "execution_count": null,
   "id": "ba63176d",
   "metadata": {},
   "outputs": [],
   "source": [
    "model.predict([['cloudy', 'spring']])"
   ]
  },
  {
   "cell_type": "markdown",
   "id": "b5ca01bc",
   "metadata": {},
   "source": [
    "We can setup the same pipeline with an `OrdinalEncoder()`. However, these features do not have order (so we should not!)"
   ]
  },
  {
   "cell_type": "code",
   "execution_count": null,
   "id": "12ec6640",
   "metadata": {},
   "outputs": [],
   "source": [
    "model = make_pipeline(OrdinalEncoder(),\n",
    "                      LogisticRegression())\n",
    "model.fit(X, y)\n",
    "model.score(X, y)"
   ]
  },
  {
   "cell_type": "code",
   "execution_count": null,
   "id": "0d5750f7",
   "metadata": {},
   "outputs": [],
   "source": [
    "model.predict([['cloudy', 'spring']])"
   ]
  },
  {
   "cell_type": "markdown",
   "id": "4dffaeeb",
   "metadata": {},
   "source": [
    "We get a different answer. Note that Decision Tree methods might be less susceptible to this"
   ]
  },
  {
   "cell_type": "markdown",
   "id": "e4681fc7",
   "metadata": {},
   "source": [
    "## Practice encoding and pipeline with a decision tree"
   ]
  },
  {
   "cell_type": "code",
   "execution_count": null,
   "id": "a6864fd7",
   "metadata": {},
   "outputs": [],
   "source": [
    "X = np.array([\n",
    "    ['sunny', 'summer'],\n",
    "    ['rainy', 'summer'],\n",
    "    ['rainy', 'fall'],\n",
    "    ['cloudy', 'winter'],\n",
    "    ['very rainy', 'spring'],\n",
    "    ['sunny', 'winter'],\n",
    "    ['partially cloudy', 'spring']\n",
    "])\n",
    "\n",
    "y = np.array([\n",
    "    'T-shirt',\n",
    "    'T-shirt',\n",
    "    'Coat',\n",
    "    'Coat',\n",
    "    'Coat',\n",
    "    'Coat',\n",
    "    'T-shirt'\n",
    "])"
   ]
  },
  {
   "cell_type": "markdown",
   "id": "1652db61",
   "metadata": {},
   "source": [
    "### Question: Can you build and visualize a decision tree using this data and a pipeline?"
   ]
  },
  {
   "cell_type": "code",
   "execution_count": null,
   "id": "f1e49ceb",
   "metadata": {},
   "outputs": [],
   "source": [
    "from sklearn.preprocessing import OneHotEncoder\n",
    "from sklearn.pipeline import make_pipeline\n",
    "from sklearn.tree import DecisionTreeClassifier\n",
    "\n",
    "model = make_pipeline(OneHotEncoder(),\n",
    "                      DecisionTreeClassifier())"
   ]
  },
  {
   "cell_type": "code",
   "execution_count": null,
   "id": "7ea2cc52",
   "metadata": {},
   "outputs": [],
   "source": [
    "# Fit model\n",
    "model.fit(X, y)"
   ]
  },
  {
   "cell_type": "code",
   "execution_count": null,
   "id": "d4e6d033",
   "metadata": {},
   "outputs": [],
   "source": [
    "# Get training score\n",
    "model.score(X, y)"
   ]
  },
  {
   "cell_type": "code",
   "execution_count": null,
   "id": "00783b3f",
   "metadata": {},
   "outputs": [],
   "source": [
    "# export tree as graphviz object\n",
    "\n",
    "from sklearn.tree import export_graphviz\n",
    "export_graphviz(model.named_steps['decisiontreeclassifier'], \n",
    "                feature_names=model.named_steps['onehotencoder'].get_feature_names_out(),\n",
    "                class_names=np.unique(y),\n",
    "                out_file=\"weather-tree.dot\", impurity=True, filled=True)\n",
    "\n",
    "import graphviz\n",
    "\n",
    "with open(\"weather-tree.dot\") as f:\n",
    "    dot_graph = f.read()\n",
    "display(graphviz.Source(dot_graph))"
   ]
  },
  {
   "cell_type": "markdown",
   "id": "e8827565",
   "metadata": {},
   "source": [
    "gini impurity is $\\sum_{i=classes} p_{i}*(1-p_{i})$\n",
    "\n",
    "with  \n",
    "Number of samples=5  \n",
    "class 0 (Coat): 4  \n",
    "class 1 (T-shirt): 1  \n",
    "\n",
    "$p_{coat} = 4/5$  \n",
    "\n",
    "$p_{shirt} = 1/5$"
   ]
  },
  {
   "cell_type": "code",
   "execution_count": null,
   "id": "8a3dcc19",
   "metadata": {},
   "outputs": [],
   "source": [
    "# calculate gini impurity\n",
    "gini = 4/5*(1-4/5) + 1/5*(1-1/5)\n",
    "gini"
   ]
  }
 ],
 "metadata": {
  "kernelspec": {
   "display_name": "Python 3 (ipykernel)",
   "language": "python",
   "name": "python3"
  },
  "language_info": {
   "codemirror_mode": {
    "name": "ipython",
    "version": 3
   },
   "file_extension": ".py",
   "mimetype": "text/x-python",
   "name": "python",
   "nbconvert_exporter": "python",
   "pygments_lexer": "ipython3",
   "version": "3.11.5"
  }
 },
 "nbformat": 4,
 "nbformat_minor": 5
}
