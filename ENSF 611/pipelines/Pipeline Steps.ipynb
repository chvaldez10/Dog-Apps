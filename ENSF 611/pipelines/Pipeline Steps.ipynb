{
 "cells": [
  {
   "cell_type": "markdown",
   "id": "9243dde9-38b6-443c-821b-67181b53af66",
   "metadata": {},
   "source": [
    "# Pipeline Steps\n",
    "\n",
    "\n",
    "Reference _Introduction to Machine Learning_ [Chapter 6](https://github.com/amueller/introduction_to_ml_with_python/blob/master/06-algorithm-chains-and-pipelines.ipynb):\n",
    "-  6. Algorithm Chains and Pipelines to 6.4 The General Pipeline interface\n",
    "\n"
   ]
  },
  {
   "cell_type": "code",
   "execution_count": null,
   "id": "0d851615-78c5-4d37-b4d0-26e94b725a8e",
   "metadata": {},
   "outputs": [],
   "source": [
    "import numpy as np\n",
    "import pandas as pd\n",
    "import matplotlib.pyplot as plt\n",
    "import seaborn as sns"
   ]
  },
  {
   "cell_type": "code",
   "execution_count": null,
   "id": "8dcc62dd-4eb2-46b3-b3a0-e3abb9acd87f",
   "metadata": {},
   "outputs": [],
   "source": [
    "import mglearn"
   ]
  },
  {
   "cell_type": "markdown",
   "id": "3e0d863a",
   "metadata": {},
   "source": [
    "This example demonstrates how to use `Pipeline` for the breast cancer dataset used previously"
   ]
  },
  {
   "cell_type": "markdown",
   "id": "2c952a04-f2c7-42b2-a871-74575aea95c0",
   "metadata": {},
   "source": [
    "## 1. The plan\n",
    "1. Load breast cancer dataset, and split off a test portion\n",
    "1. Create a pipeline with pre-processing and classification\n",
    "1. Use grid search to find which combination of pre-processing and classifier works best\n",
    "\n",
    "Notes:\n",
    "- Breast cancer has all numerical features, likely StandardScaler, MinMaxScaler will help\n",
    "- Comparing a linear and non-linear classifier"
   ]
  },
  {
   "cell_type": "markdown",
   "id": "15427ea4-20f6-41ce-b243-ccb773f662ea",
   "metadata": {},
   "source": [
    "## 2. Load and split the data \n",
    "Notes:\n",
    "- use `random_state=0` when splitting"
   ]
  },
  {
   "cell_type": "code",
   "execution_count": null,
   "id": "ebff1ca9-63de-43d4-887c-ed0e1811825f",
   "metadata": {},
   "outputs": [],
   "source": [
    "from sklearn.datasets import load_breast_cancer"
   ]
  },
  {
   "cell_type": "code",
   "execution_count": null,
   "id": "45b182d4-bcca-4aea-b2a7-19c003ee1b97",
   "metadata": {},
   "outputs": [],
   "source": [
    "X, y = load_breast_cancer(return_X_y=True)\n",
    "print(X.shape)\n",
    "print(y.shape)"
   ]
  },
  {
   "cell_type": "code",
   "execution_count": null,
   "id": "a1d2daaf-d983-42e1-84ea-c800a56dc8e0",
   "metadata": {},
   "outputs": [],
   "source": [
    "from sklearn.model_selection import train_test_split\n",
    "X_train, X_test, y_train, y_test = train_test_split(X, y, random_state=0)\n"
   ]
  },
  {
   "cell_type": "markdown",
   "id": "758ad596-2ef4-442f-bba1-f6ca275dcf98",
   "metadata": {},
   "source": [
    "## 3. Create the pipeline with processing and classifier steps \n",
    "\n",
    "Notes:\n",
    "- Use `StandardScaler()` and `SVC(kernel=linear)` as placeholders\n",
    "- Call `fit()` and `score()` on training data to verify\n",
    "- use sklearn `set_config()` to display pipeline as diagram"
   ]
  },
  {
   "cell_type": "code",
   "execution_count": null,
   "id": "1eb8dfc0-c0c4-49d1-b5fc-02d153a29dd6",
   "metadata": {},
   "outputs": [],
   "source": [
    "from sklearn.preprocessing import StandardScaler\n",
    "from sklearn.pipeline import Pipeline\n",
    "from sklearn.svm import SVC\n",
    "\n"
   ]
  },
  {
   "cell_type": "code",
   "execution_count": null,
   "id": "9285081b-6b14-4a57-89f9-8d5c492e9397",
   "metadata": {},
   "outputs": [],
   "source": [
    "pipe = Pipeline([('preprocessing', StandardScaler()), ('classifier', SVC(kernel='linear'))])\n",
    "pipe"
   ]
  },
  {
   "cell_type": "code",
   "execution_count": null,
   "id": "d6652f51-0835-4ff8-adca-86b9ce097952",
   "metadata": {},
   "outputs": [],
   "source": [
    "from sklearn import set_config\n",
    "set_config(display='diagram')\n",
    "pipe"
   ]
  },
  {
   "cell_type": "code",
   "execution_count": null,
   "id": "0e60f507-f1f5-4ef6-b74e-13d465223389",
   "metadata": {},
   "outputs": [],
   "source": [
    "pipe.fit(X_train, y_train)\n",
    "print(f'Training accuracy {pipe.score(X_train, y_train):.2f} on {y_train.shape} samples')"
   ]
  },
  {
   "cell_type": "code",
   "execution_count": null,
   "id": "53384d8a-68af-4d49-bb07-dc8315b3c736",
   "metadata": {},
   "outputs": [],
   "source": [
    "set_config(display='text')\n",
    "pipe.named_steps.preprocessing"
   ]
  },
  {
   "cell_type": "markdown",
   "id": "42beb9ec-ddb9-4122-ba6e-a92bf583732b",
   "metadata": {},
   "source": [
    "## 4. Use grid search to find best combination of pre-processing and classifier\n",
    "\n",
    "Notes:\n",
    "- parameter grid can be a list of dictionaries\n",
    "- use `'classifier__parameter_name'` to define grid search for parameter names\n",
    "- Compare `SVC(kernel='linear')` and `RandomForestClassifier(random_state=43)`\n",
    "- Set preprocessing to `[None]` for random forest"
   ]
  },
  {
   "cell_type": "code",
   "execution_count": null,
   "id": "f6392529-538f-4d9e-bf49-df9288836eaa",
   "metadata": {},
   "outputs": [],
   "source": [
    "from sklearn.ensemble import RandomForestClassifier\n",
    "from sklearn.model_selection import GridSearchCV\n",
    "\n",
    "param_grid = [{'classifier': [SVC(kernel='linear')], \n",
    "               'classifier__C': [0.01, 0.1, 1.0, 10.0],\n",
    "               'preprocessing': [StandardScaler(), None]\n",
    "              },\n",
    "              {'classifier': [RandomForestClassifier(random_state=43)], \n",
    "               'classifier__max_depth': [3, 5, 7, 9],\n",
    "               'preprocessing': [None]\n",
    "              }]\n",
    "\n",
    "grid = GridSearchCV(pipe, param_grid, cv=5)\n"
   ]
  },
  {
   "cell_type": "code",
   "execution_count": null,
   "id": "f0784a40-d3e7-4a44-b105-07f365063584",
   "metadata": {},
   "outputs": [],
   "source": [
    "grid.fit(X_train, y_train)"
   ]
  },
  {
   "cell_type": "code",
   "execution_count": null,
   "id": "6816055e-4e02-4cb0-a80c-dee77141835d",
   "metadata": {},
   "outputs": [],
   "source": [
    "grid.best_estimator_"
   ]
  },
  {
   "cell_type": "code",
   "execution_count": null,
   "id": "c6f254e9-8c5a-47be-828c-e58eccdd5099",
   "metadata": {},
   "outputs": [],
   "source": [
    "grid.best_params_"
   ]
  },
  {
   "cell_type": "code",
   "execution_count": null,
   "id": "6d229e7f-89a4-4714-9344-7803b7d5139d",
   "metadata": {},
   "outputs": [],
   "source": [
    "print(f'Cross-Validation accuracy {grid.best_score_:.2f}')\n",
    "print(f'Test accuracy {grid.score(X_test, y_test):.2f}')"
   ]
  },
  {
   "cell_type": "code",
   "execution_count": null,
   "id": "c4363a5f-60e0-4a8e-b817-4a14ec4667d4",
   "metadata": {},
   "outputs": [],
   "source": []
  }
 ],
 "metadata": {
  "kernelspec": {
   "display_name": "Python 3 (ipykernel)",
   "language": "python",
   "name": "python3"
  },
  "language_info": {
   "codemirror_mode": {
    "name": "ipython",
    "version": 3
   },
   "file_extension": ".py",
   "mimetype": "text/x-python",
   "name": "python",
   "nbconvert_exporter": "python",
   "pygments_lexer": "ipython3",
   "version": "3.11.5"
  }
 },
 "nbformat": 4,
 "nbformat_minor": 5
}
