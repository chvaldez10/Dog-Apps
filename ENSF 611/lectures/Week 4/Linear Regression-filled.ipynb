{
 "cells": [
  {
   "cell_type": "markdown",
   "metadata": {},
   "source": [
    "# Linear models\n",
    "Following _Introduction to Machine Learning with Python_ Section 2.3.3 Linear Models (p.47)\n",
    "\n",
    "Linear models take a **linear** combination of features to predict the target. If the target is a continuous variable, we use _regression_, e.g. `LinearRegression()` in Scikit-learn. If the target is categorical (binary, or multivalued), we use _classification_, e.g. `LogisticRegression()` in Scikit-learn.\n",
    "\n",
    "Linear models are often a good baseline."
   ]
  },
  {
   "cell_type": "code",
   "execution_count": 1,
   "metadata": {},
   "outputs": [],
   "source": [
    "import numpy as np\n",
    "import pandas as pd\n",
    "import matplotlib.pyplot as plt\n",
    "import seaborn as sns"
   ]
  },
  {
   "cell_type": "code",
   "execution_count": 2,
   "metadata": {},
   "outputs": [],
   "source": [
    "import warnings\n",
    "warnings.filterwarnings('ignore') #ignoring some deprication warnings"
   ]
  },
  {
   "cell_type": "markdown",
   "metadata": {},
   "source": [
    "## Linear models for regression\n",
    "\n",
    "For a one dimensional problem, we have a single feature column `x` and linear regression represents a line:\n",
    "\n",
    "$\\hat{y}[i] = w[0]\\cdot x[i][0] + b$\n",
    "\n",
    "we have a single coefficient $w$ and intercept $b$ that minimize the mean-squared error. The cost function to minimize is:\n",
    "\n",
    "$f(w, b) = \\frac{1}{N}\\sum_i \\left(y[i] - (w[0]\\cdot x[i][0] + b)\\right)^2$\n",
    "\n",
    "where $N$ is the number of samples `n_samples` - the number of rows in our feature matrix."
   ]
  },
  {
   "cell_type": "code",
   "execution_count": 3,
   "metadata": {},
   "outputs": [],
   "source": [
    "import mglearn"
   ]
  },
  {
   "cell_type": "code",
   "execution_count": 4,
   "metadata": {},
   "outputs": [
    {
     "name": "stdout",
     "output_type": "stream",
     "text": [
      "w[0]: 0.393906  b: -0.031804\n"
     ]
    },
    {
     "data": {
      "image/png": "[encoded data removed]",
      "text/plain": [
       "<Figure size 800x800 with 1 Axes>"
      ]
     },
     "metadata": {},
     "output_type": "display_data"
    }
   ],
   "source": [
    "mglearn.plots.plot_linear_regression_wave()"
   ]
  },
  {
   "cell_type": "markdown",
   "metadata": {},
   "source": [
    "In **linear** regression, the target values get approximated with a **linear** segment, a line (plane or hyperplane), such that the mean-squared error is minimized."
   ]
  },
  {
   "cell_type": "markdown",
   "metadata": {},
   "source": [
    "## Ordinary least squares "
   ]
  },
  {
   "cell_type": "code",
   "execution_count": null,
   "metadata": {},
   "outputs": [],
   "source": [
    "from sklearn.linear_model import LinearRegression\n",
    "from sklearn.model_selection import train_test_split\n",
    "\n",
    "X, y = mglearn.datasets.make_wave(n_samples=60)\n",
    "\n",
    "X_train, X_val, y_train, y_val = train_test_split(X, y, random_state=42)\n",
    "\n",
    "lr = LinearRegression().fit(X_train, y_train)"
   ]
  },
  {
   "cell_type": "code",
   "execution_count": null,
   "metadata": {},
   "outputs": [],
   "source": [
    "print(\"lr.coef_: \", lr.coef_)\n",
    "print(\"lr.intercept_: \", lr.intercept_)"
   ]
  },
  {
   "cell_type": "markdown",
   "metadata": {},
   "source": [
    "The model 'learned' the slope $w$ and intercept $b$ parameters. They are stored in `coef_` and `intercept_`, respectively."
   ]
  },
  {
   "cell_type": "markdown",
   "metadata": {},
   "source": [
    "Let's see if we are under- or overfitting. What should we look for?"
   ]
  },
  {
   "cell_type": "code",
   "execution_count": null,
   "metadata": {},
   "outputs": [],
   "source": [
    "print(\"Training score: {:.2f}\".format(lr.score(X_train, y_train)))\n",
    "print(\"Validation score: {:.2f}\".format(lr.score(X_val, y_val)))"
   ]
  },
  {
   "cell_type": "markdown",
   "metadata": {},
   "source": [
    "Training and validation scores are **similar**/different, we have high/**low** variance.  \n",
    "Maximum score is 1.0 (it is $R^2$). Validation scores are close/**far** from maximum, we have **high**/low bias.  \n",
    "\n",
    "We are over/**under** fitting."
   ]
  },
  {
   "cell_type": "markdown",
   "metadata": {},
   "source": [
    "### A dataset with more features - extended Boston housing dataset.  \n",
    "Refer to section 2.3.1 Some Sample Datasets to learn more about the extended Boston housing dataset."
   ]
  },
  {
   "cell_type": "code",
   "execution_count": null,
   "metadata": {},
   "outputs": [],
   "source": [
    "X, y = mglearn.datasets.load_extended_boston()\n",
    "print(X.shape)\n",
    "print(y.shape)"
   ]
  },
  {
   "cell_type": "code",
   "execution_count": null,
   "metadata": {},
   "outputs": [],
   "source": [
    "X_train, X_val, y_train, y_val = train_test_split(X, y, random_state=0)\n",
    "\n",
    "lr = LinearRegression().fit(X_train, y_train)\n",
    "\n",
    "print(\"Training score: {:.2f}\".format(lr.score(X_train, y_train)))\n",
    "print(\"Validation score: {:.2f}\".format(lr.score(X_val, y_val)))"
   ]
  },
  {
   "cell_type": "markdown",
   "metadata": {},
   "source": [
    "Training and validation scores are similar/**different**, we have **high**/low variance.   \n",
    "\n",
    "We are **over**/under fitting.  \n",
    "\n",
    "To deal with high variance we need to make the model more/**less** complex. One way would be to choose a different model. Another is to use **regularization**."
   ]
  },
  {
   "cell_type": "markdown",
   "metadata": {},
   "source": [
    "## Ridge regression - minimize square of $l_2$ norm\n",
    "\n",
    "In addition to minimizing mean-squared error, Ridge regression mimimizes the $l_2$ norm or the sum of squares of the model parameters/coefficients. The magnitudes of the $w$'s should be a small as possible.\n",
    "\n",
    "The square of the $l_2$ norm of the $w$'s is defined as:\n",
    "$\\Vert w\\Vert^2_2 = \\sum w_i^2$\n",
    "\n",
    "The cost function to minimize becomes:\n",
    "\n",
    "$f(w, b) = \\alpha\\cdot \\Vert w\\Vert^2_2 + \\frac{1}{N}\\sum_i \\left(y[i] - (w\\cdot x[i] + b)\\right)^2$\n"
   ]
  },
  {
   "cell_type": "code",
   "execution_count": null,
   "metadata": {},
   "outputs": [],
   "source": [
    "from sklearn.linear_model import Ridge\n",
    "\n",
    "ridge = Ridge().fit(X_train, y_train)\n",
    "print(\"Training score: {:.2f}\".format(ridge.score(X_train, y_train)))\n",
    "print(\"Validation score: {:.2f}\".format(ridge.score(X_val, y_val)))"
   ]
  },
  {
   "cell_type": "markdown",
   "metadata": {},
   "source": [
    "The model parameter `alpha` controls how much regularization is added. Default is `alpha=1.0`. **Higher** values of `alpha` result in **more** regularization. We expect training score to go down and variance to go down."
   ]
  },
  {
   "cell_type": "code",
   "execution_count": null,
   "metadata": {},
   "outputs": [],
   "source": [
    "ridge10 = Ridge(alpha=10).fit(X_train, y_train)\n",
    "print(\"Training score: {:.2f}\".format(ridge10.score(X_train, y_train)))\n",
    "print(\"Validation score: {:.2f}\".format(ridge10.score(X_val, y_val)))"
   ]
  },
  {
   "cell_type": "markdown",
   "metadata": {},
   "source": [
    "**Lower** values of `alpha` result in **less** regularization. We expect training score to go up and variance to go up (a bit)."
   ]
  },
  {
   "cell_type": "code",
   "execution_count": null,
   "metadata": {},
   "outputs": [],
   "source": [
    "ridge01 = Ridge(alpha=0.1).fit(X_train, y_train)\n",
    "print(\"Training score: {:.2f}\".format(ridge01.score(X_train, y_train)))\n",
    "print(\"Validation score: {:.2f}\".format(ridge01.score(X_val, y_val)))"
   ]
  },
  {
   "cell_type": "markdown",
   "metadata": {},
   "source": [
    "We are interested in how the model *generalizes*, the validation score. We would pick `alpha=0.1` here.\n",
    "\n",
    "The more we regularize using $l_2$, the smaller all coefficients get."
   ]
  },
  {
   "cell_type": "code",
   "execution_count": null,
   "metadata": {},
   "outputs": [],
   "source": [
    "plt.plot(ridge.coef_, 's', label=\"Ridge alpha=1\")\n",
    "plt.plot(ridge10.coef_, '^', label=\"Ridge alpha=10\")\n",
    "plt.plot(ridge01.coef_, 'v', label=\"Ridge alpha=0.1\")\n",
    "\n",
    "plt.plot(lr.coef_, 'o', label=\"LinearRegression\")\n",
    "plt.xlabel(\"Coefficient index\")\n",
    "plt.ylabel(\"Coefficient magnitude\")\n",
    "xlims = plt.xlim()\n",
    "plt.hlines(0, xlims[0], xlims[1])\n",
    "plt.xlim(xlims)\n",
    "plt.ylim(-25, 25)\n",
    "plt.legend()"
   ]
  },
  {
   "cell_type": "markdown",
   "metadata": {},
   "source": [
    "### Ridge regression learning curve "
   ]
  },
  {
   "cell_type": "code",
   "execution_count": null,
   "metadata": {},
   "outputs": [],
   "source": [
    "mglearn.plots.plot_ridge_n_samples()"
   ]
  },
  {
   "cell_type": "markdown",
   "metadata": {},
   "source": [
    "Adding more data helps reducing overfitting. With more data regularization becomes less important."
   ]
  },
  {
   "cell_type": "markdown",
   "metadata": {},
   "source": [
    "## Lasso regression - minimize $l_1$ norm\n",
    "\n",
    "Similar to ridge regression, lasso adds a regularization term. The $l_1$ norm is the sum of absolute values of the model parameters/coefficients, the $w$'s. By minimizing $l_1$ some $w$'s will be exactly zero.\n",
    "\n",
    "The the $l_1$ norm of the $w$'s is defined as:\n",
    "$\\Vert w\\Vert_1 = \\sum \\vert w_i\\vert$\n",
    "\n",
    "The cost function to minimize becomes:\n",
    "\n",
    "$f(w, b) = \\alpha\\cdot \\Vert w\\Vert_1 + \\frac{1}{N}\\sum_i \\left(y[i] - (w\\cdot x[i] + b)\\right)^2$\n",
    "\n"
   ]
  },
  {
   "cell_type": "code",
   "execution_count": null,
   "metadata": {},
   "outputs": [],
   "source": [
    "from sklearn.linear_model import Lasso\n",
    "\n",
    "lasso = Lasso().fit(X_train, y_train)\n",
    "print(\"Training set score: {:.2f}\".format(lasso.score(X_train, y_train)))\n",
    "print(\"Validation set score: {:.2f}\".format(lasso.score(X_val, y_val)))\n",
    "print(\"Number of features used:\", np.sum(lasso.coef_ != 0))"
   ]
  },
  {
   "cell_type": "markdown",
   "metadata": {},
   "source": [
    "Again, the model parameter `alpha` controls how much regularization is added. Default is `alpha=1.0`. \n",
    "\n",
    "Since we have **high**/low bias, our model is too **simple**/complex. We need more/**less** regularization.\n",
    "\n",
    "**Higher** values of `alpha` result in **more** regularization.  \n",
    "**Lower** values of `alpha` result in **less** regularization. \n",
    "\n",
    "Let's drop `alpha`."
   ]
  },
  {
   "cell_type": "code",
   "execution_count": null,
   "metadata": {},
   "outputs": [],
   "source": [
    "# we increase the default setting of \"max_iter\",\n",
    "# otherwise the model would warn us that we should increase max_iter.\n",
    "lasso001 = Lasso(alpha=0.01, max_iter=100000).fit(X_train, y_train)\n",
    "print(\"Training set score: {:.2f}\".format(lasso001.score(X_train, y_train)))\n",
    "print(\"Validation set score: {:.2f}\".format(lasso001.score(X_val, y_val)))\n",
    "print(\"Number of features used:\", np.sum(lasso001.coef_ != 0))"
   ]
  },
  {
   "cell_type": "code",
   "execution_count": null,
   "metadata": {},
   "outputs": [],
   "source": [
    "lasso00001 = Lasso(alpha=0.0001, max_iter=100000).fit(X_train, y_train)\n",
    "print(\"Training set score: {:.2f}\".format(lasso00001.score(X_train, y_train)))\n",
    "print(\"Validation set score: {:.2f}\".format(lasso00001.score(X_val, y_val)))\n",
    "print(\"Number of features used:\", np.sum(lasso00001.coef_ != 0))"
   ]
  },
  {
   "cell_type": "markdown",
   "metadata": {},
   "source": [
    "**Question:** Which `alpha` from the above would you choose and why?\n",
    "\n",
    "**Answer:** We are interested in how well the model generalizes, highest validation score. We would choose `alpha=0.01`"
   ]
  },
  {
   "cell_type": "markdown",
   "metadata": {},
   "source": [
    "The more we regularize using $l_1$, the more zero coefficients we get."
   ]
  },
  {
   "cell_type": "code",
   "execution_count": null,
   "metadata": {},
   "outputs": [],
   "source": [
    "plt.plot(lasso.coef_, 's', label=\"Lasso alpha=1\")\n",
    "plt.plot(lasso001.coef_, '^', label=\"Lasso alpha=0.01\")\n",
    "plt.plot(lasso00001.coef_, 'v', label=\"Lasso alpha=0.0001\")\n",
    "\n",
    "plt.plot(ridge01.coef_, 'o', label=\"Ridge alpha=0.1\")\n",
    "plt.legend(ncol=2, loc=(0, 1.05))\n",
    "plt.ylim(-25, 25)\n",
    "plt.xlabel(\"Coefficient index\")\n",
    "plt.ylabel(\"Coefficient magnitude\")"
   ]
  },
  {
   "cell_type": "markdown",
   "metadata": {},
   "source": [
    "## ElasticNet - combining $l_1$ and $l_2$ regularization \n",
    "\n",
    "Try out ElasticNet"
   ]
  },
  {
   "cell_type": "code",
   "execution_count": null,
   "metadata": {},
   "outputs": [],
   "source": [
    "from sklearn.linear_model import ElasticNet\n",
    "\n",
    "enet = ElasticNet().fit(X_train, y_train)\n",
    "print(\"Training set score: {:.2f}\".format(enet.score(X_train, y_train)))\n",
    "print(\"Validation set score: {:.2f}\".format(enet.score(X_val, y_val)))\n",
    "print(\"Number of features used:\", np.sum(enet.coef_ != 0))"
   ]
  },
  {
   "cell_type": "markdown",
   "metadata": {},
   "source": [
    "There are two hyperparameters now: `alpha=1.0` and `l1_ratio=0.5`. The latter says, $l_1$ and $l_2$ have equal weight.\n",
    "\n",
    "Let's drop `alpha`:"
   ]
  },
  {
   "cell_type": "code",
   "execution_count": null,
   "metadata": {},
   "outputs": [],
   "source": [
    "enet = ElasticNet(alpha=0.01).fit(X_train, y_train)\n",
    "print(\"Training set score: {:.2f}\".format(enet.score(X_train, y_train)))\n",
    "print(\"Validation set score: {:.2f}\".format(enet.score(X_val, y_val)))\n",
    "print(\"Number of features used:\", np.sum(enet.coef_ != 0))"
   ]
  },
  {
   "cell_type": "markdown",
   "metadata": {},
   "source": [
    "More $l_1$:"
   ]
  },
  {
   "cell_type": "code",
   "execution_count": null,
   "metadata": {},
   "outputs": [],
   "source": [
    "enet = ElasticNet(alpha=0.01, l1_ratio=0.8, max_iter=100000).fit(X_train, y_train)\n",
    "print(\"Training set score: {:.2f}\".format(enet.score(X_train, y_train)))\n",
    "print(\"Validation set score: {:.2f}\".format(enet.score(X_val, y_val)))\n",
    "print(\"Number of features used:\", np.sum(enet.coef_ != 0))"
   ]
  },
  {
   "cell_type": "markdown",
   "metadata": {},
   "source": [
    "More $l_2$:"
   ]
  },
  {
   "cell_type": "code",
   "execution_count": null,
   "metadata": {},
   "outputs": [],
   "source": [
    "enet = ElasticNet(alpha=0.01, l1_ratio=0.3, max_iter=100000).fit(X_train, y_train)\n",
    "print(\"Training set score: {:.2f}\".format(enet.score(X_train, y_train)))\n",
    "print(\"Validation set score: {:.2f}\".format(enet.score(X_val, y_val)))\n",
    "print(\"Number of features used:\", np.sum(enet.coef_ != 0))"
   ]
  },
  {
   "cell_type": "markdown",
   "metadata": {},
   "source": [
    "A little bit less regularization."
   ]
  },
  {
   "cell_type": "code",
   "execution_count": null,
   "metadata": {},
   "outputs": [],
   "source": [
    "enet = ElasticNet(alpha=0.001, l1_ratio=0.8, max_iter=100000).fit(X_train, y_train)\n",
    "print(\"Training set score: {:.2f}\".format(enet.score(X_train, y_train)))\n",
    "print(\"Validation set score: {:.2f}\".format(enet.score(X_val, y_val)))\n",
    "print(\"Number of features used:\", np.sum(enet.coef_ != 0))"
   ]
  },
  {
   "cell_type": "code",
   "execution_count": null,
   "metadata": {},
   "outputs": [],
   "source": []
  }
 ],
 "metadata": {
  "kernelspec": {
   "display_name": "Python 3 (ipykernel)",
   "language": "python",
   "name": "python3"
  },
  "language_info": {
   "codemirror_mode": {
    "name": "ipython",
    "version": 3
   },
   "file_extension": ".py",
   "mimetype": "text/x-python",
   "name": "python",
   "nbconvert_exporter": "python",
   "pygments_lexer": "ipython3",
   "version": "3.11.5"
  }
 },
 "nbformat": 4,
 "nbformat_minor": 4
}
