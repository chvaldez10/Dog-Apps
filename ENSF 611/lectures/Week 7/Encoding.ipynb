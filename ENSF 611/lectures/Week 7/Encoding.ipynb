{
 "cells": [
  {
   "cell_type": "markdown",
   "id": "845a2047",
   "metadata": {},
   "source": [
    "## Feature engineering - categorical features\n",
    "\n",
    "While it is ok to have your target vector in classification represent categories as strings for example, categorical features need to be transformed in _scikit-learn_.\n",
    "\n",
    "There are two major types:\n",
    "1. Ordinal use `OrdinalEncoder`\n",
    "2. Nominal use `OneHotEncoder` (can handle non-string features, `DictVectorizer()` cannot)\n",
    "\n",
    "**Question:** What is the difference between ordinal and nominal features? Can you give examples?\n",
    "\n",
    "**Answer:** ..."
   ]
  },
  {
   "cell_type": "code",
   "execution_count": null,
   "id": "da4cd94a",
   "metadata": {},
   "outputs": [],
   "source": [
    "import pandas as pd"
   ]
  },
  {
   "cell_type": "code",
   "execution_count": null,
   "id": "e1620c80",
   "metadata": {},
   "outputs": [],
   "source": [
    "data = pd.DataFrame([\n",
    "    {'price': 850000, 'rooms': 4, 'neighborhood': 'Queen Anne'},\n",
    "    {'price': 700000, 'rooms': 3, 'neighborhood': 'Fremont'},\n",
    "    {'price': 650000, 'rooms': 3, 'neighborhood': 'Wallingford'},\n",
    "    {'price': 600000, 'rooms': 2, 'neighborhood': 'Fremont'}\n",
    "])"
   ]
  },
  {
   "cell_type": "code",
   "execution_count": null,
   "id": "fc28f76a",
   "metadata": {},
   "outputs": [],
   "source": [
    "data"
   ]
  },
  {
   "cell_type": "markdown",
   "id": "d24ecf39",
   "metadata": {},
   "source": [
    "### OrdinalEncoder\n",
    "**IMPORTANT:** Neighborhoods are _nominal_ and should not be encoded with an OrdinalEncoder. We do this here only for comparison to One-Hot Encoder."
   ]
  },
  {
   "cell_type": "code",
   "execution_count": null,
   "id": "382f90be",
   "metadata": {},
   "outputs": [],
   "source": [
    "from sklearn.preprocessing import OrdinalEncoder\n",
    "enc = OrdinalEncoder()\n",
    "enc.fit(data[['neighborhood']])"
   ]
  },
  {
   "cell_type": "code",
   "execution_count": null,
   "id": "b30f982a",
   "metadata": {},
   "outputs": [],
   "source": [
    "enc.categories_"
   ]
  },
  {
   "cell_type": "code",
   "execution_count": null,
   "id": "bef56094",
   "metadata": {},
   "outputs": [],
   "source": [
    "enc.transform(data[['neighborhood']])"
   ]
  },
  {
   "cell_type": "code",
   "execution_count": null,
   "id": "91c8fb22",
   "metadata": {},
   "outputs": [],
   "source": [
    "enc.inverse_transform([[1]])"
   ]
  },
  {
   "cell_type": "markdown",
   "id": "a7c23175",
   "metadata": {},
   "source": [
    "### OneHotEncoder "
   ]
  },
  {
   "cell_type": "code",
   "execution_count": null,
   "id": "e5528cba",
   "metadata": {},
   "outputs": [],
   "source": [
    "from sklearn.preprocessing import OneHotEncoder\n",
    "enc = OneHotEncoder(sparse_output=False)\n",
    "enc.fit(data[['neighborhood']])"
   ]
  },
  {
   "cell_type": "code",
   "execution_count": null,
   "id": "2342fe1f",
   "metadata": {},
   "outputs": [],
   "source": [
    "enc.get_feature_names_out()"
   ]
  },
  {
   "cell_type": "code",
   "execution_count": null,
   "id": "6d708c1e",
   "metadata": {},
   "outputs": [],
   "source": [
    "enc.transform(data[['neighborhood']])"
   ]
  },
  {
   "cell_type": "code",
   "execution_count": null,
   "id": "1cdb1493",
   "metadata": {},
   "outputs": [],
   "source": [
    "data_enc = pd.DataFrame(enc.transform(data[['neighborhood']]), columns=enc.get_feature_names_out())\n",
    "data_enc"
   ]
  },
  {
   "cell_type": "markdown",
   "id": "48173177",
   "metadata": {},
   "source": [
    "**Question:** Can you add `data_enc` to the original `data`, dropping the `'neighborhood'` column?"
   ]
  },
  {
   "cell_type": "code",
   "execution_count": null,
   "id": "8fd56138",
   "metadata": {},
   "outputs": [],
   "source": [
    "data.head()"
   ]
  },
  {
   "cell_type": "code",
   "execution_count": null,
   "id": "0143dd8d",
   "metadata": {},
   "outputs": [],
   "source": [
    "# Answer here\n"
   ]
  },
  {
   "cell_type": "markdown",
   "id": "bc6f2145",
   "metadata": {},
   "source": [
    "In practice, we would use `ColumnTransformer` in a pipeline. We will see this later."
   ]
  },
  {
   "cell_type": "markdown",
   "id": "40b261d1",
   "metadata": {},
   "source": [
    "## One-hot encoding (cont'd)\n",
    "\n",
    "We have already seen how one-hot encoding transforms a categorical feature column into multiple output columns containing 0's and 1's "
   ]
  },
  {
   "cell_type": "code",
   "execution_count": null,
   "id": "c44cccf0",
   "metadata": {},
   "outputs": [],
   "source": [
    "# create a DataFrame with an integer feature and a categorical string feature\n",
    "demo_df = pd.DataFrame({'Integer Feature': [0, 1, 2, 1],\n",
    "                        'Categorical Feature': ['socks', 'fox', 'socks', 'box']})\n",
    "display(demo_df)"
   ]
  },
  {
   "cell_type": "code",
   "execution_count": null,
   "id": "94b0773b",
   "metadata": {},
   "outputs": [],
   "source": [
    "from sklearn.preprocessing import OneHotEncoder\n",
    "# Setting sparse=False means OneHotEncode will return a numpy array, not a sparse matrix\n",
    "ohe = OneHotEncoder(sparse_output=False)\n",
    "print(ohe.fit_transform(demo_df))"
   ]
  },
  {
   "cell_type": "code",
   "execution_count": null,
   "id": "239226f8",
   "metadata": {},
   "outputs": [],
   "source": [
    "print(ohe.get_feature_names_out())"
   ]
  },
  {
   "cell_type": "markdown",
   "id": "1a834e12",
   "metadata": {},
   "source": [
    "### One-hot encoding a large dataset"
   ]
  },
  {
   "cell_type": "markdown",
   "id": "5fd6deb2",
   "metadata": {},
   "source": [
    "As an example, we will use the dataset of adult incomes in the United States, derived from the 1994 census database. The task of the adult dataset is to predict whether a worker has an income of over \\\\$50,000 or under \\\\$50,000. The features in this dataset include the workers’ ages, how they are employed (self employed, private industry employee, government employee, etc.), their education, their gender, their working hours per week, occupation, and more..."
   ]
  },
  {
   "cell_type": "code",
   "execution_count": null,
   "id": "af0e0114",
   "metadata": {},
   "outputs": [],
   "source": [
    "import mglearn\n",
    "import os\n",
    "# The file has no headers naming the columns, so we pass header=None\n",
    "# and provide the column names explicitly in \"names\"\n",
    "adult_path = os.path.join(mglearn.datasets.DATA_PATH, \"adult.data\")\n",
    "data = pd.read_csv(\n",
    "    adult_path, \n",
    "    header=None, \n",
    "    index_col=False,\n",
    "    skipinitialspace=True, #remove space after comma\n",
    "    names=['age', 'workclass', 'fnlwgt', 'education',  'education-num',\n",
    "           'marital-status', 'occupation', 'relationship', 'race', 'gender',\n",
    "           'capital-gain', 'capital-loss', 'hours-per-week', 'native-country',\n",
    "           'income'])\n",
    "# For illustration purposes, we only select some of the columns\n",
    "data = data[['age', 'workclass', 'education', 'gender', 'hours-per-week',\n",
    "             'occupation', 'income']]\n",
    "# IPython.display allows nice output formatting within the Jupyter notebook\n",
    "display(data.head())"
   ]
  },
  {
   "cell_type": "markdown",
   "id": "05ca59d4",
   "metadata": {},
   "source": [
    "In this dataset, __age__ and __hours-per-week__ are continuous features, which we know how to treat. The __workclass, education, sex, and occupation features__ are categorical, however. All of them come from a fixed list of possible values, as opposed to a range, and denote a qualitative property, as opposed to a quantity."
   ]
  },
  {
   "cell_type": "code",
   "execution_count": null,
   "id": "f455d8fa",
   "metadata": {},
   "outputs": [],
   "source": [
    "data.info()"
   ]
  },
  {
   "cell_type": "code",
   "execution_count": null,
   "id": "c8661aa9",
   "metadata": {},
   "outputs": [],
   "source": [
    "ohe = OneHotEncoder(sparse_output=False)\n",
    "print(ohe.fit_transform(data['education'].values.reshape(-1,1)).shape)"
   ]
  },
  {
   "cell_type": "markdown",
   "id": "8e1d1f63",
   "metadata": {},
   "source": [
    "One column goes in, 16 columns come out, meaning that the education column has 16 discrete values"
   ]
  },
  {
   "cell_type": "code",
   "execution_count": null,
   "id": "8d57a0c4",
   "metadata": {},
   "outputs": [],
   "source": [
    "print(ohe.get_feature_names_out(input_features=['education']))"
   ]
  }
 ],
 "metadata": {
  "kernelspec": {
   "display_name": "Python 3 (ipykernel)",
   "language": "python",
   "name": "python3"
  },
  "language_info": {
   "codemirror_mode": {
    "name": "ipython",
    "version": 3
   },
   "file_extension": ".py",
   "mimetype": "text/x-python",
   "name": "python",
   "nbconvert_exporter": "python",
   "pygments_lexer": "ipython3",
   "version": "3.11.5"
  }
 },
 "nbformat": 4,
 "nbformat_minor": 5
}
