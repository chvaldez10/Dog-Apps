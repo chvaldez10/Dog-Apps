{
 "cells": [
  {
   "cell_type": "code",
   "execution_count": 3,
   "metadata": {},
   "outputs": [],
   "source": [
    "paragraph = \"Betty bought some butter and the butter was so bitter. Betty bought some better butter to make the bitter butter better 14.\"\n",
    "p_data = {}\n",
    "\n",
    "p_split = paragraph.split(\" \")\n",
    "for p in p_split:\n",
    "    p_data[p] = p_data.get(p, 0) + 1"
   ]
  },
  {
   "cell_type": "code",
   "execution_count": 4,
   "metadata": {},
   "outputs": [
    {
     "data": {
      "text/plain": [
       "{'Betty': 2,\n",
       " 'bought': 2,\n",
       " 'some': 2,\n",
       " 'butter': 4,\n",
       " 'and': 1,\n",
       " 'the': 2,\n",
       " 'was': 1,\n",
       " 'so': 1,\n",
       " 'bitter.': 1,\n",
       " 'better': 2,\n",
       " 'to': 1,\n",
       " 'make': 1,\n",
       " 'bitter': 1,\n",
       " '14.': 1}"
      ]
     },
     "execution_count": 4,
     "metadata": {},
     "output_type": "execute_result"
    }
   ],
   "source": [
    "p_data"
   ]
  }
 ],
 "metadata": {
  "kernelspec": {
   "display_name": "Python 3",
   "language": "python",
   "name": "python3"
  },
  "language_info": {
   "codemirror_mode": {
    "name": "ipython",
    "version": 3
   },
   "file_extension": ".py",
   "mimetype": "text/x-python",
   "name": "python",
   "nbconvert_exporter": "python",
   "pygments_lexer": "ipython3",
   "version": "3.11.4"
  },
  "orig_nbformat": 4
 },
 "nbformat": 4,
 "nbformat_minor": 2
}
